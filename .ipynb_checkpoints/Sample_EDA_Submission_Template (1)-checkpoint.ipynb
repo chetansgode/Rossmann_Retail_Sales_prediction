{
 "cells": [
  {
   "cell_type": "markdown",
   "metadata": {
    "id": "vncDsAP0Gaoa"
   },
   "source": [
    "# **Project Name**    -\n",
    "\n"
   ]
  },
  {
   "cell_type": "markdown",
   "metadata": {
    "id": "beRrZCGUAJYm"
   },
   "source": [
    "##### **Project Type**    - EDA/Regression/\n",
    "##### **Contribution**    - Individual\n",
    "##### **Team Member 1 -**-Chetan Gode\n"
   ]
  },
  {
   "cell_type": "markdown",
   "metadata": {
    "id": "FJNUwmbgGyua"
   },
   "source": [
    "# **Project Summary -**"
   ]
  },
  {
   "cell_type": "markdown",
   "metadata": {
    "id": "F6v_1wHtG2nS"
   },
   "source": [
    "     Rossmann operates over 3000 drug store in 7 European countries. Currently Rossmann Store Manager are tasked with predicting their daily sales for up to six week in advance. Store sales are influenced by many factors, including Promotions,Competition, School and State holidays,Seasonality and locality.with thousand individual managers predicting sales based on their unique circumstances,the accuracy of results can be quite varied. \n",
    "     we have provided with historical sales data fo 1115 rossmann store and task is to forecast Sales"
   ]
  },
  {
   "cell_type": "markdown",
   "metadata": {
    "id": "w6K7xa23Elo4"
   },
   "source": [
    "# **GitHub Link -**"
   ]
  },
  {
   "cell_type": "markdown",
   "metadata": {
    "id": "h1o69JH3Eqqn"
   },
   "source": [
    "https://github.com/chetansgode/Rossmann_Retail_Sales_prediction.git\n"
   ]
  },
  {
   "cell_type": "markdown",
   "metadata": {
    "id": "yQaldy8SH6Dl"
   },
   "source": [
    "# **Problem Statement**\n"
   ]
  },
  {
   "cell_type": "markdown",
   "metadata": {
    "id": "DpeJGUA3kjGy"
   },
   "source": [
    "**we have provided with historical sales data for 1115 rossmann store and task is to forecast Sales and note that some store in dataset were temporary closed for refurbishment.**"
   ]
  },
  {
   "cell_type": "markdown",
   "metadata": {
    "id": "PH-0ReGfmX4f"
   },
   "source": [
    "#### **Define Your Business Objective?**\n",
    "  "
   ]
  },
  {
   "cell_type": "markdown",
   "metadata": {
    "id": "PhDvGCAqmjP1"
   },
   "source": [
    "Answer Here.To predict accurate Sales from historical data with considering all influenced factor that directly affect sales or demands."
   ]
  },
  {
   "cell_type": "markdown",
   "metadata": {
    "id": "mDgbUHAGgjLW"
   },
   "source": [
    "# **General Guidelines** : -"
   ]
  },
  {
   "cell_type": "markdown",
   "metadata": {
    "id": "ZrxVaUj-hHfC"
   },
   "source": [
    "1.   Well-structured, formatted, and commented code is required.\n",
    "2.   Exception Handling, Production Grade Code & Deployment Ready Code will be a plus. Those students will be awarded some additional credits.\n",
    "\n",
    "     The additional credits will have advantages over other students during Star Student selection.\n",
    "\n",
    "             [ Note: - Deployment Ready Code is defined as, the whole .ipynb notebook should be executable in one go\n",
    "                       without a single error logged. ]\n",
    "\n",
    "3.   Each and every logic should have proper comments.\n",
    "4. You may add as many number of charts you want. Make Sure for each and every chart the following format should be answered.\n",
    "\n",
    "\n",
    "```\n",
    "# Chart visualization code\n",
    "```\n",
    "\n",
    "\n",
    "*   Why did you pick the specific chart?\n",
    "*   What is/are the insight(s) found from the chart?\n",
    "* Will the gained insights help creating a positive business impact?\n",
    "Are there any insights that lead to negative growth? Justify with specific reason.\n",
    "\n",
    "5. You have to create at least 20 logical & meaningful charts having important insights.\n",
    "\n",
    "\n",
    "[ Hints : - Do the Vizualization in  a structured way while following \"UBM\" Rule.\n",
    "\n",
    "U - Univariate Analysis,\n",
    "\n",
    "B - Bivariate Analysis (Numerical - Categorical, Numerical - Numerical, Categorical - Categorical)\n",
    "\n",
    "M - Multivariate Analysis\n",
    " ]\n",
    "\n",
    "\n",
    "\n"
   ]
  },
  {
   "cell_type": "markdown",
   "metadata": {
    "id": "O_i_v8NEhb9l"
   },
   "source": [
    "# ***Let's Begin !***"
   ]
  },
  {
   "cell_type": "markdown",
   "metadata": {
    "id": "HhfV-JJviCcP"
   },
   "source": [
    "## ***1. Know Your Data***"
   ]
  },
  {
   "cell_type": "markdown",
   "metadata": {
    "id": "Y3lxredqlCYt"
   },
   "source": [
    "### Import Libraries"
   ]
  },
  {
   "cell_type": "code",
   "execution_count": 1,
   "metadata": {
    "id": "M8Vqi-pPk-HR"
   },
   "outputs": [],
   "source": [
    "import numpy as np \n",
    "import pandas as pd \n",
    "import matplotlib.pyplot as plt\n",
    "%matplotlib inline\n",
    "%lsmagic\n",
    "import seaborn as sns\n",
    "import warnings\n",
    "warnings.filterwarnings('ignore')\n"
   ]
  },
  {
   "cell_type": "markdown",
   "metadata": {
    "id": "3RnN4peoiCZX"
   },
   "source": [
    "### Dataset Loading"
   ]
  },
  {
   "cell_type": "code",
   "execution_count": 2,
   "metadata": {
    "id": "4CkvbW_SlZ_R"
   },
   "outputs": [],
   "source": [
    "df_store=pd.read_csv('C:/Users/Admin/Downloads/store (1).csv')\n",
    "df_sales=pd.read_csv('C:/Users/Admin/Downloads/Rossmann Stores Data (1).csv',parse_dates=['Date'])"
   ]
  },
  {
   "cell_type": "markdown",
   "metadata": {
    "id": "x71ZqKXriCWQ"
   },
   "source": [
    "### Dataset First View"
   ]
  },
  {
   "cell_type": "code",
   "execution_count": 3,
   "metadata": {
    "id": "LWNFOSvLl09H"
   },
   "outputs": [
    {
     "data": {
      "text/html": [
       "<div>\n",
       "<style scoped>\n",
       "    .dataframe tbody tr th:only-of-type {\n",
       "        vertical-align: middle;\n",
       "    }\n",
       "\n",
       "    .dataframe tbody tr th {\n",
       "        vertical-align: top;\n",
       "    }\n",
       "\n",
       "    .dataframe thead th {\n",
       "        text-align: right;\n",
       "    }\n",
       "</style>\n",
       "<table border=\"1\" class=\"dataframe\">\n",
       "  <thead>\n",
       "    <tr style=\"text-align: right;\">\n",
       "      <th></th>\n",
       "      <th>Store</th>\n",
       "      <th>StoreType</th>\n",
       "      <th>Assortment</th>\n",
       "      <th>CompetitionDistance</th>\n",
       "      <th>CompetitionOpenSinceMonth</th>\n",
       "      <th>CompetitionOpenSinceYear</th>\n",
       "      <th>Promo2</th>\n",
       "      <th>Promo2SinceWeek</th>\n",
       "      <th>Promo2SinceYear</th>\n",
       "      <th>PromoInterval</th>\n",
       "    </tr>\n",
       "  </thead>\n",
       "  <tbody>\n",
       "    <tr>\n",
       "      <th>0</th>\n",
       "      <td>1</td>\n",
       "      <td>c</td>\n",
       "      <td>a</td>\n",
       "      <td>1270.0</td>\n",
       "      <td>9.0</td>\n",
       "      <td>2008.0</td>\n",
       "      <td>0</td>\n",
       "      <td>NaN</td>\n",
       "      <td>NaN</td>\n",
       "      <td>NaN</td>\n",
       "    </tr>\n",
       "    <tr>\n",
       "      <th>1</th>\n",
       "      <td>2</td>\n",
       "      <td>a</td>\n",
       "      <td>a</td>\n",
       "      <td>570.0</td>\n",
       "      <td>11.0</td>\n",
       "      <td>2007.0</td>\n",
       "      <td>1</td>\n",
       "      <td>13.0</td>\n",
       "      <td>2010.0</td>\n",
       "      <td>Jan,Apr,Jul,Oct</td>\n",
       "    </tr>\n",
       "    <tr>\n",
       "      <th>2</th>\n",
       "      <td>3</td>\n",
       "      <td>a</td>\n",
       "      <td>a</td>\n",
       "      <td>14130.0</td>\n",
       "      <td>12.0</td>\n",
       "      <td>2006.0</td>\n",
       "      <td>1</td>\n",
       "      <td>14.0</td>\n",
       "      <td>2011.0</td>\n",
       "      <td>Jan,Apr,Jul,Oct</td>\n",
       "    </tr>\n",
       "    <tr>\n",
       "      <th>3</th>\n",
       "      <td>4</td>\n",
       "      <td>c</td>\n",
       "      <td>c</td>\n",
       "      <td>620.0</td>\n",
       "      <td>9.0</td>\n",
       "      <td>2009.0</td>\n",
       "      <td>0</td>\n",
       "      <td>NaN</td>\n",
       "      <td>NaN</td>\n",
       "      <td>NaN</td>\n",
       "    </tr>\n",
       "    <tr>\n",
       "      <th>4</th>\n",
       "      <td>5</td>\n",
       "      <td>a</td>\n",
       "      <td>a</td>\n",
       "      <td>29910.0</td>\n",
       "      <td>4.0</td>\n",
       "      <td>2015.0</td>\n",
       "      <td>0</td>\n",
       "      <td>NaN</td>\n",
       "      <td>NaN</td>\n",
       "      <td>NaN</td>\n",
       "    </tr>\n",
       "  </tbody>\n",
       "</table>\n",
       "</div>"
      ],
      "text/plain": [
       "   Store StoreType Assortment  CompetitionDistance  CompetitionOpenSinceMonth  \\\n",
       "0      1         c          a               1270.0                        9.0   \n",
       "1      2         a          a                570.0                       11.0   \n",
       "2      3         a          a              14130.0                       12.0   \n",
       "3      4         c          c                620.0                        9.0   \n",
       "4      5         a          a              29910.0                        4.0   \n",
       "\n",
       "   CompetitionOpenSinceYear  Promo2  Promo2SinceWeek  Promo2SinceYear  \\\n",
       "0                    2008.0       0              NaN              NaN   \n",
       "1                    2007.0       1             13.0           2010.0   \n",
       "2                    2006.0       1             14.0           2011.0   \n",
       "3                    2009.0       0              NaN              NaN   \n",
       "4                    2015.0       0              NaN              NaN   \n",
       "\n",
       "     PromoInterval  \n",
       "0              NaN  \n",
       "1  Jan,Apr,Jul,Oct  \n",
       "2  Jan,Apr,Jul,Oct  \n",
       "3              NaN  \n",
       "4              NaN  "
      ]
     },
     "execution_count": 3,
     "metadata": {},
     "output_type": "execute_result"
    }
   ],
   "source": [
    "df_store.head()"
   ]
  },
  {
   "cell_type": "code",
   "execution_count": 4,
   "metadata": {},
   "outputs": [
    {
     "data": {
      "text/html": [
       "<div>\n",
       "<style scoped>\n",
       "    .dataframe tbody tr th:only-of-type {\n",
       "        vertical-align: middle;\n",
       "    }\n",
       "\n",
       "    .dataframe tbody tr th {\n",
       "        vertical-align: top;\n",
       "    }\n",
       "\n",
       "    .dataframe thead th {\n",
       "        text-align: right;\n",
       "    }\n",
       "</style>\n",
       "<table border=\"1\" class=\"dataframe\">\n",
       "  <thead>\n",
       "    <tr style=\"text-align: right;\">\n",
       "      <th></th>\n",
       "      <th>Store</th>\n",
       "      <th>DayOfWeek</th>\n",
       "      <th>Date</th>\n",
       "      <th>Sales</th>\n",
       "      <th>Customers</th>\n",
       "      <th>Open</th>\n",
       "      <th>Promo</th>\n",
       "      <th>StateHoliday</th>\n",
       "      <th>SchoolHoliday</th>\n",
       "    </tr>\n",
       "  </thead>\n",
       "  <tbody>\n",
       "    <tr>\n",
       "      <th>0</th>\n",
       "      <td>1</td>\n",
       "      <td>5</td>\n",
       "      <td>2015-07-31</td>\n",
       "      <td>5263</td>\n",
       "      <td>555</td>\n",
       "      <td>1</td>\n",
       "      <td>1</td>\n",
       "      <td>0</td>\n",
       "      <td>1</td>\n",
       "    </tr>\n",
       "    <tr>\n",
       "      <th>1</th>\n",
       "      <td>2</td>\n",
       "      <td>5</td>\n",
       "      <td>2015-07-31</td>\n",
       "      <td>6064</td>\n",
       "      <td>625</td>\n",
       "      <td>1</td>\n",
       "      <td>1</td>\n",
       "      <td>0</td>\n",
       "      <td>1</td>\n",
       "    </tr>\n",
       "    <tr>\n",
       "      <th>2</th>\n",
       "      <td>3</td>\n",
       "      <td>5</td>\n",
       "      <td>2015-07-31</td>\n",
       "      <td>8314</td>\n",
       "      <td>821</td>\n",
       "      <td>1</td>\n",
       "      <td>1</td>\n",
       "      <td>0</td>\n",
       "      <td>1</td>\n",
       "    </tr>\n",
       "    <tr>\n",
       "      <th>3</th>\n",
       "      <td>4</td>\n",
       "      <td>5</td>\n",
       "      <td>2015-07-31</td>\n",
       "      <td>13995</td>\n",
       "      <td>1498</td>\n",
       "      <td>1</td>\n",
       "      <td>1</td>\n",
       "      <td>0</td>\n",
       "      <td>1</td>\n",
       "    </tr>\n",
       "    <tr>\n",
       "      <th>4</th>\n",
       "      <td>5</td>\n",
       "      <td>5</td>\n",
       "      <td>2015-07-31</td>\n",
       "      <td>4822</td>\n",
       "      <td>559</td>\n",
       "      <td>1</td>\n",
       "      <td>1</td>\n",
       "      <td>0</td>\n",
       "      <td>1</td>\n",
       "    </tr>\n",
       "  </tbody>\n",
       "</table>\n",
       "</div>"
      ],
      "text/plain": [
       "   Store  DayOfWeek       Date  Sales  Customers  Open  Promo StateHoliday  \\\n",
       "0      1          5 2015-07-31   5263        555     1      1            0   \n",
       "1      2          5 2015-07-31   6064        625     1      1            0   \n",
       "2      3          5 2015-07-31   8314        821     1      1            0   \n",
       "3      4          5 2015-07-31  13995       1498     1      1            0   \n",
       "4      5          5 2015-07-31   4822        559     1      1            0   \n",
       "\n",
       "   SchoolHoliday  \n",
       "0              1  \n",
       "1              1  \n",
       "2              1  \n",
       "3              1  \n",
       "4              1  "
      ]
     },
     "execution_count": 4,
     "metadata": {},
     "output_type": "execute_result"
    }
   ],
   "source": [
    "df_sales.head()"
   ]
  },
  {
   "cell_type": "markdown",
   "metadata": {
    "id": "7hBIi_osiCS2"
   },
   "source": [
    "### Dataset Rows & Columns count"
   ]
  },
  {
   "cell_type": "code",
   "execution_count": 5,
   "metadata": {
    "id": "Kllu7SJgmLij"
   },
   "outputs": [
    {
     "name": "stdout",
     "output_type": "stream",
     "text": [
      "(1115, 10)\n",
      "(1017209, 9)\n"
     ]
    }
   ],
   "source": [
    "# Dataset Rows & Columns count\n",
    "\n",
    "print(df_store.shape)\n",
    "print(df_sales.shape)\n"
   ]
  },
  {
   "cell_type": "markdown",
   "metadata": {
    "id": "JlHwYmJAmNHm"
   },
   "source": [
    "### Dataset Information"
   ]
  },
  {
   "cell_type": "code",
   "execution_count": 6,
   "metadata": {
    "id": "e9hRXRi6meOf"
   },
   "outputs": [
    {
     "name": "stdout",
     "output_type": "stream",
     "text": [
      "<class 'pandas.core.frame.DataFrame'>\n",
      "RangeIndex: 1115 entries, 0 to 1114\n",
      "Data columns (total 10 columns):\n",
      " #   Column                     Non-Null Count  Dtype  \n",
      "---  ------                     --------------  -----  \n",
      " 0   Store                      1115 non-null   int64  \n",
      " 1   StoreType                  1115 non-null   object \n",
      " 2   Assortment                 1115 non-null   object \n",
      " 3   CompetitionDistance        1112 non-null   float64\n",
      " 4   CompetitionOpenSinceMonth  761 non-null    float64\n",
      " 5   CompetitionOpenSinceYear   761 non-null    float64\n",
      " 6   Promo2                     1115 non-null   int64  \n",
      " 7   Promo2SinceWeek            571 non-null    float64\n",
      " 8   Promo2SinceYear            571 non-null    float64\n",
      " 9   PromoInterval              571 non-null    object \n",
      "dtypes: float64(5), int64(2), object(3)\n",
      "memory usage: 87.2+ KB\n"
     ]
    }
   ],
   "source": [
    "# Dataset Info\n",
    "df_store.info()\n"
   ]
  },
  {
   "cell_type": "code",
   "execution_count": 7,
   "metadata": {},
   "outputs": [
    {
     "name": "stdout",
     "output_type": "stream",
     "text": [
      "<class 'pandas.core.frame.DataFrame'>\n",
      "RangeIndex: 1017209 entries, 0 to 1017208\n",
      "Data columns (total 9 columns):\n",
      " #   Column         Non-Null Count    Dtype         \n",
      "---  ------         --------------    -----         \n",
      " 0   Store          1017209 non-null  int64         \n",
      " 1   DayOfWeek      1017209 non-null  int64         \n",
      " 2   Date           1017209 non-null  datetime64[ns]\n",
      " 3   Sales          1017209 non-null  int64         \n",
      " 4   Customers      1017209 non-null  int64         \n",
      " 5   Open           1017209 non-null  int64         \n",
      " 6   Promo          1017209 non-null  int64         \n",
      " 7   StateHoliday   1017209 non-null  object        \n",
      " 8   SchoolHoliday  1017209 non-null  int64         \n",
      "dtypes: datetime64[ns](1), int64(7), object(1)\n",
      "memory usage: 69.8+ MB\n"
     ]
    }
   ],
   "source": [
    "df_sales.info()"
   ]
  },
  {
   "cell_type": "markdown",
   "metadata": {
    "id": "35m5QtbWiB9F"
   },
   "source": [
    "#### Duplicate Values"
   ]
  },
  {
   "cell_type": "code",
   "execution_count": 8,
   "metadata": {
    "id": "1sLdpKYkmox0"
   },
   "outputs": [],
   "source": [
    "# Dataset Duplicate Value Count"
   ]
  },
  {
   "cell_type": "code",
   "execution_count": 9,
   "metadata": {},
   "outputs": [
    {
     "data": {
      "text/plain": [
       "0"
      ]
     },
     "execution_count": 9,
     "metadata": {},
     "output_type": "execute_result"
    }
   ],
   "source": [
    "df_store.duplicated().sum()"
   ]
  },
  {
   "cell_type": "code",
   "execution_count": 10,
   "metadata": {},
   "outputs": [
    {
     "data": {
      "text/plain": [
       "0"
      ]
     },
     "execution_count": 10,
     "metadata": {},
     "output_type": "execute_result"
    }
   ],
   "source": [
    "df_sales.duplicated().sum()"
   ]
  },
  {
   "cell_type": "code",
   "execution_count": 11,
   "metadata": {},
   "outputs": [],
   "source": [
    "#ie. no duplicate value in it."
   ]
  },
  {
   "cell_type": "markdown",
   "metadata": {
    "id": "PoPl-ycgm1ru"
   },
   "source": [
    "#### Missing Values/Null Values"
   ]
  },
  {
   "cell_type": "code",
   "execution_count": 12,
   "metadata": {
    "id": "GgHWkxvamxVg"
   },
   "outputs": [],
   "source": [
    "# Missing Values/Null Values Count"
   ]
  },
  {
   "cell_type": "markdown",
   "metadata": {},
   "source": [
    "### for store data "
   ]
  },
  {
   "cell_type": "code",
   "execution_count": 13,
   "metadata": {},
   "outputs": [
    {
     "data": {
      "text/plain": [
       "Store                          0\n",
       "StoreType                      0\n",
       "Assortment                     0\n",
       "CompetitionDistance            3\n",
       "CompetitionOpenSinceMonth    354\n",
       "CompetitionOpenSinceYear     354\n",
       "Promo2                         0\n",
       "Promo2SinceWeek              544\n",
       "Promo2SinceYear              544\n",
       "PromoInterval                544\n",
       "dtype: int64"
      ]
     },
     "execution_count": 13,
     "metadata": {},
     "output_type": "execute_result"
    }
   ],
   "source": [
    "df_store.isna().sum()"
   ]
  },
  {
   "cell_type": "code",
   "execution_count": 14,
   "metadata": {},
   "outputs": [
    {
     "name": "stdout",
     "output_type": "stream",
     "text": [
      "1       1\n",
      "742     1\n",
      "748     1\n",
      "747     1\n",
      "746     1\n",
      "       ..\n",
      "378     1\n",
      "379     1\n",
      "380     1\n",
      "381     1\n",
      "1115    1\n",
      "Name: Store, Length: 1115, dtype: int64\n",
      "a    602\n",
      "d    348\n",
      "c    148\n",
      "b     17\n",
      "Name: StoreType, dtype: int64\n",
      "a    593\n",
      "c    513\n",
      "b      9\n",
      "Name: Assortment, dtype: int64\n",
      "250.0     12\n",
      "1200.0     9\n",
      "190.0      8\n",
      "350.0      8\n",
      "50.0       8\n",
      "          ..\n",
      "4490.0     1\n",
      "8970.0     1\n",
      "9720.0     1\n",
      "5290.0     1\n",
      "1880.0     1\n",
      "Name: CompetitionDistance, Length: 654, dtype: int64\n",
      "9.0     125\n",
      "4.0      94\n",
      "11.0     92\n",
      "3.0      70\n",
      "7.0      67\n",
      "12.0     64\n",
      "10.0     61\n",
      "6.0      50\n",
      "5.0      44\n",
      "2.0      41\n",
      "8.0      39\n",
      "1.0      14\n",
      "Name: CompetitionOpenSinceMonth, dtype: int64\n",
      "2013.0    83\n",
      "2012.0    82\n",
      "2014.0    70\n",
      "2005.0    62\n",
      "2010.0    55\n",
      "2008.0    54\n",
      "2009.0    54\n",
      "2011.0    54\n",
      "2007.0    48\n",
      "2006.0    47\n",
      "2015.0    38\n",
      "2002.0    27\n",
      "2004.0    22\n",
      "2003.0    19\n",
      "2001.0    16\n",
      "2000.0    10\n",
      "1999.0     8\n",
      "1990.0     5\n",
      "1995.0     2\n",
      "1994.0     2\n",
      "1961.0     1\n",
      "1900.0     1\n",
      "1998.0     1\n",
      "Name: CompetitionOpenSinceYear, dtype: int64\n",
      "1    571\n",
      "0    544\n",
      "Name: Promo2, dtype: int64\n",
      "14.0    81\n",
      "40.0    77\n",
      "31.0    44\n",
      "10.0    42\n",
      "5.0     39\n",
      "1.0     35\n",
      "37.0    35\n",
      "13.0    34\n",
      "45.0    34\n",
      "22.0    33\n",
      "18.0    29\n",
      "35.0    25\n",
      "9.0     14\n",
      "27.0    11\n",
      "36.0    10\n",
      "48.0     9\n",
      "39.0     6\n",
      "23.0     5\n",
      "44.0     3\n",
      "6.0      1\n",
      "26.0     1\n",
      "50.0     1\n",
      "49.0     1\n",
      "28.0     1\n",
      "Name: Promo2SinceWeek, dtype: int64\n",
      "2011.0    128\n",
      "2013.0    120\n",
      "2014.0     95\n",
      "2012.0     81\n",
      "2009.0     73\n",
      "2010.0     64\n",
      "2015.0     10\n",
      "Name: Promo2SinceYear, dtype: int64\n",
      "Jan,Apr,Jul,Oct     335\n",
      "Feb,May,Aug,Nov     130\n",
      "Mar,Jun,Sept,Dec    106\n",
      "Name: PromoInterval, dtype: int64\n"
     ]
    }
   ],
   "source": [
    "#to remove above mention none value, checking data and to replace appropriate data in it\n",
    "\n",
    "for i in df_store.columns:\n",
    "    print(df_store[i].value_counts())"
   ]
  },
  {
   "cell_type": "code",
   "execution_count": 15,
   "metadata": {},
   "outputs": [],
   "source": [
    "df_store['CompetitionDistance'].fillna(np.mean(df_store['CompetitionDistance']),inplace=True)"
   ]
  },
  {
   "cell_type": "code",
   "execution_count": 16,
   "metadata": {},
   "outputs": [],
   "source": [
    "#replace all other none value with 0\n",
    "df_store.fillna(0,inplace=True)"
   ]
  },
  {
   "cell_type": "code",
   "execution_count": 17,
   "metadata": {},
   "outputs": [
    {
     "data": {
      "text/plain": [
       "Store                        0\n",
       "StoreType                    0\n",
       "Assortment                   0\n",
       "CompetitionDistance          0\n",
       "CompetitionOpenSinceMonth    0\n",
       "CompetitionOpenSinceYear     0\n",
       "Promo2                       0\n",
       "Promo2SinceWeek              0\n",
       "Promo2SinceYear              0\n",
       "PromoInterval                0\n",
       "dtype: int64"
      ]
     },
     "execution_count": 17,
     "metadata": {},
     "output_type": "execute_result"
    }
   ],
   "source": [
    "df_store.isna().sum()"
   ]
  },
  {
   "cell_type": "markdown",
   "metadata": {},
   "source": [
    "### for Sales data"
   ]
  },
  {
   "cell_type": "code",
   "execution_count": 18,
   "metadata": {},
   "outputs": [
    {
     "data": {
      "text/plain": [
       "Store            0\n",
       "DayOfWeek        0\n",
       "Date             0\n",
       "Sales            0\n",
       "Customers        0\n",
       "Open             0\n",
       "Promo            0\n",
       "StateHoliday     0\n",
       "SchoolHoliday    0\n",
       "dtype: int64"
      ]
     },
     "execution_count": 18,
     "metadata": {},
     "output_type": "execute_result"
    }
   ],
   "source": [
    "df_sales.isna().sum()"
   ]
  },
  {
   "cell_type": "code",
   "execution_count": 19,
   "metadata": {
    "id": "3q5wnI3om9sJ"
   },
   "outputs": [],
   "source": [
    "# Visualizing the missing values"
   ]
  },
  {
   "cell_type": "markdown",
   "metadata": {
    "id": "H0kj-8xxnORC"
   },
   "source": [
    "### What did you know about your dataset?"
   ]
  },
  {
   "cell_type": "markdown",
   "metadata": {
    "id": "gfoNAAC-nUe_"
   },
   "source": [
    "Answer Here"
   ]
  },
  {
   "cell_type": "markdown",
   "metadata": {
    "id": "nA9Y7ga8ng1Z"
   },
   "source": [
    "## ***2. Understanding Your Variables***"
   ]
  },
  {
   "cell_type": "code",
   "execution_count": 20,
   "metadata": {
    "id": "j7xfkqrt5Ag5"
   },
   "outputs": [
    {
     "name": "stdout",
     "output_type": "stream",
     "text": [
      "['Store', 'DayOfWeek', 'Date', 'Sales', 'Customers', 'Open', 'Promo', 'StateHoliday', 'SchoolHoliday']\n",
      "['Store', 'StoreType', 'Assortment', 'CompetitionDistance', 'CompetitionOpenSinceMonth', 'CompetitionOpenSinceYear', 'Promo2', 'Promo2SinceWeek', 'Promo2SinceYear', 'PromoInterval']\n"
     ]
    }
   ],
   "source": [
    "# Dataset Columns\n",
    "print(list(df_sales.columns))\n",
    "print(list(df_store.columns))"
   ]
  },
  {
   "cell_type": "markdown",
   "metadata": {
    "id": "PBTbrJXOngz2"
   },
   "source": [
    "###  Dataset Describe"
   ]
  },
  {
   "cell_type": "code",
   "execution_count": 21,
   "metadata": {
    "id": "aJV4KIxSnxay"
   },
   "outputs": [
    {
     "data": {
      "text/html": [
       "<div>\n",
       "<style scoped>\n",
       "    .dataframe tbody tr th:only-of-type {\n",
       "        vertical-align: middle;\n",
       "    }\n",
       "\n",
       "    .dataframe tbody tr th {\n",
       "        vertical-align: top;\n",
       "    }\n",
       "\n",
       "    .dataframe thead th {\n",
       "        text-align: right;\n",
       "    }\n",
       "</style>\n",
       "<table border=\"1\" class=\"dataframe\">\n",
       "  <thead>\n",
       "    <tr style=\"text-align: right;\">\n",
       "      <th></th>\n",
       "      <th>Store</th>\n",
       "      <th>CompetitionDistance</th>\n",
       "      <th>CompetitionOpenSinceMonth</th>\n",
       "      <th>CompetitionOpenSinceYear</th>\n",
       "      <th>Promo2</th>\n",
       "      <th>Promo2SinceWeek</th>\n",
       "      <th>Promo2SinceYear</th>\n",
       "    </tr>\n",
       "  </thead>\n",
       "  <tbody>\n",
       "    <tr>\n",
       "      <th>count</th>\n",
       "      <td>1115.00000</td>\n",
       "      <td>1115.000000</td>\n",
       "      <td>1115.000000</td>\n",
       "      <td>1115.000000</td>\n",
       "      <td>1115.000000</td>\n",
       "      <td>1115.000000</td>\n",
       "      <td>1115.000000</td>\n",
       "    </tr>\n",
       "    <tr>\n",
       "      <th>mean</th>\n",
       "      <td>558.00000</td>\n",
       "      <td>5404.901079</td>\n",
       "      <td>4.930942</td>\n",
       "      <td>1370.939013</td>\n",
       "      <td>0.512108</td>\n",
       "      <td>12.083408</td>\n",
       "      <td>1030.239462</td>\n",
       "    </tr>\n",
       "    <tr>\n",
       "      <th>std</th>\n",
       "      <td>322.01708</td>\n",
       "      <td>7652.849306</td>\n",
       "      <td>4.284924</td>\n",
       "      <td>935.467654</td>\n",
       "      <td>0.500078</td>\n",
       "      <td>15.542241</td>\n",
       "      <td>1006.038782</td>\n",
       "    </tr>\n",
       "    <tr>\n",
       "      <th>min</th>\n",
       "      <td>1.00000</td>\n",
       "      <td>20.000000</td>\n",
       "      <td>0.000000</td>\n",
       "      <td>0.000000</td>\n",
       "      <td>0.000000</td>\n",
       "      <td>0.000000</td>\n",
       "      <td>0.000000</td>\n",
       "    </tr>\n",
       "    <tr>\n",
       "      <th>25%</th>\n",
       "      <td>279.50000</td>\n",
       "      <td>720.000000</td>\n",
       "      <td>0.000000</td>\n",
       "      <td>0.000000</td>\n",
       "      <td>0.000000</td>\n",
       "      <td>0.000000</td>\n",
       "      <td>0.000000</td>\n",
       "    </tr>\n",
       "    <tr>\n",
       "      <th>50%</th>\n",
       "      <td>558.00000</td>\n",
       "      <td>2330.000000</td>\n",
       "      <td>4.000000</td>\n",
       "      <td>2006.000000</td>\n",
       "      <td>1.000000</td>\n",
       "      <td>1.000000</td>\n",
       "      <td>2009.000000</td>\n",
       "    </tr>\n",
       "    <tr>\n",
       "      <th>75%</th>\n",
       "      <td>836.50000</td>\n",
       "      <td>6875.000000</td>\n",
       "      <td>9.000000</td>\n",
       "      <td>2011.000000</td>\n",
       "      <td>1.000000</td>\n",
       "      <td>22.000000</td>\n",
       "      <td>2012.000000</td>\n",
       "    </tr>\n",
       "    <tr>\n",
       "      <th>max</th>\n",
       "      <td>1115.00000</td>\n",
       "      <td>75860.000000</td>\n",
       "      <td>12.000000</td>\n",
       "      <td>2015.000000</td>\n",
       "      <td>1.000000</td>\n",
       "      <td>50.000000</td>\n",
       "      <td>2015.000000</td>\n",
       "    </tr>\n",
       "  </tbody>\n",
       "</table>\n",
       "</div>"
      ],
      "text/plain": [
       "            Store  CompetitionDistance  CompetitionOpenSinceMonth  \\\n",
       "count  1115.00000          1115.000000                1115.000000   \n",
       "mean    558.00000          5404.901079                   4.930942   \n",
       "std     322.01708          7652.849306                   4.284924   \n",
       "min       1.00000            20.000000                   0.000000   \n",
       "25%     279.50000           720.000000                   0.000000   \n",
       "50%     558.00000          2330.000000                   4.000000   \n",
       "75%     836.50000          6875.000000                   9.000000   \n",
       "max    1115.00000         75860.000000                  12.000000   \n",
       "\n",
       "       CompetitionOpenSinceYear       Promo2  Promo2SinceWeek  Promo2SinceYear  \n",
       "count               1115.000000  1115.000000      1115.000000      1115.000000  \n",
       "mean                1370.939013     0.512108        12.083408      1030.239462  \n",
       "std                  935.467654     0.500078        15.542241      1006.038782  \n",
       "min                    0.000000     0.000000         0.000000         0.000000  \n",
       "25%                    0.000000     0.000000         0.000000         0.000000  \n",
       "50%                 2006.000000     1.000000         1.000000      2009.000000  \n",
       "75%                 2011.000000     1.000000        22.000000      2012.000000  \n",
       "max                 2015.000000     1.000000        50.000000      2015.000000  "
      ]
     },
     "execution_count": 21,
     "metadata": {},
     "output_type": "execute_result"
    }
   ],
   "source": [
    "df_store.describe()"
   ]
  },
  {
   "cell_type": "code",
   "execution_count": 22,
   "metadata": {},
   "outputs": [
    {
     "data": {
      "text/html": [
       "<div>\n",
       "<style scoped>\n",
       "    .dataframe tbody tr th:only-of-type {\n",
       "        vertical-align: middle;\n",
       "    }\n",
       "\n",
       "    .dataframe tbody tr th {\n",
       "        vertical-align: top;\n",
       "    }\n",
       "\n",
       "    .dataframe thead th {\n",
       "        text-align: right;\n",
       "    }\n",
       "</style>\n",
       "<table border=\"1\" class=\"dataframe\">\n",
       "  <thead>\n",
       "    <tr style=\"text-align: right;\">\n",
       "      <th></th>\n",
       "      <th>Store</th>\n",
       "      <th>DayOfWeek</th>\n",
       "      <th>Sales</th>\n",
       "      <th>Customers</th>\n",
       "      <th>Open</th>\n",
       "      <th>Promo</th>\n",
       "      <th>SchoolHoliday</th>\n",
       "    </tr>\n",
       "  </thead>\n",
       "  <tbody>\n",
       "    <tr>\n",
       "      <th>count</th>\n",
       "      <td>1.017209e+06</td>\n",
       "      <td>1.017209e+06</td>\n",
       "      <td>1.017209e+06</td>\n",
       "      <td>1.017209e+06</td>\n",
       "      <td>1.017209e+06</td>\n",
       "      <td>1.017209e+06</td>\n",
       "      <td>1.017209e+06</td>\n",
       "    </tr>\n",
       "    <tr>\n",
       "      <th>mean</th>\n",
       "      <td>5.584297e+02</td>\n",
       "      <td>3.998341e+00</td>\n",
       "      <td>5.773819e+03</td>\n",
       "      <td>6.331459e+02</td>\n",
       "      <td>8.301067e-01</td>\n",
       "      <td>3.815145e-01</td>\n",
       "      <td>1.786467e-01</td>\n",
       "    </tr>\n",
       "    <tr>\n",
       "      <th>std</th>\n",
       "      <td>3.219087e+02</td>\n",
       "      <td>1.997391e+00</td>\n",
       "      <td>3.849926e+03</td>\n",
       "      <td>4.644117e+02</td>\n",
       "      <td>3.755392e-01</td>\n",
       "      <td>4.857586e-01</td>\n",
       "      <td>3.830564e-01</td>\n",
       "    </tr>\n",
       "    <tr>\n",
       "      <th>min</th>\n",
       "      <td>1.000000e+00</td>\n",
       "      <td>1.000000e+00</td>\n",
       "      <td>0.000000e+00</td>\n",
       "      <td>0.000000e+00</td>\n",
       "      <td>0.000000e+00</td>\n",
       "      <td>0.000000e+00</td>\n",
       "      <td>0.000000e+00</td>\n",
       "    </tr>\n",
       "    <tr>\n",
       "      <th>25%</th>\n",
       "      <td>2.800000e+02</td>\n",
       "      <td>2.000000e+00</td>\n",
       "      <td>3.727000e+03</td>\n",
       "      <td>4.050000e+02</td>\n",
       "      <td>1.000000e+00</td>\n",
       "      <td>0.000000e+00</td>\n",
       "      <td>0.000000e+00</td>\n",
       "    </tr>\n",
       "    <tr>\n",
       "      <th>50%</th>\n",
       "      <td>5.580000e+02</td>\n",
       "      <td>4.000000e+00</td>\n",
       "      <td>5.744000e+03</td>\n",
       "      <td>6.090000e+02</td>\n",
       "      <td>1.000000e+00</td>\n",
       "      <td>0.000000e+00</td>\n",
       "      <td>0.000000e+00</td>\n",
       "    </tr>\n",
       "    <tr>\n",
       "      <th>75%</th>\n",
       "      <td>8.380000e+02</td>\n",
       "      <td>6.000000e+00</td>\n",
       "      <td>7.856000e+03</td>\n",
       "      <td>8.370000e+02</td>\n",
       "      <td>1.000000e+00</td>\n",
       "      <td>1.000000e+00</td>\n",
       "      <td>0.000000e+00</td>\n",
       "    </tr>\n",
       "    <tr>\n",
       "      <th>max</th>\n",
       "      <td>1.115000e+03</td>\n",
       "      <td>7.000000e+00</td>\n",
       "      <td>4.155100e+04</td>\n",
       "      <td>7.388000e+03</td>\n",
       "      <td>1.000000e+00</td>\n",
       "      <td>1.000000e+00</td>\n",
       "      <td>1.000000e+00</td>\n",
       "    </tr>\n",
       "  </tbody>\n",
       "</table>\n",
       "</div>"
      ],
      "text/plain": [
       "              Store     DayOfWeek         Sales     Customers          Open  \\\n",
       "count  1.017209e+06  1.017209e+06  1.017209e+06  1.017209e+06  1.017209e+06   \n",
       "mean   5.584297e+02  3.998341e+00  5.773819e+03  6.331459e+02  8.301067e-01   \n",
       "std    3.219087e+02  1.997391e+00  3.849926e+03  4.644117e+02  3.755392e-01   \n",
       "min    1.000000e+00  1.000000e+00  0.000000e+00  0.000000e+00  0.000000e+00   \n",
       "25%    2.800000e+02  2.000000e+00  3.727000e+03  4.050000e+02  1.000000e+00   \n",
       "50%    5.580000e+02  4.000000e+00  5.744000e+03  6.090000e+02  1.000000e+00   \n",
       "75%    8.380000e+02  6.000000e+00  7.856000e+03  8.370000e+02  1.000000e+00   \n",
       "max    1.115000e+03  7.000000e+00  4.155100e+04  7.388000e+03  1.000000e+00   \n",
       "\n",
       "              Promo  SchoolHoliday  \n",
       "count  1.017209e+06   1.017209e+06  \n",
       "mean   3.815145e-01   1.786467e-01  \n",
       "std    4.857586e-01   3.830564e-01  \n",
       "min    0.000000e+00   0.000000e+00  \n",
       "25%    0.000000e+00   0.000000e+00  \n",
       "50%    0.000000e+00   0.000000e+00  \n",
       "75%    1.000000e+00   0.000000e+00  \n",
       "max    1.000000e+00   1.000000e+00  "
      ]
     },
     "execution_count": 22,
     "metadata": {},
     "output_type": "execute_result"
    }
   ],
   "source": [
    "df_sales.describe()"
   ]
  },
  {
   "cell_type": "raw",
   "metadata": {
    "id": "DnOaZdaE5Q5t"
   },
   "source": [
    "# Variables Description\n",
    "\n",
    "store-Store_id\n",
    "Sales-Sales made for the day\n",
    "Customers - Footfall for the day\n",
    "Open-Open or close\n",
    "StateHoliday- State holiday or not \n",
    "SchoolHoliday - School holiday or not \n",
    "StoreType - Types of store\n",
    "Assortment-Type of assortment\n",
    "CompetitionDistance-Distance from nearest competition\n",
    "Promo- Store running promotion or not\n",
    "Promo2-Store running consecutive promotion or not\n",
    "PromoInterval-Promotion intervals\n"
   ]
  },
  {
   "cell_type": "markdown",
   "metadata": {},
   "source": [
    "### Merge two data set"
   ]
  },
  {
   "cell_type": "code",
   "execution_count": 23,
   "metadata": {},
   "outputs": [],
   "source": [
    "df=df_store.merge(df_sales,how='left',on='Store')"
   ]
  },
  {
   "cell_type": "code",
   "execution_count": 24,
   "metadata": {},
   "outputs": [
    {
     "data": {
      "text/plain": [
       "(1017209, 18)"
      ]
     },
     "execution_count": 24,
     "metadata": {},
     "output_type": "execute_result"
    }
   ],
   "source": [
    "df.shape"
   ]
  },
  {
   "cell_type": "code",
   "execution_count": 25,
   "metadata": {},
   "outputs": [
    {
     "name": "stdout",
     "output_type": "stream",
     "text": [
      "<class 'pandas.core.frame.DataFrame'>\n",
      "Int64Index: 1017209 entries, 0 to 1017208\n",
      "Data columns (total 18 columns):\n",
      " #   Column                     Non-Null Count    Dtype         \n",
      "---  ------                     --------------    -----         \n",
      " 0   Store                      1017209 non-null  int64         \n",
      " 1   StoreType                  1017209 non-null  object        \n",
      " 2   Assortment                 1017209 non-null  object        \n",
      " 3   CompetitionDistance        1017209 non-null  float64       \n",
      " 4   CompetitionOpenSinceMonth  1017209 non-null  float64       \n",
      " 5   CompetitionOpenSinceYear   1017209 non-null  float64       \n",
      " 6   Promo2                     1017209 non-null  int64         \n",
      " 7   Promo2SinceWeek            1017209 non-null  float64       \n",
      " 8   Promo2SinceYear            1017209 non-null  float64       \n",
      " 9   PromoInterval              1017209 non-null  object        \n",
      " 10  DayOfWeek                  1017209 non-null  int64         \n",
      " 11  Date                       1017209 non-null  datetime64[ns]\n",
      " 12  Sales                      1017209 non-null  int64         \n",
      " 13  Customers                  1017209 non-null  int64         \n",
      " 14  Open                       1017209 non-null  int64         \n",
      " 15  Promo                      1017209 non-null  int64         \n",
      " 16  StateHoliday               1017209 non-null  object        \n",
      " 17  SchoolHoliday              1017209 non-null  int64         \n",
      "dtypes: datetime64[ns](1), float64(5), int64(8), object(4)\n",
      "memory usage: 147.5+ MB\n"
     ]
    }
   ],
   "source": [
    "df.info()"
   ]
  },
  {
   "cell_type": "code",
   "execution_count": 26,
   "metadata": {},
   "outputs": [
    {
     "data": {
      "text/html": [
       "<div>\n",
       "<style scoped>\n",
       "    .dataframe tbody tr th:only-of-type {\n",
       "        vertical-align: middle;\n",
       "    }\n",
       "\n",
       "    .dataframe tbody tr th {\n",
       "        vertical-align: top;\n",
       "    }\n",
       "\n",
       "    .dataframe thead th {\n",
       "        text-align: right;\n",
       "    }\n",
       "</style>\n",
       "<table border=\"1\" class=\"dataframe\">\n",
       "  <thead>\n",
       "    <tr style=\"text-align: right;\">\n",
       "      <th></th>\n",
       "      <th>Store</th>\n",
       "      <th>CompetitionDistance</th>\n",
       "      <th>CompetitionOpenSinceMonth</th>\n",
       "      <th>CompetitionOpenSinceYear</th>\n",
       "      <th>Promo2</th>\n",
       "      <th>Promo2SinceWeek</th>\n",
       "      <th>Promo2SinceYear</th>\n",
       "      <th>DayOfWeek</th>\n",
       "      <th>Sales</th>\n",
       "      <th>Customers</th>\n",
       "      <th>Open</th>\n",
       "      <th>Promo</th>\n",
       "      <th>SchoolHoliday</th>\n",
       "    </tr>\n",
       "  </thead>\n",
       "  <tbody>\n",
       "    <tr>\n",
       "      <th>count</th>\n",
       "      <td>1.017209e+06</td>\n",
       "      <td>1.017209e+06</td>\n",
       "      <td>1.017209e+06</td>\n",
       "      <td>1.017209e+06</td>\n",
       "      <td>1.017209e+06</td>\n",
       "      <td>1.017209e+06</td>\n",
       "      <td>1.017209e+06</td>\n",
       "      <td>1.017209e+06</td>\n",
       "      <td>1.017209e+06</td>\n",
       "      <td>1.017209e+06</td>\n",
       "      <td>1.017209e+06</td>\n",
       "      <td>1.017209e+06</td>\n",
       "      <td>1.017209e+06</td>\n",
       "    </tr>\n",
       "    <tr>\n",
       "      <th>mean</th>\n",
       "      <td>5.584297e+02</td>\n",
       "      <td>5.430020e+03</td>\n",
       "      <td>4.926878e+00</td>\n",
       "      <td>1.370173e+03</td>\n",
       "      <td>5.005638e-01</td>\n",
       "      <td>1.164767e+01</td>\n",
       "      <td>1.007011e+03</td>\n",
       "      <td>3.998341e+00</td>\n",
       "      <td>5.773819e+03</td>\n",
       "      <td>6.331459e+02</td>\n",
       "      <td>8.301067e-01</td>\n",
       "      <td>3.815145e-01</td>\n",
       "      <td>1.786467e-01</td>\n",
       "    </tr>\n",
       "    <tr>\n",
       "      <th>std</th>\n",
       "      <td>3.219087e+02</td>\n",
       "      <td>7.705298e+03</td>\n",
       "      <td>4.283543e+00</td>\n",
       "      <td>9.353634e+02</td>\n",
       "      <td>4.999999e-01</td>\n",
       "      <td>1.532393e+01</td>\n",
       "      <td>1.005877e+03</td>\n",
       "      <td>1.997391e+00</td>\n",
       "      <td>3.849926e+03</td>\n",
       "      <td>4.644117e+02</td>\n",
       "      <td>3.755392e-01</td>\n",
       "      <td>4.857586e-01</td>\n",
       "      <td>3.830564e-01</td>\n",
       "    </tr>\n",
       "    <tr>\n",
       "      <th>min</th>\n",
       "      <td>1.000000e+00</td>\n",
       "      <td>2.000000e+01</td>\n",
       "      <td>0.000000e+00</td>\n",
       "      <td>0.000000e+00</td>\n",
       "      <td>0.000000e+00</td>\n",
       "      <td>0.000000e+00</td>\n",
       "      <td>0.000000e+00</td>\n",
       "      <td>1.000000e+00</td>\n",
       "      <td>0.000000e+00</td>\n",
       "      <td>0.000000e+00</td>\n",
       "      <td>0.000000e+00</td>\n",
       "      <td>0.000000e+00</td>\n",
       "      <td>0.000000e+00</td>\n",
       "    </tr>\n",
       "    <tr>\n",
       "      <th>25%</th>\n",
       "      <td>2.800000e+02</td>\n",
       "      <td>7.100000e+02</td>\n",
       "      <td>0.000000e+00</td>\n",
       "      <td>0.000000e+00</td>\n",
       "      <td>0.000000e+00</td>\n",
       "      <td>0.000000e+00</td>\n",
       "      <td>0.000000e+00</td>\n",
       "      <td>2.000000e+00</td>\n",
       "      <td>3.727000e+03</td>\n",
       "      <td>4.050000e+02</td>\n",
       "      <td>1.000000e+00</td>\n",
       "      <td>0.000000e+00</td>\n",
       "      <td>0.000000e+00</td>\n",
       "    </tr>\n",
       "    <tr>\n",
       "      <th>50%</th>\n",
       "      <td>5.580000e+02</td>\n",
       "      <td>2.330000e+03</td>\n",
       "      <td>4.000000e+00</td>\n",
       "      <td>2.006000e+03</td>\n",
       "      <td>1.000000e+00</td>\n",
       "      <td>1.000000e+00</td>\n",
       "      <td>2.009000e+03</td>\n",
       "      <td>4.000000e+00</td>\n",
       "      <td>5.744000e+03</td>\n",
       "      <td>6.090000e+02</td>\n",
       "      <td>1.000000e+00</td>\n",
       "      <td>0.000000e+00</td>\n",
       "      <td>0.000000e+00</td>\n",
       "    </tr>\n",
       "    <tr>\n",
       "      <th>75%</th>\n",
       "      <td>8.380000e+02</td>\n",
       "      <td>6.880000e+03</td>\n",
       "      <td>9.000000e+00</td>\n",
       "      <td>2.011000e+03</td>\n",
       "      <td>1.000000e+00</td>\n",
       "      <td>2.200000e+01</td>\n",
       "      <td>2.012000e+03</td>\n",
       "      <td>6.000000e+00</td>\n",
       "      <td>7.856000e+03</td>\n",
       "      <td>8.370000e+02</td>\n",
       "      <td>1.000000e+00</td>\n",
       "      <td>1.000000e+00</td>\n",
       "      <td>0.000000e+00</td>\n",
       "    </tr>\n",
       "    <tr>\n",
       "      <th>max</th>\n",
       "      <td>1.115000e+03</td>\n",
       "      <td>7.586000e+04</td>\n",
       "      <td>1.200000e+01</td>\n",
       "      <td>2.015000e+03</td>\n",
       "      <td>1.000000e+00</td>\n",
       "      <td>5.000000e+01</td>\n",
       "      <td>2.015000e+03</td>\n",
       "      <td>7.000000e+00</td>\n",
       "      <td>4.155100e+04</td>\n",
       "      <td>7.388000e+03</td>\n",
       "      <td>1.000000e+00</td>\n",
       "      <td>1.000000e+00</td>\n",
       "      <td>1.000000e+00</td>\n",
       "    </tr>\n",
       "  </tbody>\n",
       "</table>\n",
       "</div>"
      ],
      "text/plain": [
       "              Store  CompetitionDistance  CompetitionOpenSinceMonth  \\\n",
       "count  1.017209e+06         1.017209e+06               1.017209e+06   \n",
       "mean   5.584297e+02         5.430020e+03               4.926878e+00   \n",
       "std    3.219087e+02         7.705298e+03               4.283543e+00   \n",
       "min    1.000000e+00         2.000000e+01               0.000000e+00   \n",
       "25%    2.800000e+02         7.100000e+02               0.000000e+00   \n",
       "50%    5.580000e+02         2.330000e+03               4.000000e+00   \n",
       "75%    8.380000e+02         6.880000e+03               9.000000e+00   \n",
       "max    1.115000e+03         7.586000e+04               1.200000e+01   \n",
       "\n",
       "       CompetitionOpenSinceYear        Promo2  Promo2SinceWeek  \\\n",
       "count              1.017209e+06  1.017209e+06     1.017209e+06   \n",
       "mean               1.370173e+03  5.005638e-01     1.164767e+01   \n",
       "std                9.353634e+02  4.999999e-01     1.532393e+01   \n",
       "min                0.000000e+00  0.000000e+00     0.000000e+00   \n",
       "25%                0.000000e+00  0.000000e+00     0.000000e+00   \n",
       "50%                2.006000e+03  1.000000e+00     1.000000e+00   \n",
       "75%                2.011000e+03  1.000000e+00     2.200000e+01   \n",
       "max                2.015000e+03  1.000000e+00     5.000000e+01   \n",
       "\n",
       "       Promo2SinceYear     DayOfWeek         Sales     Customers  \\\n",
       "count     1.017209e+06  1.017209e+06  1.017209e+06  1.017209e+06   \n",
       "mean      1.007011e+03  3.998341e+00  5.773819e+03  6.331459e+02   \n",
       "std       1.005877e+03  1.997391e+00  3.849926e+03  4.644117e+02   \n",
       "min       0.000000e+00  1.000000e+00  0.000000e+00  0.000000e+00   \n",
       "25%       0.000000e+00  2.000000e+00  3.727000e+03  4.050000e+02   \n",
       "50%       2.009000e+03  4.000000e+00  5.744000e+03  6.090000e+02   \n",
       "75%       2.012000e+03  6.000000e+00  7.856000e+03  8.370000e+02   \n",
       "max       2.015000e+03  7.000000e+00  4.155100e+04  7.388000e+03   \n",
       "\n",
       "               Open         Promo  SchoolHoliday  \n",
       "count  1.017209e+06  1.017209e+06   1.017209e+06  \n",
       "mean   8.301067e-01  3.815145e-01   1.786467e-01  \n",
       "std    3.755392e-01  4.857586e-01   3.830564e-01  \n",
       "min    0.000000e+00  0.000000e+00   0.000000e+00  \n",
       "25%    1.000000e+00  0.000000e+00   0.000000e+00  \n",
       "50%    1.000000e+00  0.000000e+00   0.000000e+00  \n",
       "75%    1.000000e+00  1.000000e+00   0.000000e+00  \n",
       "max    1.000000e+00  1.000000e+00   1.000000e+00  "
      ]
     },
     "execution_count": 26,
     "metadata": {},
     "output_type": "execute_result"
    }
   ],
   "source": [
    "df.describe()"
   ]
  },
  {
   "cell_type": "markdown",
   "metadata": {
    "id": "u3PMJOP6ngxN"
   },
   "source": [
    "### Check Unique Values for each variable."
   ]
  },
  {
   "cell_type": "code",
   "execution_count": 27,
   "metadata": {
    "id": "zms12Yq5n-jE"
   },
   "outputs": [],
   "source": [
    "# Check Unique Values for each variable."
   ]
  },
  {
   "cell_type": "code",
   "execution_count": 28,
   "metadata": {},
   "outputs": [
    {
     "name": "stdout",
     "output_type": "stream",
     "text": [
      "Store variable has no. of unique value :  [   1    2    3 ... 1113 1114 1115] , total value =  1115\n",
      "StoreType variable has no. of unique value :  ['c' 'a' 'd' 'b'] , total value =  4\n",
      "Assortment variable has no. of unique value :  ['a' 'c' 'b'] , total value =  3\n",
      "CompetitionDistance variable has no. of unique value :  [1.27000000e+03 5.70000000e+02 1.41300000e+04 6.20000000e+02\n",
      " 2.99100000e+04 3.10000000e+02 2.40000000e+04 7.52000000e+03\n",
      " 2.03000000e+03 3.16000000e+03 9.60000000e+02 1.07000000e+03\n",
      " 1.30000000e+03 4.11000000e+03 3.27000000e+03 5.00000000e+01\n",
      " 1.38400000e+04 3.24000000e+03 2.34000000e+03 5.50000000e+02\n",
      " 1.04000000e+03 4.06000000e+03 4.59000000e+03 4.30000000e+02\n",
      " 2.30000000e+03 6.00000000e+01 1.20000000e+03 2.17000000e+03\n",
      " 4.00000000e+01 9.80000000e+03 2.91000000e+03 1.32000000e+03\n",
      " 2.24000000e+03 7.66000000e+03 5.40000000e+02 4.23000000e+03\n",
      " 1.09000000e+03 2.60000000e+02 1.80000000e+02 1.18000000e+03\n",
      " 2.90000000e+02 4.88000000e+03 9.71000000e+03 2.70000000e+02\n",
      " 1.06000000e+03 1.80100000e+04 6.26000000e+03 1.05700000e+04\n",
      " 4.50000000e+02 3.03600000e+04 7.17000000e+03 7.20000000e+02\n",
      " 6.62000000e+03 4.20000000e+02 7.34000000e+03 2.84000000e+03\n",
      " 5.54000000e+03 3.50000000e+02 2.05000000e+03 3.70000000e+03\n",
      " 2.25600000e+04 4.10000000e+02 2.50000000e+02 1.13000000e+03\n",
      " 4.84000000e+03 1.75000000e+04 2.20000000e+03 1.65000000e+03\n",
      " 3.30000000e+02 2.24400000e+04 1.99600000e+04 3.51000000e+03\n",
      " 3.32000000e+03 7.91000000e+03 2.37000000e+03 2.23900000e+04\n",
      " 2.71000000e+03 1.18100000e+04 1.87000000e+03 4.80000000e+02\n",
      " 5.60000000e+02 1.06900000e+04 2.38000000e+03 2.41000000e+03\n",
      " 2.40000000e+02 1.66900000e+04 1.46200000e+04 1.89000000e+03\n",
      " 8.78000000e+03 8.98000000e+03 1.51400000e+04 1.79300000e+04\n",
      " 2.44000000e+03 1.50000000e+02 5.21000000e+03 3.90000000e+02\n",
      " 6.19000000e+03 1.39000000e+03 1.93000000e+03 2.19000000e+03\n",
      " 3.30000000e+03 4.65900000e+04 7.89000000e+03 1.63000000e+03\n",
      " 2.09300000e+04 4.51000000e+03 5.74000000e+03 6.80000000e+02\n",
      " 3.45000000e+03 3.58000000e+03 2.10000000e+03 2.29000000e+03\n",
      " 3.57000000e+03 5.82600000e+04 1.67600000e+04 1.41000000e+03\n",
      " 7.60000000e+02 3.37000000e+03 1.35000000e+03 2.00000000e+03\n",
      " 2.46000000e+03 9.00000000e+02 9.20000000e+02 5.19000000e+03\n",
      " 1.73000000e+03 2.53600000e+04 1.70000000e+03 1.54000000e+03\n",
      " 2.93000000e+03 1.65700000e+04 2.80000000e+02 8.05000000e+03\n",
      " 8.54000000e+03 2.09000000e+03 2.61000000e+03 3.18300000e+04\n",
      " 4.36000000e+03 1.78000000e+03 1.62400000e+04 1.64200000e+04\n",
      " 3.05000000e+03 2.02000000e+03 2.95000000e+03 1.18400000e+04\n",
      " 8.53000000e+03 1.71100000e+04 2.97000000e+03 5.34000000e+03\n",
      " 1.48000000e+03 1.16000000e+03 3.72000000e+03 1.00000000e+02\n",
      " 1.40000000e+02 1.25400000e+04 9.80000000e+02 2.64000000e+03\n",
      " 1.10000000e+02 1.30900000e+04 4.13000000e+03 3.77000000e+03\n",
      " 1.25000000e+03 1.71000000e+03 5.80000000e+03 1.26100000e+04\n",
      " 9.67000000e+03 3.56000000e+03 1.86000000e+03 1.93600000e+04\n",
      " 8.50000000e+02 5.76000000e+03 1.47000000e+03 1.10000000e+03\n",
      " 2.77000000e+03 5.20000000e+02 1.69700000e+04 2.20000000e+02\n",
      " 3.85000000e+03 4.21000000e+03 6.36000000e+03 2.02600000e+04\n",
      " 5.14000000e+03 4.90000000e+02 5.63000000e+03 3.80000000e+02\n",
      " 6.87000000e+03 3.00000000e+02 1.16800000e+04 9.70000000e+02\n",
      " 1.50500000e+04 4.03000000e+03 8.65000000e+03 1.90000000e+02\n",
      " 3.15000000e+03 6.40000000e+02 1.64000000e+03 1.00000000e+03\n",
      " 1.35300000e+04 2.92000000e+03 7.93000000e+03 1.01800000e+04\n",
      " 1.08000000e+04 1.74100000e+04 6.68000000e+03 3.84000000e+03\n",
      " 1.35700000e+04 4.37000000e+03 5.71000000e+03 1.42000000e+03\n",
      " 3.20000000e+02 6.10000000e+02 1.11000000e+03 7.80000000e+02\n",
      " 6.88000000e+03 7.10000000e+02 1.31000000e+03 4.66000000e+03\n",
      " 7.00000000e+01 3.40000000e+02 3.52000000e+03 2.23300000e+04\n",
      " 4.63000000e+03 8.00000000e+01 2.71900000e+04 2.10000000e+02\n",
      " 1.53400000e+04 1.14000000e+03 4.58000000e+03 3.60000000e+02\n",
      " 4.52000000e+03 1.45000000e+03 1.61800000e+04 8.48000000e+03\n",
      " 3.64000000e+03 2.96000000e+03 7.84000000e+03 9.26000000e+03\n",
      " 2.32000000e+03 1.86400000e+04 6.97000000e+03 1.22000000e+03\n",
      " 2.26000000e+03 1.29000000e+03 1.46000000e+03 2.74000000e+03\n",
      " 8.00000000e+02 6.54000000e+03 4.15000000e+03 5.40490108e+03\n",
      " 9.58000000e+03 1.98400000e+04 3.86300000e+04 1.20000000e+02\n",
      " 1.54300000e+04 1.95000000e+03 2.47000000e+03 5.10000000e+03\n",
      " 1.86600000e+04 8.74000000e+03 1.13000000e+04 1.41600000e+04\n",
      " 3.87100000e+04 9.00000000e+03 3.14000000e+03 3.23300000e+04\n",
      " 8.14000000e+03 8.40000000e+03 1.31400000e+04 1.00700000e+04\n",
      " 3.13000000e+03 3.70000000e+02 6.70000000e+02 1.84000000e+03\n",
      " 4.04000000e+03 9.00000000e+01 1.06000000e+04 1.59000000e+03\n",
      " 2.28000000e+03 8.08000000e+03 1.57700000e+04 1.86500000e+04\n",
      " 8.09000000e+03 9.36000000e+03 1.64900000e+04 1.49000000e+03\n",
      " 8.88000000e+03 5.29000000e+03 1.50000000e+03 9.72000000e+03\n",
      " 8.97000000e+03 2.06000000e+03 2.89000000e+03 2.04000000e+03\n",
      " 4.49000000e+03 1.36200000e+04 6.47000000e+03 5.87000000e+03\n",
      " 8.25000000e+03 1.97000000e+03 1.11200000e+04 1.15000000e+03\n",
      " 1.57100000e+04 1.60000000e+02 2.14000000e+03 6.63000000e+03\n",
      " 1.80000000e+03 2.61300000e+04 1.30000000e+02 6.69000000e+03\n",
      " 1.60000000e+03 4.60000000e+02 2.12000000e+03 4.82000000e+03\n",
      " 1.08500000e+04 3.62000000e+03 2.31300000e+04 5.36000000e+03\n",
      " 9.20000000e+03 5.83000000e+03 4.97000000e+03 1.08000000e+03\n",
      " 8.24000000e+03 5.89000000e+03 1.56000000e+03 8.40000000e+02\n",
      " 8.46000000e+03 4.46000000e+03 6.21000000e+03 6.91000000e+03\n",
      " 4.65000000e+03 1.62000000e+03 3.53000000e+03 2.88000000e+03\n",
      " 1.63500000e+04 1.28700000e+04 8.10000000e+02 3.00300000e+04\n",
      " 1.30200000e+04 9.10000000e+02 3.90000000e+03 2.53000000e+03\n",
      " 5.00000000e+02 1.14000000e+04 1.51000000e+03 3.97000000e+03\n",
      " 5.78000000e+03 1.85000000e+03 7.58600000e+04 2.64500000e+04\n",
      " 3.39000000e+03 3.40500000e+04 1.79000000e+03 4.43200000e+04\n",
      " 4.16000000e+03 1.08900000e+04 3.11000000e+03 2.03900000e+04\n",
      " 5.26000000e+03 5.30000000e+03 5.03000000e+03 1.48100000e+04\n",
      " 8.30000000e+03 7.70000000e+02 1.94000000e+03 7.47000000e+03\n",
      " 2.55000000e+03 2.31000000e+03 1.43000000e+04 2.18000000e+03\n",
      " 1.49600000e+04 6.60000000e+02 4.68000000e+03 1.74000000e+03\n",
      " 1.26000000e+03 5.47000000e+03 2.78000000e+03 1.61000000e+03\n",
      " 9.90000000e+02 1.30800000e+04 8.20000000e+02 9.07000000e+03\n",
      " 1.28000000e+03 4.74000000e+03 8.26000000e+03 5.90000000e+02\n",
      " 4.00000000e+02 1.12600000e+04 2.00000000e+01 2.24900000e+04\n",
      " 3.33000000e+03 2.51000000e+03 6.90000000e+03 1.86100000e+04\n",
      " 7.16000000e+03 4.08600000e+04 2.06200000e+04 1.29200000e+04\n",
      " 1.81600000e+04 5.95000000e+03 4.70000000e+03 6.00000000e+02\n",
      " 6.50000000e+02 7.28000000e+03 5.02000000e+03 5.80000000e+02\n",
      " 8.99000000e+03 3.76000000e+03 2.33000000e+03 4.26000000e+03\n",
      " 3.04000000e+03 3.00000000e+03 3.91000000e+03 1.91000000e+03\n",
      " 1.21000000e+03 7.00000000e+02 1.01000000e+03 4.27000000e+03\n",
      " 1.34000000e+03 2.11000000e+03 9.23000000e+03 1.19000000e+03\n",
      " 4.40000000e+03 2.27000000e+03 1.27000000e+04 2.09700000e+04\n",
      " 1.70000000e+02 7.25000000e+03 1.36000000e+03 4.40000000e+02\n",
      " 1.57200000e+04 3.34000000e+03 2.54000000e+03 3.30600000e+04\n",
      " 1.73400000e+04 8.22000000e+03 1.09500000e+04 1.03100000e+04\n",
      " 1.83700000e+04 2.07000000e+03 2.49000000e+03 7.30000000e+02\n",
      " 8.94000000e+03 9.91000000e+03 5.44000000e+03 3.00000000e+01\n",
      " 4.08000000e+03 6.92000000e+03 1.17000000e+03 1.07400000e+04\n",
      " 5.10000000e+02 1.69000000e+03 2.87000000e+03 3.35000000e+03\n",
      " 1.16400000e+04 2.75300000e+04 9.79000000e+03 1.01700000e+04\n",
      " 7.78000000e+03 8.04000000e+03 5.30000000e+02 2.30000000e+02\n",
      " 7.42000000e+03 2.13000000e+03 1.45700000e+04 2.00000000e+02\n",
      " 6.93000000e+03 7.86000000e+03 1.68000000e+03 2.70000000e+03\n",
      " 1.70800000e+04 1.51700000e+04 3.25000000e+03 4.14000000e+03\n",
      " 2.85000000e+03 2.00500000e+04 1.87600000e+04 1.50400000e+04\n",
      " 3.03000000e+03 3.78000000e+03 8.30000000e+02 8.55000000e+03\n",
      " 7.83000000e+03 2.90000000e+03 1.14700000e+04 4.87000000e+03\n",
      " 1.20700000e+04 3.20000000e+03 8.19000000e+03 1.53200000e+04\n",
      " 3.59000000e+03 5.65000000e+03 5.90000000e+03 1.75400000e+04\n",
      " 4.05400000e+04 1.39900000e+04 1.52700000e+04 3.52800000e+04\n",
      " 8.60000000e+02 1.92000000e+03 5.98000000e+03 6.40000000e+03\n",
      " 1.19000000e+04 4.38000000e+03 6.71000000e+03 1.37000000e+03\n",
      " 1.76500000e+04 4.33000000e+03 4.57400000e+04 3.41000000e+03\n",
      " 8.67000000e+03 1.31300000e+04 1.97800000e+04 2.39000000e+03\n",
      " 3.22400000e+04 2.64900000e+04 2.54300000e+04 9.82000000e+03\n",
      " 2.63000000e+03 2.06400000e+04 1.69900000e+04 6.30000000e+02\n",
      " 5.39000000e+03 1.54900000e+04 3.21000000e+03 1.53000000e+03\n",
      " 9.77000000e+03 1.72800000e+04 5.09000000e+03 7.18000000e+03\n",
      " 9.56000000e+03 4.83300000e+04 1.76000000e+03 2.47700000e+04\n",
      " 3.87000000e+03 1.86200000e+04 1.27700000e+04 9.64000000e+03\n",
      " 2.59000000e+03 2.45300000e+04 1.62100000e+04 1.75700000e+04\n",
      " 7.98000000e+03 3.29000000e+03 6.32000000e+03 5.07000000e+03\n",
      " 3.47000000e+03 2.72000000e+03 1.46000000e+04 6.89000000e+03\n",
      " 2.76500000e+04 8.86000000e+03 5.00000000e+03 1.12000000e+03\n",
      " 9.40000000e+02 1.40400000e+04 4.77000000e+03 3.44000000e+03\n",
      " 3.02000000e+03 6.27000000e+03 2.17700000e+04 7.40000000e+02\n",
      " 2.13700000e+04 1.02000000e+03 9.68000000e+03 2.18100000e+04\n",
      " 1.06200000e+04 3.86000000e+03 2.17900000e+04 2.91900000e+04\n",
      " 4.57000000e+03 7.55000000e+03 1.24300000e+04 1.97000000e+04\n",
      " 4.45000000e+03 1.86700000e+04 1.93700000e+04 1.85400000e+04\n",
      " 3.92000000e+03 3.17000000e+03 7.29000000e+03 1.98000000e+03\n",
      " 1.24800000e+04 3.10000000e+03 7.24000000e+03 1.87100000e+04\n",
      " 2.62000000e+03 6.42000000e+03 4.70000000e+02 5.15000000e+03\n",
      " 1.57000000e+04 5.46000000e+03 2.23500000e+04 2.81000000e+03\n",
      " 2.82000000e+03 6.86000000e+03 1.80200000e+04 1.67000000e+03\n",
      " 2.22000000e+03 1.43000000e+03 8.70000000e+02 6.30000000e+03\n",
      " 1.98300000e+04 9.43000000e+03 2.36200000e+04 9.63000000e+03\n",
      " 4.18000000e+03 3.89000000e+03 4.42000000e+03 2.19300000e+04\n",
      " 2.48000000e+03 3.46000000e+03 6.56000000e+03 5.84000000e+03\n",
      " 2.23000000e+03 1.96400000e+04 6.48000000e+03 4.61000000e+03\n",
      " 6.33000000e+03 1.52000000e+03 3.74000000e+03 1.99000000e+03\n",
      " 3.64100000e+04 7.68000000e+03 1.37500000e+04 2.71500000e+04\n",
      " 1.72900000e+04 2.69900000e+04 2.90700000e+04 3.75000000e+03\n",
      " 1.31700000e+04 5.08000000e+03 1.31900000e+04 5.35000000e+03\n",
      " 3.23000000e+03 3.38000000e+03 3.43000000e+03 8.11000000e+03\n",
      " 6.25000000e+03 1.20200000e+04 5.01000000e+03 1.80500000e+04\n",
      " 5.38000000e+03 1.66800000e+04 1.15400000e+04 2.21000000e+03\n",
      " 4.30000000e+03 5.22000000e+03 9.99000000e+03 1.04500000e+04\n",
      " 6.90000000e+02 1.83000000e+03 5.33000000e+03 1.40000000e+03\n",
      " 3.49000000e+03 1.90000000e+03 1.88000000e+03] , total value =  655\n",
      "CompetitionOpenSinceMonth variable has no. of unique value :  [ 9. 11. 12.  4. 10.  8.  0.  3.  6.  5.  1.  2.  7.] , total value =  13\n"
     ]
    },
    {
     "name": "stdout",
     "output_type": "stream",
     "text": [
      "CompetitionOpenSinceYear variable has no. of unique value :  [2008. 2007. 2006. 2009. 2015. 2013. 2014. 2000. 2011.    0. 2010. 2005.\n",
      " 1999. 2003. 2012. 2004. 2002. 1961. 1995. 2001. 1990. 1994. 1900. 1998.] , total value =  24\n",
      "Promo2 variable has no. of unique value :  [0 1] , total value =  2\n",
      "Promo2SinceWeek variable has no. of unique value :  [ 0. 13. 14.  1. 45. 40. 26. 22.  5.  6. 10. 31. 37.  9. 39. 27. 18. 35.\n",
      " 23. 48. 36. 50. 44. 49. 28.] , total value =  25\n",
      "Promo2SinceYear variable has no. of unique value :  [   0. 2010. 2011. 2012. 2009. 2014. 2015. 2013.] , total value =  8\n",
      "PromoInterval variable has no. of unique value :  [0 'Jan,Apr,Jul,Oct' 'Feb,May,Aug,Nov' 'Mar,Jun,Sept,Dec'] , total value =  4\n",
      "DayOfWeek variable has no. of unique value :  [5 4 3 2 1 7 6] , total value =  7\n",
      "Date variable has no. of unique value :  ['2015-07-31T00:00:00.000000000' '2015-07-30T00:00:00.000000000'\n",
      " '2015-07-29T00:00:00.000000000' '2015-07-28T00:00:00.000000000'\n",
      " '2015-07-27T00:00:00.000000000' '2015-07-26T00:00:00.000000000'\n",
      " '2015-07-25T00:00:00.000000000' '2015-07-24T00:00:00.000000000'\n",
      " '2015-07-23T00:00:00.000000000' '2015-07-22T00:00:00.000000000'\n",
      " '2015-07-21T00:00:00.000000000' '2015-07-20T00:00:00.000000000'\n",
      " '2015-07-19T00:00:00.000000000' '2015-07-18T00:00:00.000000000'\n",
      " '2015-07-17T00:00:00.000000000' '2015-07-16T00:00:00.000000000'\n",
      " '2015-07-15T00:00:00.000000000' '2015-07-14T00:00:00.000000000'\n",
      " '2015-07-13T00:00:00.000000000' '2015-07-12T00:00:00.000000000'\n",
      " '2015-07-11T00:00:00.000000000' '2015-07-10T00:00:00.000000000'\n",
      " '2015-07-09T00:00:00.000000000' '2015-07-08T00:00:00.000000000'\n",
      " '2015-07-07T00:00:00.000000000' '2015-07-06T00:00:00.000000000'\n",
      " '2015-07-05T00:00:00.000000000' '2015-07-04T00:00:00.000000000'\n",
      " '2015-07-03T00:00:00.000000000' '2015-07-02T00:00:00.000000000'\n",
      " '2015-07-01T00:00:00.000000000' '2015-06-30T00:00:00.000000000'\n",
      " '2015-06-29T00:00:00.000000000' '2015-06-28T00:00:00.000000000'\n",
      " '2015-06-27T00:00:00.000000000' '2015-06-26T00:00:00.000000000'\n",
      " '2015-06-25T00:00:00.000000000' '2015-06-24T00:00:00.000000000'\n",
      " '2015-06-23T00:00:00.000000000' '2015-06-22T00:00:00.000000000'\n",
      " '2015-06-21T00:00:00.000000000' '2015-06-20T00:00:00.000000000'\n",
      " '2015-06-19T00:00:00.000000000' '2015-06-18T00:00:00.000000000'\n",
      " '2015-06-17T00:00:00.000000000' '2015-06-16T00:00:00.000000000'\n",
      " '2015-06-15T00:00:00.000000000' '2015-06-14T00:00:00.000000000'\n",
      " '2015-06-13T00:00:00.000000000' '2015-06-12T00:00:00.000000000'\n",
      " '2015-06-11T00:00:00.000000000' '2015-06-10T00:00:00.000000000'\n",
      " '2015-06-09T00:00:00.000000000' '2015-06-08T00:00:00.000000000'\n",
      " '2015-06-07T00:00:00.000000000' '2015-06-06T00:00:00.000000000'\n",
      " '2015-06-05T00:00:00.000000000' '2015-06-04T00:00:00.000000000'\n",
      " '2015-06-03T00:00:00.000000000' '2015-06-02T00:00:00.000000000'\n",
      " '2015-06-01T00:00:00.000000000' '2015-05-31T00:00:00.000000000'\n",
      " '2015-05-30T00:00:00.000000000' '2015-05-29T00:00:00.000000000'\n",
      " '2015-05-28T00:00:00.000000000' '2015-05-27T00:00:00.000000000'\n",
      " '2015-05-26T00:00:00.000000000' '2015-05-25T00:00:00.000000000'\n",
      " '2015-05-24T00:00:00.000000000' '2015-05-23T00:00:00.000000000'\n",
      " '2015-05-22T00:00:00.000000000' '2015-05-21T00:00:00.000000000'\n",
      " '2015-05-20T00:00:00.000000000' '2015-05-19T00:00:00.000000000'\n",
      " '2015-05-18T00:00:00.000000000' '2015-05-17T00:00:00.000000000'\n",
      " '2015-05-16T00:00:00.000000000' '2015-05-15T00:00:00.000000000'\n",
      " '2015-05-14T00:00:00.000000000' '2015-05-13T00:00:00.000000000'\n",
      " '2015-05-12T00:00:00.000000000' '2015-05-11T00:00:00.000000000'\n",
      " '2015-05-10T00:00:00.000000000' '2015-05-09T00:00:00.000000000'\n",
      " '2015-05-08T00:00:00.000000000' '2015-05-07T00:00:00.000000000'\n",
      " '2015-05-06T00:00:00.000000000' '2015-05-05T00:00:00.000000000'\n",
      " '2015-05-04T00:00:00.000000000' '2015-05-03T00:00:00.000000000'\n",
      " '2015-05-02T00:00:00.000000000' '2015-05-01T00:00:00.000000000'\n",
      " '2015-04-30T00:00:00.000000000' '2015-04-29T00:00:00.000000000'\n",
      " '2015-04-28T00:00:00.000000000' '2015-04-27T00:00:00.000000000'\n",
      " '2015-04-26T00:00:00.000000000' '2015-04-25T00:00:00.000000000'\n",
      " '2015-04-24T00:00:00.000000000' '2015-04-23T00:00:00.000000000'\n",
      " '2015-04-22T00:00:00.000000000' '2015-04-21T00:00:00.000000000'\n",
      " '2015-04-20T00:00:00.000000000' '2015-04-19T00:00:00.000000000'\n",
      " '2015-04-18T00:00:00.000000000' '2015-04-17T00:00:00.000000000'\n",
      " '2015-04-16T00:00:00.000000000' '2015-04-15T00:00:00.000000000'\n",
      " '2015-04-14T00:00:00.000000000' '2015-04-13T00:00:00.000000000'\n",
      " '2015-04-12T00:00:00.000000000' '2015-04-11T00:00:00.000000000'\n",
      " '2015-04-10T00:00:00.000000000' '2015-04-09T00:00:00.000000000'\n",
      " '2015-04-08T00:00:00.000000000' '2015-04-07T00:00:00.000000000'\n",
      " '2015-04-06T00:00:00.000000000' '2015-04-05T00:00:00.000000000'\n",
      " '2015-04-04T00:00:00.000000000' '2015-04-03T00:00:00.000000000'\n",
      " '2015-04-02T00:00:00.000000000' '2015-04-01T00:00:00.000000000'\n",
      " '2015-03-31T00:00:00.000000000' '2015-03-30T00:00:00.000000000'\n",
      " '2015-03-29T00:00:00.000000000' '2015-03-28T00:00:00.000000000'\n",
      " '2015-03-27T00:00:00.000000000' '2015-03-26T00:00:00.000000000'\n",
      " '2015-03-25T00:00:00.000000000' '2015-03-24T00:00:00.000000000'\n",
      " '2015-03-23T00:00:00.000000000' '2015-03-22T00:00:00.000000000'\n",
      " '2015-03-21T00:00:00.000000000' '2015-03-20T00:00:00.000000000'\n",
      " '2015-03-19T00:00:00.000000000' '2015-03-18T00:00:00.000000000'\n",
      " '2015-03-17T00:00:00.000000000' '2015-03-16T00:00:00.000000000'\n",
      " '2015-03-15T00:00:00.000000000' '2015-03-14T00:00:00.000000000'\n",
      " '2015-03-13T00:00:00.000000000' '2015-03-12T00:00:00.000000000'\n",
      " '2015-03-11T00:00:00.000000000' '2015-03-10T00:00:00.000000000'\n",
      " '2015-03-09T00:00:00.000000000' '2015-03-08T00:00:00.000000000'\n",
      " '2015-03-07T00:00:00.000000000' '2015-03-06T00:00:00.000000000'\n",
      " '2015-03-05T00:00:00.000000000' '2015-03-04T00:00:00.000000000'\n",
      " '2015-03-03T00:00:00.000000000' '2015-03-02T00:00:00.000000000'\n",
      " '2015-03-01T00:00:00.000000000' '2015-02-28T00:00:00.000000000'\n",
      " '2015-02-27T00:00:00.000000000' '2015-02-26T00:00:00.000000000'\n",
      " '2015-02-25T00:00:00.000000000' '2015-02-24T00:00:00.000000000'\n",
      " '2015-02-23T00:00:00.000000000' '2015-02-22T00:00:00.000000000'\n",
      " '2015-02-21T00:00:00.000000000' '2015-02-20T00:00:00.000000000'\n",
      " '2015-02-19T00:00:00.000000000' '2015-02-18T00:00:00.000000000'\n",
      " '2015-02-17T00:00:00.000000000' '2015-02-16T00:00:00.000000000'\n",
      " '2015-02-15T00:00:00.000000000' '2015-02-14T00:00:00.000000000'\n",
      " '2015-02-13T00:00:00.000000000' '2015-02-12T00:00:00.000000000'\n",
      " '2015-02-11T00:00:00.000000000' '2015-02-10T00:00:00.000000000'\n",
      " '2015-02-09T00:00:00.000000000' '2015-02-08T00:00:00.000000000'\n",
      " '2015-02-07T00:00:00.000000000' '2015-02-06T00:00:00.000000000'\n",
      " '2015-02-05T00:00:00.000000000' '2015-02-04T00:00:00.000000000'\n",
      " '2015-02-03T00:00:00.000000000' '2015-02-02T00:00:00.000000000'\n",
      " '2015-02-01T00:00:00.000000000' '2015-01-31T00:00:00.000000000'\n",
      " '2015-01-30T00:00:00.000000000' '2015-01-29T00:00:00.000000000'\n",
      " '2015-01-28T00:00:00.000000000' '2015-01-27T00:00:00.000000000'\n",
      " '2015-01-26T00:00:00.000000000' '2015-01-25T00:00:00.000000000'\n",
      " '2015-01-24T00:00:00.000000000' '2015-01-23T00:00:00.000000000'\n",
      " '2015-01-22T00:00:00.000000000' '2015-01-21T00:00:00.000000000'\n",
      " '2015-01-20T00:00:00.000000000' '2015-01-19T00:00:00.000000000'\n",
      " '2015-01-18T00:00:00.000000000' '2015-01-17T00:00:00.000000000'\n",
      " '2015-01-16T00:00:00.000000000' '2015-01-15T00:00:00.000000000'\n",
      " '2015-01-14T00:00:00.000000000' '2015-01-13T00:00:00.000000000'\n",
      " '2015-01-12T00:00:00.000000000' '2015-01-11T00:00:00.000000000'\n",
      " '2015-01-10T00:00:00.000000000' '2015-01-09T00:00:00.000000000'\n",
      " '2015-01-08T00:00:00.000000000' '2015-01-07T00:00:00.000000000'\n",
      " '2015-01-06T00:00:00.000000000' '2015-01-05T00:00:00.000000000'\n",
      " '2015-01-04T00:00:00.000000000' '2015-01-03T00:00:00.000000000'\n",
      " '2015-01-02T00:00:00.000000000' '2015-01-01T00:00:00.000000000'\n",
      " '2014-12-31T00:00:00.000000000' '2014-12-30T00:00:00.000000000'\n",
      " '2014-12-29T00:00:00.000000000' '2014-12-28T00:00:00.000000000'\n",
      " '2014-12-27T00:00:00.000000000' '2014-12-26T00:00:00.000000000'\n",
      " '2014-12-25T00:00:00.000000000' '2014-12-24T00:00:00.000000000'\n",
      " '2014-12-23T00:00:00.000000000' '2014-12-22T00:00:00.000000000'\n",
      " '2014-12-21T00:00:00.000000000' '2014-12-20T00:00:00.000000000'\n",
      " '2014-12-19T00:00:00.000000000' '2014-12-18T00:00:00.000000000'\n",
      " '2014-12-17T00:00:00.000000000' '2014-12-16T00:00:00.000000000'\n",
      " '2014-12-15T00:00:00.000000000' '2014-12-14T00:00:00.000000000'\n",
      " '2014-12-13T00:00:00.000000000' '2014-12-12T00:00:00.000000000'\n",
      " '2014-12-11T00:00:00.000000000' '2014-12-10T00:00:00.000000000'\n",
      " '2014-12-09T00:00:00.000000000' '2014-12-08T00:00:00.000000000'\n",
      " '2014-12-07T00:00:00.000000000' '2014-12-06T00:00:00.000000000'\n",
      " '2014-12-05T00:00:00.000000000' '2014-12-04T00:00:00.000000000'\n",
      " '2014-12-03T00:00:00.000000000' '2014-12-02T00:00:00.000000000'\n",
      " '2014-12-01T00:00:00.000000000' '2014-11-30T00:00:00.000000000'\n",
      " '2014-11-29T00:00:00.000000000' '2014-11-28T00:00:00.000000000'\n",
      " '2014-11-27T00:00:00.000000000' '2014-11-26T00:00:00.000000000'\n",
      " '2014-11-25T00:00:00.000000000' '2014-11-24T00:00:00.000000000'\n",
      " '2014-11-23T00:00:00.000000000' '2014-11-22T00:00:00.000000000'\n",
      " '2014-11-21T00:00:00.000000000' '2014-11-20T00:00:00.000000000'\n",
      " '2014-11-19T00:00:00.000000000' '2014-11-18T00:00:00.000000000'\n",
      " '2014-11-17T00:00:00.000000000' '2014-11-16T00:00:00.000000000'\n",
      " '2014-11-15T00:00:00.000000000' '2014-11-14T00:00:00.000000000'\n",
      " '2014-11-13T00:00:00.000000000' '2014-11-12T00:00:00.000000000'\n",
      " '2014-11-11T00:00:00.000000000' '2014-11-10T00:00:00.000000000'\n",
      " '2014-11-09T00:00:00.000000000' '2014-11-08T00:00:00.000000000'\n",
      " '2014-11-07T00:00:00.000000000' '2014-11-06T00:00:00.000000000'\n",
      " '2014-11-05T00:00:00.000000000' '2014-11-04T00:00:00.000000000'\n",
      " '2014-11-03T00:00:00.000000000' '2014-11-02T00:00:00.000000000'\n",
      " '2014-11-01T00:00:00.000000000' '2014-10-31T00:00:00.000000000'\n",
      " '2014-10-30T00:00:00.000000000' '2014-10-29T00:00:00.000000000'\n",
      " '2014-10-28T00:00:00.000000000' '2014-10-27T00:00:00.000000000'\n",
      " '2014-10-26T00:00:00.000000000' '2014-10-25T00:00:00.000000000'\n",
      " '2014-10-24T00:00:00.000000000' '2014-10-23T00:00:00.000000000'\n",
      " '2014-10-22T00:00:00.000000000' '2014-10-21T00:00:00.000000000'\n",
      " '2014-10-20T00:00:00.000000000' '2014-10-19T00:00:00.000000000'\n",
      " '2014-10-18T00:00:00.000000000' '2014-10-17T00:00:00.000000000'\n",
      " '2014-10-16T00:00:00.000000000' '2014-10-15T00:00:00.000000000'\n",
      " '2014-10-14T00:00:00.000000000' '2014-10-13T00:00:00.000000000'\n",
      " '2014-10-12T00:00:00.000000000' '2014-10-11T00:00:00.000000000'\n",
      " '2014-10-10T00:00:00.000000000' '2014-10-09T00:00:00.000000000'\n",
      " '2014-10-08T00:00:00.000000000' '2014-10-07T00:00:00.000000000'\n",
      " '2014-10-06T00:00:00.000000000' '2014-10-05T00:00:00.000000000'\n",
      " '2014-10-04T00:00:00.000000000' '2014-10-03T00:00:00.000000000'\n",
      " '2014-10-02T00:00:00.000000000' '2014-10-01T00:00:00.000000000'\n",
      " '2014-09-30T00:00:00.000000000' '2014-09-29T00:00:00.000000000'\n",
      " '2014-09-28T00:00:00.000000000' '2014-09-27T00:00:00.000000000'\n",
      " '2014-09-26T00:00:00.000000000' '2014-09-25T00:00:00.000000000'\n",
      " '2014-09-24T00:00:00.000000000' '2014-09-23T00:00:00.000000000'\n",
      " '2014-09-22T00:00:00.000000000' '2014-09-21T00:00:00.000000000'\n",
      " '2014-09-20T00:00:00.000000000' '2014-09-19T00:00:00.000000000'\n",
      " '2014-09-18T00:00:00.000000000' '2014-09-17T00:00:00.000000000'\n",
      " '2014-09-16T00:00:00.000000000' '2014-09-15T00:00:00.000000000'\n",
      " '2014-09-14T00:00:00.000000000' '2014-09-13T00:00:00.000000000'\n",
      " '2014-09-12T00:00:00.000000000' '2014-09-11T00:00:00.000000000'\n",
      " '2014-09-10T00:00:00.000000000' '2014-09-09T00:00:00.000000000'\n",
      " '2014-09-08T00:00:00.000000000' '2014-09-07T00:00:00.000000000'\n",
      " '2014-09-06T00:00:00.000000000' '2014-09-05T00:00:00.000000000'\n",
      " '2014-09-04T00:00:00.000000000' '2014-09-03T00:00:00.000000000'\n",
      " '2014-09-02T00:00:00.000000000' '2014-09-01T00:00:00.000000000'\n",
      " '2014-08-31T00:00:00.000000000' '2014-08-30T00:00:00.000000000'\n",
      " '2014-08-29T00:00:00.000000000' '2014-08-28T00:00:00.000000000'\n",
      " '2014-08-27T00:00:00.000000000' '2014-08-26T00:00:00.000000000'\n",
      " '2014-08-25T00:00:00.000000000' '2014-08-24T00:00:00.000000000'\n",
      " '2014-08-23T00:00:00.000000000' '2014-08-22T00:00:00.000000000'\n",
      " '2014-08-21T00:00:00.000000000' '2014-08-20T00:00:00.000000000'\n",
      " '2014-08-19T00:00:00.000000000' '2014-08-18T00:00:00.000000000'\n",
      " '2014-08-17T00:00:00.000000000' '2014-08-16T00:00:00.000000000'\n",
      " '2014-08-15T00:00:00.000000000' '2014-08-14T00:00:00.000000000'\n",
      " '2014-08-13T00:00:00.000000000' '2014-08-12T00:00:00.000000000'\n",
      " '2014-08-11T00:00:00.000000000' '2014-08-10T00:00:00.000000000'\n",
      " '2014-08-09T00:00:00.000000000' '2014-08-08T00:00:00.000000000'\n",
      " '2014-08-07T00:00:00.000000000' '2014-08-06T00:00:00.000000000'\n",
      " '2014-08-05T00:00:00.000000000' '2014-08-04T00:00:00.000000000'\n",
      " '2014-08-03T00:00:00.000000000' '2014-08-02T00:00:00.000000000'\n",
      " '2014-08-01T00:00:00.000000000' '2014-07-31T00:00:00.000000000'\n",
      " '2014-07-30T00:00:00.000000000' '2014-07-29T00:00:00.000000000'\n",
      " '2014-07-28T00:00:00.000000000' '2014-07-27T00:00:00.000000000'\n",
      " '2014-07-26T00:00:00.000000000' '2014-07-25T00:00:00.000000000'\n",
      " '2014-07-24T00:00:00.000000000' '2014-07-23T00:00:00.000000000'\n",
      " '2014-07-22T00:00:00.000000000' '2014-07-21T00:00:00.000000000'\n",
      " '2014-07-20T00:00:00.000000000' '2014-07-19T00:00:00.000000000'\n",
      " '2014-07-18T00:00:00.000000000' '2014-07-17T00:00:00.000000000'\n",
      " '2014-07-16T00:00:00.000000000' '2014-07-15T00:00:00.000000000'\n",
      " '2014-07-14T00:00:00.000000000' '2014-07-13T00:00:00.000000000'\n",
      " '2014-07-12T00:00:00.000000000' '2014-07-11T00:00:00.000000000'\n",
      " '2014-07-10T00:00:00.000000000' '2014-07-09T00:00:00.000000000'\n",
      " '2014-07-08T00:00:00.000000000' '2014-07-07T00:00:00.000000000'\n",
      " '2014-07-06T00:00:00.000000000' '2014-07-05T00:00:00.000000000'\n",
      " '2014-07-04T00:00:00.000000000' '2014-07-03T00:00:00.000000000'\n",
      " '2014-07-02T00:00:00.000000000' '2014-07-01T00:00:00.000000000'\n",
      " '2014-06-30T00:00:00.000000000' '2014-06-29T00:00:00.000000000'\n",
      " '2014-06-28T00:00:00.000000000' '2014-06-27T00:00:00.000000000'\n",
      " '2014-06-26T00:00:00.000000000' '2014-06-25T00:00:00.000000000'\n",
      " '2014-06-24T00:00:00.000000000' '2014-06-23T00:00:00.000000000'\n",
      " '2014-06-22T00:00:00.000000000' '2014-06-21T00:00:00.000000000'\n",
      " '2014-06-20T00:00:00.000000000' '2014-06-19T00:00:00.000000000'\n",
      " '2014-06-18T00:00:00.000000000' '2014-06-17T00:00:00.000000000'\n",
      " '2014-06-16T00:00:00.000000000' '2014-06-15T00:00:00.000000000'\n",
      " '2014-06-14T00:00:00.000000000' '2014-06-13T00:00:00.000000000'\n",
      " '2014-06-12T00:00:00.000000000' '2014-06-11T00:00:00.000000000'\n",
      " '2014-06-10T00:00:00.000000000' '2014-06-09T00:00:00.000000000'\n",
      " '2014-06-08T00:00:00.000000000' '2014-06-07T00:00:00.000000000'\n",
      " '2014-06-06T00:00:00.000000000' '2014-06-05T00:00:00.000000000'\n",
      " '2014-06-04T00:00:00.000000000' '2014-06-03T00:00:00.000000000'\n",
      " '2014-06-02T00:00:00.000000000' '2014-06-01T00:00:00.000000000'\n",
      " '2014-05-31T00:00:00.000000000' '2014-05-30T00:00:00.000000000'\n",
      " '2014-05-29T00:00:00.000000000' '2014-05-28T00:00:00.000000000'\n",
      " '2014-05-27T00:00:00.000000000' '2014-05-26T00:00:00.000000000'\n",
      " '2014-05-25T00:00:00.000000000' '2014-05-24T00:00:00.000000000'\n",
      " '2014-05-23T00:00:00.000000000' '2014-05-22T00:00:00.000000000'\n",
      " '2014-05-21T00:00:00.000000000' '2014-05-20T00:00:00.000000000'\n",
      " '2014-05-19T00:00:00.000000000' '2014-05-18T00:00:00.000000000'\n",
      " '2014-05-17T00:00:00.000000000' '2014-05-16T00:00:00.000000000'\n",
      " '2014-05-15T00:00:00.000000000' '2014-05-14T00:00:00.000000000'\n",
      " '2014-05-13T00:00:00.000000000' '2014-05-12T00:00:00.000000000'\n",
      " '2014-05-11T00:00:00.000000000' '2014-05-10T00:00:00.000000000'\n",
      " '2014-05-09T00:00:00.000000000' '2014-05-08T00:00:00.000000000'\n",
      " '2014-05-07T00:00:00.000000000' '2014-05-06T00:00:00.000000000'\n",
      " '2014-05-05T00:00:00.000000000' '2014-05-04T00:00:00.000000000'\n",
      " '2014-05-03T00:00:00.000000000' '2014-05-02T00:00:00.000000000'\n",
      " '2014-05-01T00:00:00.000000000' '2014-04-30T00:00:00.000000000'\n",
      " '2014-04-29T00:00:00.000000000' '2014-04-28T00:00:00.000000000'\n",
      " '2014-04-27T00:00:00.000000000' '2014-04-26T00:00:00.000000000'\n",
      " '2014-04-25T00:00:00.000000000' '2014-04-24T00:00:00.000000000'\n",
      " '2014-04-23T00:00:00.000000000' '2014-04-22T00:00:00.000000000'\n",
      " '2014-04-21T00:00:00.000000000' '2014-04-20T00:00:00.000000000'\n",
      " '2014-04-19T00:00:00.000000000' '2014-04-18T00:00:00.000000000'\n",
      " '2014-04-17T00:00:00.000000000' '2014-04-16T00:00:00.000000000'\n",
      " '2014-04-15T00:00:00.000000000' '2014-04-14T00:00:00.000000000'\n",
      " '2014-04-13T00:00:00.000000000' '2014-04-12T00:00:00.000000000'\n",
      " '2014-04-11T00:00:00.000000000' '2014-04-10T00:00:00.000000000'\n",
      " '2014-04-09T00:00:00.000000000' '2014-04-08T00:00:00.000000000'\n",
      " '2014-04-07T00:00:00.000000000' '2014-04-06T00:00:00.000000000'\n",
      " '2014-04-05T00:00:00.000000000' '2014-04-04T00:00:00.000000000'\n",
      " '2014-04-03T00:00:00.000000000' '2014-04-02T00:00:00.000000000'\n",
      " '2014-04-01T00:00:00.000000000' '2014-03-31T00:00:00.000000000'\n",
      " '2014-03-30T00:00:00.000000000' '2014-03-29T00:00:00.000000000'\n",
      " '2014-03-28T00:00:00.000000000' '2014-03-27T00:00:00.000000000'\n",
      " '2014-03-26T00:00:00.000000000' '2014-03-25T00:00:00.000000000'\n",
      " '2014-03-24T00:00:00.000000000' '2014-03-23T00:00:00.000000000'\n",
      " '2014-03-22T00:00:00.000000000' '2014-03-21T00:00:00.000000000'\n",
      " '2014-03-20T00:00:00.000000000' '2014-03-19T00:00:00.000000000'\n",
      " '2014-03-18T00:00:00.000000000' '2014-03-17T00:00:00.000000000'\n",
      " '2014-03-16T00:00:00.000000000' '2014-03-15T00:00:00.000000000'\n",
      " '2014-03-14T00:00:00.000000000' '2014-03-13T00:00:00.000000000'\n",
      " '2014-03-12T00:00:00.000000000' '2014-03-11T00:00:00.000000000'\n",
      " '2014-03-10T00:00:00.000000000' '2014-03-09T00:00:00.000000000'\n",
      " '2014-03-08T00:00:00.000000000' '2014-03-07T00:00:00.000000000'\n",
      " '2014-03-06T00:00:00.000000000' '2014-03-05T00:00:00.000000000'\n",
      " '2014-03-04T00:00:00.000000000' '2014-03-03T00:00:00.000000000'\n",
      " '2014-03-02T00:00:00.000000000' '2014-03-01T00:00:00.000000000'\n",
      " '2014-02-28T00:00:00.000000000' '2014-02-27T00:00:00.000000000'\n",
      " '2014-02-26T00:00:00.000000000' '2014-02-25T00:00:00.000000000'\n",
      " '2014-02-24T00:00:00.000000000' '2014-02-23T00:00:00.000000000'\n",
      " '2014-02-22T00:00:00.000000000' '2014-02-21T00:00:00.000000000'\n",
      " '2014-02-20T00:00:00.000000000' '2014-02-19T00:00:00.000000000'\n",
      " '2014-02-18T00:00:00.000000000' '2014-02-17T00:00:00.000000000'\n",
      " '2014-02-16T00:00:00.000000000' '2014-02-15T00:00:00.000000000'\n",
      " '2014-02-14T00:00:00.000000000' '2014-02-13T00:00:00.000000000'\n",
      " '2014-02-12T00:00:00.000000000' '2014-02-11T00:00:00.000000000'\n",
      " '2014-02-10T00:00:00.000000000' '2014-02-09T00:00:00.000000000'\n",
      " '2014-02-08T00:00:00.000000000' '2014-02-07T00:00:00.000000000'\n",
      " '2014-02-06T00:00:00.000000000' '2014-02-05T00:00:00.000000000'\n",
      " '2014-02-04T00:00:00.000000000' '2014-02-03T00:00:00.000000000'\n",
      " '2014-02-02T00:00:00.000000000' '2014-02-01T00:00:00.000000000'\n",
      " '2014-01-31T00:00:00.000000000' '2014-01-30T00:00:00.000000000'\n",
      " '2014-01-29T00:00:00.000000000' '2014-01-28T00:00:00.000000000'\n",
      " '2014-01-27T00:00:00.000000000' '2014-01-26T00:00:00.000000000'\n",
      " '2014-01-25T00:00:00.000000000' '2014-01-24T00:00:00.000000000'\n",
      " '2014-01-23T00:00:00.000000000' '2014-01-22T00:00:00.000000000'\n",
      " '2014-01-21T00:00:00.000000000' '2014-01-20T00:00:00.000000000'\n",
      " '2014-01-19T00:00:00.000000000' '2014-01-18T00:00:00.000000000'\n",
      " '2014-01-17T00:00:00.000000000' '2014-01-16T00:00:00.000000000'\n",
      " '2014-01-15T00:00:00.000000000' '2014-01-14T00:00:00.000000000'\n",
      " '2014-01-13T00:00:00.000000000' '2014-01-12T00:00:00.000000000'\n",
      " '2014-01-11T00:00:00.000000000' '2014-01-10T00:00:00.000000000'\n",
      " '2014-01-09T00:00:00.000000000' '2014-01-08T00:00:00.000000000'\n",
      " '2014-01-07T00:00:00.000000000' '2014-01-06T00:00:00.000000000'\n",
      " '2014-01-05T00:00:00.000000000' '2014-01-04T00:00:00.000000000'\n",
      " '2014-01-03T00:00:00.000000000' '2014-01-02T00:00:00.000000000'\n",
      " '2014-01-01T00:00:00.000000000' '2013-12-31T00:00:00.000000000'\n",
      " '2013-12-30T00:00:00.000000000' '2013-12-29T00:00:00.000000000'\n",
      " '2013-12-28T00:00:00.000000000' '2013-12-27T00:00:00.000000000'\n",
      " '2013-12-26T00:00:00.000000000' '2013-12-25T00:00:00.000000000'\n",
      " '2013-12-24T00:00:00.000000000' '2013-12-23T00:00:00.000000000'\n",
      " '2013-12-22T00:00:00.000000000' '2013-12-21T00:00:00.000000000'\n",
      " '2013-12-20T00:00:00.000000000' '2013-12-19T00:00:00.000000000'\n",
      " '2013-12-18T00:00:00.000000000' '2013-12-17T00:00:00.000000000'\n",
      " '2013-12-16T00:00:00.000000000' '2013-12-15T00:00:00.000000000'\n",
      " '2013-12-14T00:00:00.000000000' '2013-12-13T00:00:00.000000000'\n",
      " '2013-12-12T00:00:00.000000000' '2013-12-11T00:00:00.000000000'\n",
      " '2013-12-10T00:00:00.000000000' '2013-12-09T00:00:00.000000000'\n",
      " '2013-12-08T00:00:00.000000000' '2013-12-07T00:00:00.000000000'\n",
      " '2013-12-06T00:00:00.000000000' '2013-12-05T00:00:00.000000000'\n",
      " '2013-12-04T00:00:00.000000000' '2013-12-03T00:00:00.000000000'\n",
      " '2013-12-02T00:00:00.000000000' '2013-12-01T00:00:00.000000000'\n",
      " '2013-11-30T00:00:00.000000000' '2013-11-29T00:00:00.000000000'\n",
      " '2013-11-28T00:00:00.000000000' '2013-11-27T00:00:00.000000000'\n",
      " '2013-11-26T00:00:00.000000000' '2013-11-25T00:00:00.000000000'\n",
      " '2013-11-24T00:00:00.000000000' '2013-11-23T00:00:00.000000000'\n",
      " '2013-11-22T00:00:00.000000000' '2013-11-21T00:00:00.000000000'\n",
      " '2013-11-20T00:00:00.000000000' '2013-11-19T00:00:00.000000000'\n",
      " '2013-11-18T00:00:00.000000000' '2013-11-17T00:00:00.000000000'\n",
      " '2013-11-16T00:00:00.000000000' '2013-11-15T00:00:00.000000000'\n",
      " '2013-11-14T00:00:00.000000000' '2013-11-13T00:00:00.000000000'\n",
      " '2013-11-12T00:00:00.000000000' '2013-11-11T00:00:00.000000000'\n",
      " '2013-11-10T00:00:00.000000000' '2013-11-09T00:00:00.000000000'\n",
      " '2013-11-08T00:00:00.000000000' '2013-11-07T00:00:00.000000000'\n",
      " '2013-11-06T00:00:00.000000000' '2013-11-05T00:00:00.000000000'\n",
      " '2013-11-04T00:00:00.000000000' '2013-11-03T00:00:00.000000000'\n",
      " '2013-11-02T00:00:00.000000000' '2013-11-01T00:00:00.000000000'\n",
      " '2013-10-31T00:00:00.000000000' '2013-10-30T00:00:00.000000000'\n",
      " '2013-10-29T00:00:00.000000000' '2013-10-28T00:00:00.000000000'\n",
      " '2013-10-27T00:00:00.000000000' '2013-10-26T00:00:00.000000000'\n",
      " '2013-10-25T00:00:00.000000000' '2013-10-24T00:00:00.000000000'\n",
      " '2013-10-23T00:00:00.000000000' '2013-10-22T00:00:00.000000000'\n",
      " '2013-10-21T00:00:00.000000000' '2013-10-20T00:00:00.000000000'\n",
      " '2013-10-19T00:00:00.000000000' '2013-10-18T00:00:00.000000000'\n",
      " '2013-10-17T00:00:00.000000000' '2013-10-16T00:00:00.000000000'\n",
      " '2013-10-15T00:00:00.000000000' '2013-10-14T00:00:00.000000000'\n",
      " '2013-10-13T00:00:00.000000000' '2013-10-12T00:00:00.000000000'\n",
      " '2013-10-11T00:00:00.000000000' '2013-10-10T00:00:00.000000000'\n",
      " '2013-10-09T00:00:00.000000000' '2013-10-08T00:00:00.000000000'\n",
      " '2013-10-07T00:00:00.000000000' '2013-10-06T00:00:00.000000000'\n",
      " '2013-10-05T00:00:00.000000000' '2013-10-04T00:00:00.000000000'\n",
      " '2013-10-03T00:00:00.000000000' '2013-10-02T00:00:00.000000000'\n",
      " '2013-10-01T00:00:00.000000000' '2013-09-30T00:00:00.000000000'\n",
      " '2013-09-29T00:00:00.000000000' '2013-09-28T00:00:00.000000000'\n",
      " '2013-09-27T00:00:00.000000000' '2013-09-26T00:00:00.000000000'\n",
      " '2013-09-25T00:00:00.000000000' '2013-09-24T00:00:00.000000000'\n",
      " '2013-09-23T00:00:00.000000000' '2013-09-22T00:00:00.000000000'\n",
      " '2013-09-21T00:00:00.000000000' '2013-09-20T00:00:00.000000000'\n",
      " '2013-09-19T00:00:00.000000000' '2013-09-18T00:00:00.000000000'\n",
      " '2013-09-17T00:00:00.000000000' '2013-09-16T00:00:00.000000000'\n",
      " '2013-09-15T00:00:00.000000000' '2013-09-14T00:00:00.000000000'\n",
      " '2013-09-13T00:00:00.000000000' '2013-09-12T00:00:00.000000000'\n",
      " '2013-09-11T00:00:00.000000000' '2013-09-10T00:00:00.000000000'\n",
      " '2013-09-09T00:00:00.000000000' '2013-09-08T00:00:00.000000000'\n",
      " '2013-09-07T00:00:00.000000000' '2013-09-06T00:00:00.000000000'\n",
      " '2013-09-05T00:00:00.000000000' '2013-09-04T00:00:00.000000000'\n",
      " '2013-09-03T00:00:00.000000000' '2013-09-02T00:00:00.000000000'\n",
      " '2013-09-01T00:00:00.000000000' '2013-08-31T00:00:00.000000000'\n",
      " '2013-08-30T00:00:00.000000000' '2013-08-29T00:00:00.000000000'\n",
      " '2013-08-28T00:00:00.000000000' '2013-08-27T00:00:00.000000000'\n",
      " '2013-08-26T00:00:00.000000000' '2013-08-25T00:00:00.000000000'\n",
      " '2013-08-24T00:00:00.000000000' '2013-08-23T00:00:00.000000000'\n",
      " '2013-08-22T00:00:00.000000000' '2013-08-21T00:00:00.000000000'\n",
      " '2013-08-20T00:00:00.000000000' '2013-08-19T00:00:00.000000000'\n",
      " '2013-08-18T00:00:00.000000000' '2013-08-17T00:00:00.000000000'\n",
      " '2013-08-16T00:00:00.000000000' '2013-08-15T00:00:00.000000000'\n",
      " '2013-08-14T00:00:00.000000000' '2013-08-13T00:00:00.000000000'\n",
      " '2013-08-12T00:00:00.000000000' '2013-08-11T00:00:00.000000000'\n",
      " '2013-08-10T00:00:00.000000000' '2013-08-09T00:00:00.000000000'\n",
      " '2013-08-08T00:00:00.000000000' '2013-08-07T00:00:00.000000000'\n",
      " '2013-08-06T00:00:00.000000000' '2013-08-05T00:00:00.000000000'\n",
      " '2013-08-04T00:00:00.000000000' '2013-08-03T00:00:00.000000000'\n",
      " '2013-08-02T00:00:00.000000000' '2013-08-01T00:00:00.000000000'\n",
      " '2013-07-31T00:00:00.000000000' '2013-07-30T00:00:00.000000000'\n",
      " '2013-07-29T00:00:00.000000000' '2013-07-28T00:00:00.000000000'\n",
      " '2013-07-27T00:00:00.000000000' '2013-07-26T00:00:00.000000000'\n",
      " '2013-07-25T00:00:00.000000000' '2013-07-24T00:00:00.000000000'\n",
      " '2013-07-23T00:00:00.000000000' '2013-07-22T00:00:00.000000000'\n",
      " '2013-07-21T00:00:00.000000000' '2013-07-20T00:00:00.000000000'\n",
      " '2013-07-19T00:00:00.000000000' '2013-07-18T00:00:00.000000000'\n",
      " '2013-07-17T00:00:00.000000000' '2013-07-16T00:00:00.000000000'\n",
      " '2013-07-15T00:00:00.000000000' '2013-07-14T00:00:00.000000000'\n",
      " '2013-07-13T00:00:00.000000000' '2013-07-12T00:00:00.000000000'\n",
      " '2013-07-11T00:00:00.000000000' '2013-07-10T00:00:00.000000000'\n",
      " '2013-07-09T00:00:00.000000000' '2013-07-08T00:00:00.000000000'\n",
      " '2013-07-07T00:00:00.000000000' '2013-07-06T00:00:00.000000000'\n",
      " '2013-07-05T00:00:00.000000000' '2013-07-04T00:00:00.000000000'\n",
      " '2013-07-03T00:00:00.000000000' '2013-07-02T00:00:00.000000000'\n",
      " '2013-07-01T00:00:00.000000000' '2013-06-30T00:00:00.000000000'\n",
      " '2013-06-29T00:00:00.000000000' '2013-06-28T00:00:00.000000000'\n",
      " '2013-06-27T00:00:00.000000000' '2013-06-26T00:00:00.000000000'\n",
      " '2013-06-25T00:00:00.000000000' '2013-06-24T00:00:00.000000000'\n",
      " '2013-06-23T00:00:00.000000000' '2013-06-22T00:00:00.000000000'\n",
      " '2013-06-21T00:00:00.000000000' '2013-06-20T00:00:00.000000000'\n",
      " '2013-06-19T00:00:00.000000000' '2013-06-18T00:00:00.000000000'\n",
      " '2013-06-17T00:00:00.000000000' '2013-06-16T00:00:00.000000000'\n",
      " '2013-06-15T00:00:00.000000000' '2013-06-14T00:00:00.000000000'\n",
      " '2013-06-13T00:00:00.000000000' '2013-06-12T00:00:00.000000000'\n",
      " '2013-06-11T00:00:00.000000000' '2013-06-10T00:00:00.000000000'\n",
      " '2013-06-09T00:00:00.000000000' '2013-06-08T00:00:00.000000000'\n",
      " '2013-06-07T00:00:00.000000000' '2013-06-06T00:00:00.000000000'\n",
      " '2013-06-05T00:00:00.000000000' '2013-06-04T00:00:00.000000000'\n",
      " '2013-06-03T00:00:00.000000000' '2013-06-02T00:00:00.000000000'\n",
      " '2013-06-01T00:00:00.000000000' '2013-05-31T00:00:00.000000000'\n",
      " '2013-05-30T00:00:00.000000000' '2013-05-29T00:00:00.000000000'\n",
      " '2013-05-28T00:00:00.000000000' '2013-05-27T00:00:00.000000000'\n",
      " '2013-05-26T00:00:00.000000000' '2013-05-25T00:00:00.000000000'\n",
      " '2013-05-24T00:00:00.000000000' '2013-05-23T00:00:00.000000000'\n",
      " '2013-05-22T00:00:00.000000000' '2013-05-21T00:00:00.000000000'\n",
      " '2013-05-20T00:00:00.000000000' '2013-05-19T00:00:00.000000000'\n",
      " '2013-05-18T00:00:00.000000000' '2013-05-17T00:00:00.000000000'\n",
      " '2013-05-16T00:00:00.000000000' '2013-05-15T00:00:00.000000000'\n",
      " '2013-05-14T00:00:00.000000000' '2013-05-13T00:00:00.000000000'\n",
      " '2013-05-12T00:00:00.000000000' '2013-05-11T00:00:00.000000000'\n",
      " '2013-05-10T00:00:00.000000000' '2013-05-09T00:00:00.000000000'\n",
      " '2013-05-08T00:00:00.000000000' '2013-05-07T00:00:00.000000000'\n",
      " '2013-05-06T00:00:00.000000000' '2013-05-05T00:00:00.000000000'\n",
      " '2013-05-04T00:00:00.000000000' '2013-05-03T00:00:00.000000000'\n",
      " '2013-05-02T00:00:00.000000000' '2013-05-01T00:00:00.000000000'\n",
      " '2013-04-30T00:00:00.000000000' '2013-04-29T00:00:00.000000000'\n",
      " '2013-04-28T00:00:00.000000000' '2013-04-27T00:00:00.000000000'\n",
      " '2013-04-26T00:00:00.000000000' '2013-04-25T00:00:00.000000000'\n",
      " '2013-04-24T00:00:00.000000000' '2013-04-23T00:00:00.000000000'\n",
      " '2013-04-22T00:00:00.000000000' '2013-04-21T00:00:00.000000000'\n",
      " '2013-04-20T00:00:00.000000000' '2013-04-19T00:00:00.000000000'\n",
      " '2013-04-18T00:00:00.000000000' '2013-04-17T00:00:00.000000000'\n",
      " '2013-04-16T00:00:00.000000000' '2013-04-15T00:00:00.000000000'\n",
      " '2013-04-14T00:00:00.000000000' '2013-04-13T00:00:00.000000000'\n",
      " '2013-04-12T00:00:00.000000000' '2013-04-11T00:00:00.000000000'\n",
      " '2013-04-10T00:00:00.000000000' '2013-04-09T00:00:00.000000000'\n",
      " '2013-04-08T00:00:00.000000000' '2013-04-07T00:00:00.000000000'\n",
      " '2013-04-06T00:00:00.000000000' '2013-04-05T00:00:00.000000000'\n",
      " '2013-04-04T00:00:00.000000000' '2013-04-03T00:00:00.000000000'\n",
      " '2013-04-02T00:00:00.000000000' '2013-04-01T00:00:00.000000000'\n",
      " '2013-03-31T00:00:00.000000000' '2013-03-30T00:00:00.000000000'\n",
      " '2013-03-29T00:00:00.000000000' '2013-03-28T00:00:00.000000000'\n",
      " '2013-03-27T00:00:00.000000000' '2013-03-26T00:00:00.000000000'\n",
      " '2013-03-25T00:00:00.000000000' '2013-03-24T00:00:00.000000000'\n",
      " '2013-03-23T00:00:00.000000000' '2013-03-22T00:00:00.000000000'\n",
      " '2013-03-21T00:00:00.000000000' '2013-03-20T00:00:00.000000000'\n",
      " '2013-03-19T00:00:00.000000000' '2013-03-18T00:00:00.000000000'\n",
      " '2013-03-17T00:00:00.000000000' '2013-03-16T00:00:00.000000000'\n",
      " '2013-03-15T00:00:00.000000000' '2013-03-14T00:00:00.000000000'\n",
      " '2013-03-13T00:00:00.000000000' '2013-03-12T00:00:00.000000000'\n",
      " '2013-03-11T00:00:00.000000000' '2013-03-10T00:00:00.000000000'\n",
      " '2013-03-09T00:00:00.000000000' '2013-03-08T00:00:00.000000000'\n",
      " '2013-03-07T00:00:00.000000000' '2013-03-06T00:00:00.000000000'\n",
      " '2013-03-05T00:00:00.000000000' '2013-03-04T00:00:00.000000000'\n",
      " '2013-03-03T00:00:00.000000000' '2013-03-02T00:00:00.000000000'\n",
      " '2013-03-01T00:00:00.000000000' '2013-02-28T00:00:00.000000000'\n",
      " '2013-02-27T00:00:00.000000000' '2013-02-26T00:00:00.000000000'\n",
      " '2013-02-25T00:00:00.000000000' '2013-02-24T00:00:00.000000000'\n",
      " '2013-02-23T00:00:00.000000000' '2013-02-22T00:00:00.000000000'\n",
      " '2013-02-21T00:00:00.000000000' '2013-02-20T00:00:00.000000000'\n",
      " '2013-02-19T00:00:00.000000000' '2013-02-18T00:00:00.000000000'\n",
      " '2013-02-17T00:00:00.000000000' '2013-02-16T00:00:00.000000000'\n",
      " '2013-02-15T00:00:00.000000000' '2013-02-14T00:00:00.000000000'\n",
      " '2013-02-13T00:00:00.000000000' '2013-02-12T00:00:00.000000000'\n",
      " '2013-02-11T00:00:00.000000000' '2013-02-10T00:00:00.000000000'\n",
      " '2013-02-09T00:00:00.000000000' '2013-02-08T00:00:00.000000000'\n",
      " '2013-02-07T00:00:00.000000000' '2013-02-06T00:00:00.000000000'\n",
      " '2013-02-05T00:00:00.000000000' '2013-02-04T00:00:00.000000000'\n",
      " '2013-02-03T00:00:00.000000000' '2013-02-02T00:00:00.000000000'\n",
      " '2013-02-01T00:00:00.000000000' '2013-01-31T00:00:00.000000000'\n",
      " '2013-01-30T00:00:00.000000000' '2013-01-29T00:00:00.000000000'\n",
      " '2013-01-28T00:00:00.000000000' '2013-01-27T00:00:00.000000000'\n",
      " '2013-01-26T00:00:00.000000000' '2013-01-25T00:00:00.000000000'\n",
      " '2013-01-24T00:00:00.000000000' '2013-01-23T00:00:00.000000000'\n",
      " '2013-01-22T00:00:00.000000000' '2013-01-21T00:00:00.000000000'\n",
      " '2013-01-20T00:00:00.000000000' '2013-01-19T00:00:00.000000000'\n",
      " '2013-01-18T00:00:00.000000000' '2013-01-17T00:00:00.000000000'\n",
      " '2013-01-16T00:00:00.000000000' '2013-01-15T00:00:00.000000000'\n",
      " '2013-01-14T00:00:00.000000000' '2013-01-13T00:00:00.000000000'\n",
      " '2013-01-12T00:00:00.000000000' '2013-01-11T00:00:00.000000000'\n",
      " '2013-01-10T00:00:00.000000000' '2013-01-09T00:00:00.000000000'\n",
      " '2013-01-08T00:00:00.000000000' '2013-01-07T00:00:00.000000000'\n",
      " '2013-01-06T00:00:00.000000000' '2013-01-05T00:00:00.000000000'\n",
      " '2013-01-04T00:00:00.000000000' '2013-01-03T00:00:00.000000000'\n",
      " '2013-01-02T00:00:00.000000000' '2013-01-01T00:00:00.000000000'] , total value =  942\n"
     ]
    },
    {
     "name": "stdout",
     "output_type": "stream",
     "text": [
      "Sales variable has no. of unique value :  [ 5263  5020  4782 ... 20362 18841 21237] , total value =  21734\n",
      "Customers variable has no. of unique value :  [ 555  546  523 ... 3727 4022 4106] , total value =  4086\n",
      "Open variable has no. of unique value :  [1 0] , total value =  2\n",
      "Promo variable has no. of unique value :  [1 0] , total value =  2\n",
      "StateHoliday variable has no. of unique value :  ['0' 'a' 'b' 'c' 0] , total value =  5\n",
      "SchoolHoliday variable has no. of unique value :  [1 0] , total value =  2\n"
     ]
    }
   ],
   "source": [
    "for col in df:\n",
    "    print(col, 'variable has no. of unique value : ', df[col].unique(), ', total value = ',df[col].nunique())"
   ]
  },
  {
   "cell_type": "markdown",
   "metadata": {
    "id": "dauF4eBmngu3"
   },
   "source": [
    "## 3. ***Data Wrangling***"
   ]
  },
  {
   "cell_type": "markdown",
   "metadata": {
    "id": "bKJF3rekwFvQ"
   },
   "source": [
    "### Data Wrangling Code"
   ]
  },
  {
   "cell_type": "code",
   "execution_count": 29,
   "metadata": {
    "id": "wk-9a2fpoLcV"
   },
   "outputs": [],
   "source": [
    "# Write your code to make your dataset analysis ready.\n"
   ]
  },
  {
   "cell_type": "code",
   "execution_count": 52,
   "metadata": {},
   "outputs": [
    {
     "data": {
      "text/html": [
       "<div>\n",
       "<style scoped>\n",
       "    .dataframe tbody tr th:only-of-type {\n",
       "        vertical-align: middle;\n",
       "    }\n",
       "\n",
       "    .dataframe tbody tr th {\n",
       "        vertical-align: top;\n",
       "    }\n",
       "\n",
       "    .dataframe thead th {\n",
       "        text-align: right;\n",
       "    }\n",
       "</style>\n",
       "<table border=\"1\" class=\"dataframe\">\n",
       "  <thead>\n",
       "    <tr style=\"text-align: right;\">\n",
       "      <th></th>\n",
       "      <th>Store</th>\n",
       "      <th>StoreType</th>\n",
       "      <th>Assortment</th>\n",
       "      <th>CompetitionDistance</th>\n",
       "      <th>CompetitionOpenSinceMonth</th>\n",
       "      <th>CompetitionOpenSinceYear</th>\n",
       "      <th>Promo2</th>\n",
       "      <th>Promo2SinceWeek</th>\n",
       "      <th>Promo2SinceYear</th>\n",
       "      <th>PromoInterval</th>\n",
       "      <th>DayOfWeek</th>\n",
       "      <th>Date</th>\n",
       "      <th>Sales</th>\n",
       "      <th>Customers</th>\n",
       "      <th>Open</th>\n",
       "      <th>Promo</th>\n",
       "      <th>StateHoliday</th>\n",
       "      <th>SchoolHoliday</th>\n",
       "    </tr>\n",
       "  </thead>\n",
       "  <tbody>\n",
       "    <tr>\n",
       "      <th>0</th>\n",
       "      <td>1</td>\n",
       "      <td>c</td>\n",
       "      <td>a</td>\n",
       "      <td>1270.0</td>\n",
       "      <td>9.0</td>\n",
       "      <td>2008.0</td>\n",
       "      <td>0</td>\n",
       "      <td>0.0</td>\n",
       "      <td>0.0</td>\n",
       "      <td>0</td>\n",
       "      <td>5</td>\n",
       "      <td>2015-07-31</td>\n",
       "      <td>5263</td>\n",
       "      <td>555</td>\n",
       "      <td>1</td>\n",
       "      <td>1</td>\n",
       "      <td>0</td>\n",
       "      <td>1</td>\n",
       "    </tr>\n",
       "    <tr>\n",
       "      <th>1</th>\n",
       "      <td>1</td>\n",
       "      <td>c</td>\n",
       "      <td>a</td>\n",
       "      <td>1270.0</td>\n",
       "      <td>9.0</td>\n",
       "      <td>2008.0</td>\n",
       "      <td>0</td>\n",
       "      <td>0.0</td>\n",
       "      <td>0.0</td>\n",
       "      <td>0</td>\n",
       "      <td>4</td>\n",
       "      <td>2015-07-30</td>\n",
       "      <td>5020</td>\n",
       "      <td>546</td>\n",
       "      <td>1</td>\n",
       "      <td>1</td>\n",
       "      <td>0</td>\n",
       "      <td>1</td>\n",
       "    </tr>\n",
       "    <tr>\n",
       "      <th>2</th>\n",
       "      <td>1</td>\n",
       "      <td>c</td>\n",
       "      <td>a</td>\n",
       "      <td>1270.0</td>\n",
       "      <td>9.0</td>\n",
       "      <td>2008.0</td>\n",
       "      <td>0</td>\n",
       "      <td>0.0</td>\n",
       "      <td>0.0</td>\n",
       "      <td>0</td>\n",
       "      <td>3</td>\n",
       "      <td>2015-07-29</td>\n",
       "      <td>4782</td>\n",
       "      <td>523</td>\n",
       "      <td>1</td>\n",
       "      <td>1</td>\n",
       "      <td>0</td>\n",
       "      <td>1</td>\n",
       "    </tr>\n",
       "    <tr>\n",
       "      <th>3</th>\n",
       "      <td>1</td>\n",
       "      <td>c</td>\n",
       "      <td>a</td>\n",
       "      <td>1270.0</td>\n",
       "      <td>9.0</td>\n",
       "      <td>2008.0</td>\n",
       "      <td>0</td>\n",
       "      <td>0.0</td>\n",
       "      <td>0.0</td>\n",
       "      <td>0</td>\n",
       "      <td>2</td>\n",
       "      <td>2015-07-28</td>\n",
       "      <td>5011</td>\n",
       "      <td>560</td>\n",
       "      <td>1</td>\n",
       "      <td>1</td>\n",
       "      <td>0</td>\n",
       "      <td>1</td>\n",
       "    </tr>\n",
       "    <tr>\n",
       "      <th>4</th>\n",
       "      <td>1</td>\n",
       "      <td>c</td>\n",
       "      <td>a</td>\n",
       "      <td>1270.0</td>\n",
       "      <td>9.0</td>\n",
       "      <td>2008.0</td>\n",
       "      <td>0</td>\n",
       "      <td>0.0</td>\n",
       "      <td>0.0</td>\n",
       "      <td>0</td>\n",
       "      <td>1</td>\n",
       "      <td>2015-07-27</td>\n",
       "      <td>6102</td>\n",
       "      <td>612</td>\n",
       "      <td>1</td>\n",
       "      <td>1</td>\n",
       "      <td>0</td>\n",
       "      <td>1</td>\n",
       "    </tr>\n",
       "    <tr>\n",
       "      <th>5</th>\n",
       "      <td>1</td>\n",
       "      <td>c</td>\n",
       "      <td>a</td>\n",
       "      <td>1270.0</td>\n",
       "      <td>9.0</td>\n",
       "      <td>2008.0</td>\n",
       "      <td>0</td>\n",
       "      <td>0.0</td>\n",
       "      <td>0.0</td>\n",
       "      <td>0</td>\n",
       "      <td>7</td>\n",
       "      <td>2015-07-26</td>\n",
       "      <td>0</td>\n",
       "      <td>0</td>\n",
       "      <td>0</td>\n",
       "      <td>0</td>\n",
       "      <td>0</td>\n",
       "      <td>0</td>\n",
       "    </tr>\n",
       "    <tr>\n",
       "      <th>6</th>\n",
       "      <td>1</td>\n",
       "      <td>c</td>\n",
       "      <td>a</td>\n",
       "      <td>1270.0</td>\n",
       "      <td>9.0</td>\n",
       "      <td>2008.0</td>\n",
       "      <td>0</td>\n",
       "      <td>0.0</td>\n",
       "      <td>0.0</td>\n",
       "      <td>0</td>\n",
       "      <td>6</td>\n",
       "      <td>2015-07-25</td>\n",
       "      <td>4364</td>\n",
       "      <td>500</td>\n",
       "      <td>1</td>\n",
       "      <td>0</td>\n",
       "      <td>0</td>\n",
       "      <td>0</td>\n",
       "    </tr>\n",
       "    <tr>\n",
       "      <th>7</th>\n",
       "      <td>1</td>\n",
       "      <td>c</td>\n",
       "      <td>a</td>\n",
       "      <td>1270.0</td>\n",
       "      <td>9.0</td>\n",
       "      <td>2008.0</td>\n",
       "      <td>0</td>\n",
       "      <td>0.0</td>\n",
       "      <td>0.0</td>\n",
       "      <td>0</td>\n",
       "      <td>5</td>\n",
       "      <td>2015-07-24</td>\n",
       "      <td>3706</td>\n",
       "      <td>459</td>\n",
       "      <td>1</td>\n",
       "      <td>0</td>\n",
       "      <td>0</td>\n",
       "      <td>0</td>\n",
       "    </tr>\n",
       "    <tr>\n",
       "      <th>8</th>\n",
       "      <td>1</td>\n",
       "      <td>c</td>\n",
       "      <td>a</td>\n",
       "      <td>1270.0</td>\n",
       "      <td>9.0</td>\n",
       "      <td>2008.0</td>\n",
       "      <td>0</td>\n",
       "      <td>0.0</td>\n",
       "      <td>0.0</td>\n",
       "      <td>0</td>\n",
       "      <td>4</td>\n",
       "      <td>2015-07-23</td>\n",
       "      <td>3769</td>\n",
       "      <td>503</td>\n",
       "      <td>1</td>\n",
       "      <td>0</td>\n",
       "      <td>0</td>\n",
       "      <td>0</td>\n",
       "    </tr>\n",
       "    <tr>\n",
       "      <th>9</th>\n",
       "      <td>1</td>\n",
       "      <td>c</td>\n",
       "      <td>a</td>\n",
       "      <td>1270.0</td>\n",
       "      <td>9.0</td>\n",
       "      <td>2008.0</td>\n",
       "      <td>0</td>\n",
       "      <td>0.0</td>\n",
       "      <td>0.0</td>\n",
       "      <td>0</td>\n",
       "      <td>3</td>\n",
       "      <td>2015-07-22</td>\n",
       "      <td>3464</td>\n",
       "      <td>463</td>\n",
       "      <td>1</td>\n",
       "      <td>0</td>\n",
       "      <td>0</td>\n",
       "      <td>0</td>\n",
       "    </tr>\n",
       "  </tbody>\n",
       "</table>\n",
       "</div>"
      ],
      "text/plain": [
       "   Store StoreType Assortment  CompetitionDistance  CompetitionOpenSinceMonth  \\\n",
       "0      1         c          a               1270.0                        9.0   \n",
       "1      1         c          a               1270.0                        9.0   \n",
       "2      1         c          a               1270.0                        9.0   \n",
       "3      1         c          a               1270.0                        9.0   \n",
       "4      1         c          a               1270.0                        9.0   \n",
       "5      1         c          a               1270.0                        9.0   \n",
       "6      1         c          a               1270.0                        9.0   \n",
       "7      1         c          a               1270.0                        9.0   \n",
       "8      1         c          a               1270.0                        9.0   \n",
       "9      1         c          a               1270.0                        9.0   \n",
       "\n",
       "   CompetitionOpenSinceYear  Promo2  Promo2SinceWeek  Promo2SinceYear  \\\n",
       "0                    2008.0       0              0.0              0.0   \n",
       "1                    2008.0       0              0.0              0.0   \n",
       "2                    2008.0       0              0.0              0.0   \n",
       "3                    2008.0       0              0.0              0.0   \n",
       "4                    2008.0       0              0.0              0.0   \n",
       "5                    2008.0       0              0.0              0.0   \n",
       "6                    2008.0       0              0.0              0.0   \n",
       "7                    2008.0       0              0.0              0.0   \n",
       "8                    2008.0       0              0.0              0.0   \n",
       "9                    2008.0       0              0.0              0.0   \n",
       "\n",
       "  PromoInterval  DayOfWeek       Date  Sales  Customers  Open  Promo  \\\n",
       "0             0          5 2015-07-31   5263        555     1      1   \n",
       "1             0          4 2015-07-30   5020        546     1      1   \n",
       "2             0          3 2015-07-29   4782        523     1      1   \n",
       "3             0          2 2015-07-28   5011        560     1      1   \n",
       "4             0          1 2015-07-27   6102        612     1      1   \n",
       "5             0          7 2015-07-26      0          0     0      0   \n",
       "6             0          6 2015-07-25   4364        500     1      0   \n",
       "7             0          5 2015-07-24   3706        459     1      0   \n",
       "8             0          4 2015-07-23   3769        503     1      0   \n",
       "9             0          3 2015-07-22   3464        463     1      0   \n",
       "\n",
       "  StateHoliday  SchoolHoliday  \n",
       "0            0              1  \n",
       "1            0              1  \n",
       "2            0              1  \n",
       "3            0              1  \n",
       "4            0              1  \n",
       "5            0              0  \n",
       "6            0              0  \n",
       "7            0              0  \n",
       "8            0              0  \n",
       "9            0              0  "
      ]
     },
     "execution_count": 52,
     "metadata": {},
     "output_type": "execute_result"
    }
   ],
   "source": [
    "df.head(10)"
   ]
  },
  {
   "cell_type": "code",
   "execution_count": 31,
   "metadata": {},
   "outputs": [
    {
     "data": {
      "text/plain": [
       "Index(['Store', 'CompetitionDistance', 'CompetitionOpenSinceMonth',\n",
       "       'CompetitionOpenSinceYear', 'Promo2', 'Promo2SinceWeek',\n",
       "       'Promo2SinceYear', 'DayOfWeek', 'Sales', 'Customers', 'Open', 'Promo',\n",
       "       'SchoolHoliday'],\n",
       "      dtype='object')"
      ]
     },
     "execution_count": 31,
     "metadata": {},
     "output_type": "execute_result"
    }
   ],
   "source": [
    "df.describe().columns"
   ]
  },
  {
   "cell_type": "code",
   "execution_count": null,
   "metadata": {},
   "outputs": [],
   "source": []
  },
  {
   "cell_type": "markdown",
   "metadata": {
    "id": "MSa1f5Uengrz"
   },
   "source": [
    "### What all manipulations have you done and insights you found?"
   ]
  },
  {
   "cell_type": "markdown",
   "metadata": {
    "id": "LbyXE7I1olp8"
   },
   "source": [
    "Answer Here."
   ]
  },
  {
   "cell_type": "markdown",
   "metadata": {
    "id": "GF8Ens_Soomf"
   },
   "source": [
    "## ***4. Data Vizualization, Storytelling & Experimenting with charts : Understand the relationships between variables***"
   ]
  },
  {
   "cell_type": "markdown",
   "metadata": {
    "id": "0wOQAZs5pc--"
   },
   "source": [
    "#### Chart - 1"
   ]
  },
  {
   "cell_type": "code",
   "execution_count": 32,
   "metadata": {
    "id": "7v_ESjsspbW7"
   },
   "outputs": [],
   "source": [
    "# Chart - 1 Calculate top and bottom twenty store  sales "
   ]
  },
  {
   "cell_type": "code",
   "execution_count": 33,
   "metadata": {},
   "outputs": [
    {
     "data": {
      "text/plain": [
       "Store\n",
       "262     20718.515924\n",
       "817     18108.139066\n",
       "562     17969.556263\n",
       "1114    17200.196391\n",
       "251     15814.087049\n",
       "842     15242.114776\n",
       "513     15129.942675\n",
       "788     14949.194268\n",
       "733     14933.288747\n",
       "383     14320.466030\n",
       "756     13706.774947\n",
       "335     13313.939490\n",
       "698     12953.577495\n",
       "523     12925.684713\n",
       "595     12499.980892\n",
       "586     12465.393843\n",
       "320     12346.303609\n",
       "380     11955.070064\n",
       "544     11670.604034\n",
       "1033    11539.564756\n",
       "Name: Sales, dtype: float64"
      ]
     },
     "execution_count": 33,
     "metadata": {},
     "output_type": "execute_result"
    }
   ],
   "source": [
    "a=df.groupby('Store')['Sales'].mean().sort_values(ascending=False)[:20]\n",
    "a"
   ]
  },
  {
   "cell_type": "code",
   "execution_count": 34,
   "metadata": {},
   "outputs": [
    {
     "data": {
      "text/plain": [
       "<matplotlib.legend.Legend at 0x2684fab1be0>"
      ]
     },
     "execution_count": 34,
     "metadata": {},
     "output_type": "execute_result"
    },
    {
     "data": {
      "image/png": "[encoded data removed]",
      "text/plain": [
       "<Figure size 800x500 with 1 Axes>"
      ]
     },
     "metadata": {},
     "output_type": "display_data"
    }
   ],
   "source": [
    "plt.figure(figsize=(8,5))\n",
    "a.plot(kind='bar')\n",
    "plt.title('store vs sales')\n",
    "plt.xlabel('store ID')\n",
    "plt.ylabel('Mean Sales')\n",
    "plt.legend()"
   ]
  },
  {
   "cell_type": "code",
   "execution_count": 43,
   "metadata": {},
   "outputs": [
    {
     "data": {
      "text/plain": [
       "Store\n",
       "307    2244.503185\n",
       "543    2313.468153\n",
       "198    2407.933121\n",
       "208    2443.791932\n",
       "841    2461.395966\n",
       "254    2485.839703\n",
       "972    2550.559448\n",
       "794    2553.475584\n",
       "219    2591.467091\n",
       "210    2641.309979\n",
       "425    2667.116773\n",
       "656    2690.546709\n",
       "558    2697.829087\n",
       "435    2710.532909\n",
       "703    2721.152866\n",
       "970    2732.457537\n",
       "232    2742.272824\n",
       "837    2769.389597\n",
       "789    2787.971338\n",
       "969    2807.979830\n",
       "Name: Sales, dtype: float64"
      ]
     },
     "execution_count": 43,
     "metadata": {},
     "output_type": "execute_result"
    }
   ],
   "source": [
    "a=df.groupby('Store')['Sales'].mean().sort_values(ascending=True)[:20]\n",
    "a"
   ]
  },
  {
   "cell_type": "code",
   "execution_count": 36,
   "metadata": {},
   "outputs": [
    {
     "data": {
      "text/plain": [
       "<matplotlib.legend.Legend at 0x26850f812b0>"
      ]
     },
     "execution_count": 36,
     "metadata": {},
     "output_type": "execute_result"
    },
    {
     "data": {
      "image/png": "[encoded data removed]",
      "text/plain": [
       "<Figure size 800x500 with 1 Axes>"
      ]
     },
     "metadata": {},
     "output_type": "display_data"
    }
   ],
   "source": [
    "plt.figure(figsize=(8,5))\n",
    "a.plot(kind='bar')\n",
    "plt.title('store vs sales')\n",
    "plt.xlabel('store ID')\n",
    "plt.ylabel('Mean Sales')\n",
    "plt.legend()"
   ]
  },
  {
   "cell_type": "markdown",
   "metadata": {
    "id": "K5QZ13OEpz2H"
   },
   "source": [
    "##### 1. Why did you pick the specific chart?"
   ]
  },
  {
   "cell_type": "markdown",
   "metadata": {
    "id": "XESiWehPqBRc"
   },
   "source": [
    "Answer Here.\n",
    "* Just because to compare maximum and minimum average sales visualization"
   ]
  },
  {
   "cell_type": "markdown",
   "metadata": {
    "id": "lQ7QKXXCp7Bj"
   },
   "source": [
    "##### 2. What is/are the insight(s) found from the chart?"
   ]
  },
  {
   "cell_type": "markdown",
   "metadata": {
    "id": "C_j1G7yiqdRP"
   },
   "source": [
    "Answer Here\n",
    "*   store_id : 262      has maximum average sales 20718.515924\n",
    "*   store_id : 307      has minimum average sales  2244.503185\n"
   ]
  },
  {
   "cell_type": "markdown",
   "metadata": {
    "id": "448CDAPjqfQr"
   },
   "source": [
    "##### 3. Will the gained insights help creating a positive business impact?\n",
    "Are there any insights that lead to negative growth? Justify with specific reason."
   ]
  },
  {
   "cell_type": "markdown",
   "metadata": {
    "id": "3cspy4FjqxJW"
   },
   "source": [
    "Answer Here\n",
    "* yes It is showing that max and min sales from store "
   ]
  },
  {
   "cell_type": "markdown",
   "metadata": {
    "id": "KSlN3yHqYklG"
   },
   "source": [
    "#### Chart - 2"
   ]
  },
  {
   "cell_type": "code",
   "execution_count": 37,
   "metadata": {
    "id": "R4YgtaqtYklH"
   },
   "outputs": [],
   "source": [
    "# Chart - 2 visualization code :-store type and assortment "
   ]
  },
  {
   "cell_type": "code",
   "execution_count": 59,
   "metadata": {},
   "outputs": [
    {
     "data": {
      "text/html": [
       "<div>\n",
       "<style scoped>\n",
       "    .dataframe tbody tr th:only-of-type {\n",
       "        vertical-align: middle;\n",
       "    }\n",
       "\n",
       "    .dataframe tbody tr th {\n",
       "        vertical-align: top;\n",
       "    }\n",
       "\n",
       "    .dataframe thead th {\n",
       "        text-align: right;\n",
       "    }\n",
       "</style>\n",
       "<table border=\"1\" class=\"dataframe\">\n",
       "  <thead>\n",
       "    <tr style=\"text-align: right;\">\n",
       "      <th>Assortment</th>\n",
       "      <th>a</th>\n",
       "      <th>b</th>\n",
       "      <th>c</th>\n",
       "    </tr>\n",
       "    <tr>\n",
       "      <th>StoreType</th>\n",
       "      <th></th>\n",
       "      <th></th>\n",
       "      <th></th>\n",
       "    </tr>\n",
       "  </thead>\n",
       "  <tbody>\n",
       "    <tr>\n",
       "      <th>a</th>\n",
       "      <td>5398.858310</td>\n",
       "      <td>NaN</td>\n",
       "      <td>6310.867032</td>\n",
       "    </tr>\n",
       "    <tr>\n",
       "      <th>b</th>\n",
       "      <td>10821.619806</td>\n",
       "      <td>8553.931999</td>\n",
       "      <td>17969.556263</td>\n",
       "    </tr>\n",
       "    <tr>\n",
       "      <th>c</th>\n",
       "      <td>5647.174314</td>\n",
       "      <td>NaN</td>\n",
       "      <td>5805.782193</td>\n",
       "    </tr>\n",
       "    <tr>\n",
       "      <th>d</th>\n",
       "      <td>5317.885943</td>\n",
       "      <td>NaN</td>\n",
       "      <td>5826.407660</td>\n",
       "    </tr>\n",
       "  </tbody>\n",
       "</table>\n",
       "</div>"
      ],
      "text/plain": [
       "Assortment             a            b             c\n",
       "StoreType                                          \n",
       "a            5398.858310          NaN   6310.867032\n",
       "b           10821.619806  8553.931999  17969.556263\n",
       "c            5647.174314          NaN   5805.782193\n",
       "d            5317.885943          NaN   5826.407660"
      ]
     },
     "execution_count": 59,
     "metadata": {},
     "output_type": "execute_result"
    }
   ],
   "source": [
    "a=df.groupby(['StoreType','Assortment'])['Sales'].mean().unstack()\n",
    "a"
   ]
  },
  {
   "cell_type": "code",
   "execution_count": 64,
   "metadata": {},
   "outputs": [
    {
     "data": {
      "text/plain": [
       "Text(0, 0.5, 'mean sales')"
      ]
     },
     "execution_count": 64,
     "metadata": {},
     "output_type": "execute_result"
    },
    {
     "data": {
      "image/png": "[encoded data removed]",
      "text/plain": [
       "<Figure size 640x480 with 1 Axes>"
      ]
     },
     "metadata": {},
     "output_type": "display_data"
    }
   ],
   "source": [
    "a.plot(kind='bar')\n",
    "plt.xlabel('store type')\n",
    "plt.ylabel('mean sales')\n"
   ]
  },
  {
   "cell_type": "markdown",
   "metadata": {
    "id": "t6dVpIINYklI"
   },
   "source": [
    "##### 1. Why did you pick the specific chart?"
   ]
  },
  {
   "cell_type": "markdown",
   "metadata": {
    "id": "5aaW0BYyYklI"
   },
   "source": [
    "Answer Here.\n",
    "* To check assortment at every store"
   ]
  },
  {
   "cell_type": "markdown",
   "metadata": {
    "id": "ijmpgYnKYklI"
   },
   "source": [
    "##### 2. What is/are the insight(s) found from the chart?"
   ]
  },
  {
   "cell_type": "markdown",
   "metadata": {
    "id": "PSx9atu2YklI"
   },
   "source": [
    "Answer Here\n",
    "* Only one store('b') has assortment \"b\" sales present.  \n",
    "* Types 'c' assortment has been highest sales among all assortment at every store."
   ]
  },
  {
   "cell_type": "markdown",
   "metadata": {
    "id": "-JiQyfWJYklI"
   },
   "source": [
    "##### 3. Will the gained insights help creating a positive business impact?\n",
    "Are there any insights that lead to negative growth? Justify with specific reason."
   ]
  },
  {
   "cell_type": "markdown",
   "metadata": {
    "id": "BcBbebzrYklV"
   },
   "source": [
    "Answer Here\n",
    "* Yes, assortment types 'b' has not sale in many store"
   ]
  },
  {
   "cell_type": "markdown",
   "metadata": {
    "id": "EM7whBJCYoAo"
   },
   "source": [
    "#### Chart - 3"
   ]
  },
  {
   "cell_type": "code",
   "execution_count": null,
   "metadata": {
    "id": "t6GMdE67YoAp"
   },
   "outputs": [],
   "source": [
    "# Chart - 3 visualization code"
   ]
  },
  {
   "cell_type": "markdown",
   "metadata": {
    "id": "fge-S5ZAYoAp"
   },
   "source": [
    "##### 1. Why did you pick the specific chart?"
   ]
  },
  {
   "cell_type": "markdown",
   "metadata": {
    "id": "5dBItgRVYoAp"
   },
   "source": [
    "Answer Here."
   ]
  },
  {
   "cell_type": "markdown",
   "metadata": {
    "id": "85gYPyotYoAp"
   },
   "source": [
    "##### 2. What is/are the insight(s) found from the chart?"
   ]
  },
  {
   "cell_type": "markdown",
   "metadata": {
    "id": "4jstXR6OYoAp"
   },
   "source": [
    "Answer Here"
   ]
  },
  {
   "cell_type": "markdown",
   "metadata": {
    "id": "RoGjAbkUYoAp"
   },
   "source": [
    "##### 3. Will the gained insights help creating a positive business impact?\n",
    "Are there any insights that lead to negative growth? Justify with specific reason."
   ]
  },
  {
   "cell_type": "markdown",
   "metadata": {
    "id": "zfJ8IqMcYoAp"
   },
   "source": [
    "Answer Here"
   ]
  },
  {
   "cell_type": "markdown",
   "metadata": {
    "id": "4Of9eVA-YrdM"
   },
   "source": [
    "#### Chart - 4"
   ]
  },
  {
   "cell_type": "code",
   "execution_count": null,
   "metadata": {
    "id": "irlUoxc8YrdO"
   },
   "outputs": [],
   "source": [
    "# Chart - 4 visualization code"
   ]
  },
  {
   "cell_type": "markdown",
   "metadata": {
    "id": "iky9q4vBYrdO"
   },
   "source": [
    "##### 1. Why did you pick the specific chart?"
   ]
  },
  {
   "cell_type": "markdown",
   "metadata": {
    "id": "aJRCwT6DYrdO"
   },
   "source": [
    "Answer Here."
   ]
  },
  {
   "cell_type": "markdown",
   "metadata": {
    "id": "F6T5p64dYrdO"
   },
   "source": [
    "##### 2. What is/are the insight(s) found from the chart?"
   ]
  },
  {
   "cell_type": "markdown",
   "metadata": {
    "id": "Xx8WAJvtYrdO"
   },
   "source": [
    "Answer Here"
   ]
  },
  {
   "cell_type": "markdown",
   "metadata": {
    "id": "y-Ehk30pYrdP"
   },
   "source": [
    "##### 3. Will the gained insights help creating a positive business impact?\n",
    "Are there any insights that lead to negative growth? Justify with specific reason."
   ]
  },
  {
   "cell_type": "markdown",
   "metadata": {
    "id": "jLNxxz7MYrdP"
   },
   "source": [
    "Answer Here"
   ]
  },
  {
   "cell_type": "markdown",
   "metadata": {
    "id": "bamQiAODYuh1"
   },
   "source": [
    "#### Chart - 5"
   ]
  },
  {
   "cell_type": "code",
   "execution_count": null,
   "metadata": {
    "id": "TIJwrbroYuh3"
   },
   "outputs": [],
   "source": [
    "# Chart - 5 visualization code"
   ]
  },
  {
   "cell_type": "markdown",
   "metadata": {
    "id": "QHF8YVU7Yuh3"
   },
   "source": [
    "##### 1. Why did you pick the specific chart?"
   ]
  },
  {
   "cell_type": "markdown",
   "metadata": {
    "id": "dcxuIMRPYuh3"
   },
   "source": [
    "Answer Here."
   ]
  },
  {
   "cell_type": "markdown",
   "metadata": {
    "id": "GwzvFGzlYuh3"
   },
   "source": [
    "##### 2. What is/are the insight(s) found from the chart?"
   ]
  },
  {
   "cell_type": "markdown",
   "metadata": {
    "id": "uyqkiB8YYuh3"
   },
   "source": [
    "Answer Here"
   ]
  },
  {
   "cell_type": "markdown",
   "metadata": {
    "id": "qYpmQ266Yuh3"
   },
   "source": [
    "##### 3. Will the gained insights help creating a positive business impact?\n",
    "Are there any insights that lead to negative growth? Justify with specific reason."
   ]
  },
  {
   "cell_type": "markdown",
   "metadata": {
    "id": "_WtzZ_hCYuh4"
   },
   "source": [
    "Answer Here"
   ]
  },
  {
   "cell_type": "markdown",
   "metadata": {
    "id": "OH-pJp9IphqM"
   },
   "source": [
    "#### Chart - 6"
   ]
  },
  {
   "cell_type": "code",
   "execution_count": null,
   "metadata": {
    "id": "kuRf4wtuphqN"
   },
   "outputs": [],
   "source": [
    "# Chart - 6 visualization code"
   ]
  },
  {
   "cell_type": "markdown",
   "metadata": {
    "id": "bbFf2-_FphqN"
   },
   "source": [
    "##### 1. Why did you pick the specific chart?"
   ]
  },
  {
   "cell_type": "markdown",
   "metadata": {
    "id": "loh7H2nzphqN"
   },
   "source": [
    "Answer Here."
   ]
  },
  {
   "cell_type": "markdown",
   "metadata": {
    "id": "_ouA3fa0phqN"
   },
   "source": [
    "##### 2. What is/are the insight(s) found from the chart?"
   ]
  },
  {
   "cell_type": "markdown",
   "metadata": {
    "id": "VECbqPI7phqN"
   },
   "source": [
    "Answer Here"
   ]
  },
  {
   "cell_type": "markdown",
   "metadata": {
    "id": "Seke61FWphqN"
   },
   "source": [
    "##### 3. Will the gained insights help creating a positive business impact?\n",
    "Are there any insights that lead to negative growth? Justify with specific reason."
   ]
  },
  {
   "cell_type": "markdown",
   "metadata": {
    "id": "DW4_bGpfphqN"
   },
   "source": [
    "Answer Here"
   ]
  },
  {
   "cell_type": "markdown",
   "metadata": {
    "id": "PIIx-8_IphqN"
   },
   "source": [
    "#### Chart - 7"
   ]
  },
  {
   "cell_type": "code",
   "execution_count": null,
   "metadata": {
    "id": "lqAIGUfyphqO"
   },
   "outputs": [],
   "source": [
    "# Chart - 7 visualization code"
   ]
  },
  {
   "cell_type": "markdown",
   "metadata": {
    "id": "t27r6nlMphqO"
   },
   "source": [
    "##### 1. Why did you pick the specific chart?"
   ]
  },
  {
   "cell_type": "markdown",
   "metadata": {
    "id": "iv6ro40sphqO"
   },
   "source": [
    "Answer Here."
   ]
  },
  {
   "cell_type": "markdown",
   "metadata": {
    "id": "r2jJGEOYphqO"
   },
   "source": [
    "##### 2. What is/are the insight(s) found from the chart?"
   ]
  },
  {
   "cell_type": "markdown",
   "metadata": {
    "id": "Po6ZPi4hphqO"
   },
   "source": [
    "Answer Here"
   ]
  },
  {
   "cell_type": "markdown",
   "metadata": {
    "id": "b0JNsNcRphqO"
   },
   "source": [
    "##### 3. Will the gained insights help creating a positive business impact?\n",
    "Are there any insights that lead to negative growth? Justify with specific reason."
   ]
  },
  {
   "cell_type": "markdown",
   "metadata": {
    "id": "xvSq8iUTphqO"
   },
   "source": [
    "Answer Here"
   ]
  },
  {
   "cell_type": "markdown",
   "metadata": {
    "id": "BZR9WyysphqO"
   },
   "source": [
    "#### Chart - 8"
   ]
  },
  {
   "cell_type": "code",
   "execution_count": null,
   "metadata": {
    "id": "TdPTWpAVphqO"
   },
   "outputs": [],
   "source": [
    "# Chart - 8 visualization code"
   ]
  },
  {
   "cell_type": "markdown",
   "metadata": {
    "id": "jj7wYXLtphqO"
   },
   "source": [
    "##### 1. Why did you pick the specific chart?"
   ]
  },
  {
   "cell_type": "markdown",
   "metadata": {
    "id": "Ob8u6rCTphqO"
   },
   "source": [
    "Answer Here."
   ]
  },
  {
   "cell_type": "markdown",
   "metadata": {
    "id": "eZrbJ2SmphqO"
   },
   "source": [
    "##### 2. What is/are the insight(s) found from the chart?"
   ]
  },
  {
   "cell_type": "markdown",
   "metadata": {
    "id": "mZtgC_hjphqO"
   },
   "source": [
    "Answer Here"
   ]
  },
  {
   "cell_type": "markdown",
   "metadata": {
    "id": "rFu4xreNphqO"
   },
   "source": [
    "##### 3. Will the gained insights help creating a positive business impact?\n",
    "Are there any insights that lead to negative growth? Justify with specific reason."
   ]
  },
  {
   "cell_type": "markdown",
   "metadata": {
    "id": "ey_0qi68phqO"
   },
   "source": [
    "Answer Here"
   ]
  },
  {
   "cell_type": "markdown",
   "metadata": {
    "id": "YJ55k-q6phqO"
   },
   "source": [
    "#### Chart - 9"
   ]
  },
  {
   "cell_type": "code",
   "execution_count": null,
   "metadata": {
    "id": "B2aS4O1ophqO"
   },
   "outputs": [],
   "source": [
    "# Chart - 9 visualization code"
   ]
  },
  {
   "cell_type": "markdown",
   "metadata": {
    "id": "gCFgpxoyphqP"
   },
   "source": [
    "##### 1. Why did you pick the specific chart?"
   ]
  },
  {
   "cell_type": "markdown",
   "metadata": {
    "id": "TVxDimi2phqP"
   },
   "source": [
    "Answer Here."
   ]
  },
  {
   "cell_type": "markdown",
   "metadata": {
    "id": "OVtJsKN_phqQ"
   },
   "source": [
    "##### 2. What is/are the insight(s) found from the chart?"
   ]
  },
  {
   "cell_type": "markdown",
   "metadata": {
    "id": "ngGi97qjphqQ"
   },
   "source": [
    "Answer Here"
   ]
  },
  {
   "cell_type": "markdown",
   "metadata": {
    "id": "lssrdh5qphqQ"
   },
   "source": [
    "##### 3. Will the gained insights help creating a positive business impact?\n",
    "Are there any insights that lead to negative growth? Justify with specific reason."
   ]
  },
  {
   "cell_type": "markdown",
   "metadata": {
    "id": "tBpY5ekJphqQ"
   },
   "source": [
    "Answer Here"
   ]
  },
  {
   "cell_type": "markdown",
   "metadata": {
    "id": "U2RJ9gkRphqQ"
   },
   "source": [
    "#### Chart - 10"
   ]
  },
  {
   "cell_type": "code",
   "execution_count": null,
   "metadata": {
    "id": "GM7a4YP4phqQ"
   },
   "outputs": [],
   "source": [
    "# Chart - 10 visualization code"
   ]
  },
  {
   "cell_type": "markdown",
   "metadata": {
    "id": "1M8mcRywphqQ"
   },
   "source": [
    "##### 1. Why did you pick the specific chart?"
   ]
  },
  {
   "cell_type": "markdown",
   "metadata": {
    "id": "8agQvks0phqQ"
   },
   "source": [
    "Answer Here."
   ]
  },
  {
   "cell_type": "markdown",
   "metadata": {
    "id": "tgIPom80phqQ"
   },
   "source": [
    "##### 2. What is/are the insight(s) found from the chart?"
   ]
  },
  {
   "cell_type": "markdown",
   "metadata": {
    "id": "Qp13pnNzphqQ"
   },
   "source": [
    "Answer Here"
   ]
  },
  {
   "cell_type": "markdown",
   "metadata": {
    "id": "JMzcOPDDphqR"
   },
   "source": [
    "##### 3. Will the gained insights help creating a positive business impact?\n",
    "Are there any insights that lead to negative growth? Justify with specific reason."
   ]
  },
  {
   "cell_type": "markdown",
   "metadata": {
    "id": "R4Ka1PC2phqR"
   },
   "source": [
    "Answer Here"
   ]
  },
  {
   "cell_type": "markdown",
   "metadata": {
    "id": "x-EpHcCOp1ci"
   },
   "source": [
    "#### Chart - 11"
   ]
  },
  {
   "cell_type": "code",
   "execution_count": null,
   "metadata": {
    "id": "mAQTIvtqp1cj"
   },
   "outputs": [],
   "source": [
    "# Chart - 11 visualization code"
   ]
  },
  {
   "cell_type": "markdown",
   "metadata": {
    "id": "X_VqEhTip1ck"
   },
   "source": [
    "##### 1. Why did you pick the specific chart?"
   ]
  },
  {
   "cell_type": "markdown",
   "metadata": {
    "id": "-vsMzt_np1ck"
   },
   "source": [
    "Answer Here."
   ]
  },
  {
   "cell_type": "markdown",
   "metadata": {
    "id": "8zGJKyg5p1ck"
   },
   "source": [
    "##### 2. What is/are the insight(s) found from the chart?"
   ]
  },
  {
   "cell_type": "markdown",
   "metadata": {
    "id": "ZYdMsrqVp1ck"
   },
   "source": [
    "Answer Here"
   ]
  },
  {
   "cell_type": "markdown",
   "metadata": {
    "id": "PVzmfK_Ep1ck"
   },
   "source": [
    "##### 3. Will the gained insights help creating a positive business impact?\n",
    "Are there any insights that lead to negative growth? Justify with specific reason."
   ]
  },
  {
   "cell_type": "markdown",
   "metadata": {
    "id": "druuKYZpp1ck"
   },
   "source": [
    "Answer Here"
   ]
  },
  {
   "cell_type": "markdown",
   "metadata": {
    "id": "n3dbpmDWp1ck"
   },
   "source": [
    "#### Chart - 12"
   ]
  },
  {
   "cell_type": "code",
   "execution_count": null,
   "metadata": {
    "id": "bwevp1tKp1ck"
   },
   "outputs": [],
   "source": [
    "# Chart - 12 visualization code"
   ]
  },
  {
   "cell_type": "markdown",
   "metadata": {
    "id": "ylSl6qgtp1ck"
   },
   "source": [
    "##### 1. Why did you pick the specific chart?"
   ]
  },
  {
   "cell_type": "markdown",
   "metadata": {
    "id": "m2xqNkiQp1ck"
   },
   "source": [
    "Answer Here."
   ]
  },
  {
   "cell_type": "markdown",
   "metadata": {
    "id": "ZWILFDl5p1ck"
   },
   "source": [
    "##### 2. What is/are the insight(s) found from the chart?"
   ]
  },
  {
   "cell_type": "markdown",
   "metadata": {
    "id": "x-lUsV2mp1ck"
   },
   "source": [
    "Answer Here"
   ]
  },
  {
   "cell_type": "markdown",
   "metadata": {
    "id": "M7G43BXep1ck"
   },
   "source": [
    "##### 3. Will the gained insights help creating a positive business impact?\n",
    "Are there any insights that lead to negative growth? Justify with specific reason."
   ]
  },
  {
   "cell_type": "markdown",
   "metadata": {
    "id": "5wwDJXsLp1cl"
   },
   "source": [
    "Answer Here"
   ]
  },
  {
   "cell_type": "markdown",
   "metadata": {
    "id": "Ag9LCva-p1cl"
   },
   "source": [
    "#### Chart - 13"
   ]
  },
  {
   "cell_type": "code",
   "execution_count": null,
   "metadata": {
    "id": "EUfxeq9-p1cl"
   },
   "outputs": [],
   "source": [
    "# Chart - 13 visualization code"
   ]
  },
  {
   "cell_type": "markdown",
   "metadata": {
    "id": "E6MkPsBcp1cl"
   },
   "source": [
    "##### 1. Why did you pick the specific chart?"
   ]
  },
  {
   "cell_type": "markdown",
   "metadata": {
    "id": "V22bRsFWp1cl"
   },
   "source": [
    "Answer Here."
   ]
  },
  {
   "cell_type": "markdown",
   "metadata": {
    "id": "2cELzS2fp1cl"
   },
   "source": [
    "##### 2. What is/are the insight(s) found from the chart?"
   ]
  },
  {
   "cell_type": "markdown",
   "metadata": {
    "id": "ozQPc2_Ip1cl"
   },
   "source": [
    "Answer Here"
   ]
  },
  {
   "cell_type": "markdown",
   "metadata": {
    "id": "3MPXvC8up1cl"
   },
   "source": [
    "##### 3. Will the gained insights help creating a positive business impact?\n",
    "Are there any insights that lead to negative growth? Justify with specific reason."
   ]
  },
  {
   "cell_type": "markdown",
   "metadata": {
    "id": "GL8l1tdLp1cl"
   },
   "source": [
    "Answer Here"
   ]
  },
  {
   "cell_type": "markdown",
   "metadata": {
    "id": "NC_X3p0fY2L0"
   },
   "source": [
    "#### Chart - 14 - Correlation Heatmap"
   ]
  },
  {
   "cell_type": "code",
   "execution_count": null,
   "metadata": {
    "id": "xyC9zolEZNRQ"
   },
   "outputs": [],
   "source": [
    "# Correlation Heatmap visualization code"
   ]
  },
  {
   "cell_type": "markdown",
   "metadata": {
    "id": "UV0SzAkaZNRQ"
   },
   "source": [
    "##### 1. Why did you pick the specific chart?"
   ]
  },
  {
   "cell_type": "markdown",
   "metadata": {
    "id": "DVPuT8LYZNRQ"
   },
   "source": [
    "Answer Here."
   ]
  },
  {
   "cell_type": "markdown",
   "metadata": {
    "id": "YPEH6qLeZNRQ"
   },
   "source": [
    "##### 2. What is/are the insight(s) found from the chart?"
   ]
  },
  {
   "cell_type": "markdown",
   "metadata": {
    "id": "bfSqtnDqZNRR"
   },
   "source": [
    "Answer Here"
   ]
  },
  {
   "cell_type": "markdown",
   "metadata": {
    "id": "q29F0dvdveiT"
   },
   "source": [
    "#### Chart - 15 - Pair Plot"
   ]
  },
  {
   "cell_type": "code",
   "execution_count": null,
   "metadata": {
    "id": "o58-TEIhveiU"
   },
   "outputs": [],
   "source": [
    "# Pair Plot visualization code"
   ]
  },
  {
   "cell_type": "markdown",
   "metadata": {
    "id": "EXh0U9oCveiU"
   },
   "source": [
    "##### 1. Why did you pick the specific chart?"
   ]
  },
  {
   "cell_type": "markdown",
   "metadata": {
    "id": "eMmPjTByveiU"
   },
   "source": [
    "Answer Here."
   ]
  },
  {
   "cell_type": "markdown",
   "metadata": {
    "id": "22aHeOlLveiV"
   },
   "source": [
    "##### 2. What is/are the insight(s) found from the chart?"
   ]
  },
  {
   "cell_type": "markdown",
   "metadata": {
    "id": "uPQ8RGwHveiV"
   },
   "source": [
    "Answer Here"
   ]
  },
  {
   "cell_type": "markdown",
   "metadata": {
    "id": "JcMwzZxoAimU"
   },
   "source": [
    "## **5. Solution to Business Objective**"
   ]
  },
  {
   "cell_type": "markdown",
   "metadata": {
    "id": "8G2x9gOozGDZ"
   },
   "source": [
    "#### What do you suggest the client to achieve Business Objective ?\n",
    "Explain Briefly."
   ]
  },
  {
   "cell_type": "markdown",
   "metadata": {
    "id": "pASKb0qOza21"
   },
   "source": [
    "Answer Here."
   ]
  },
  {
   "cell_type": "markdown",
   "metadata": {
    "id": "gCX9965dhzqZ"
   },
   "source": [
    "# **Conclusion**"
   ]
  },
  {
   "cell_type": "markdown",
   "metadata": {
    "id": "Fjb1IsQkh3yE"
   },
   "source": [
    "Write the conclusion here."
   ]
  },
  {
   "cell_type": "markdown",
   "metadata": {
    "id": "gIfDvo9L0UH2"
   },
   "source": [
    "### ***Hurrah! You have successfully completed your EDA Capstone Project !!!***"
   ]
  }
 ],
 "metadata": {
  "colab": {
   "collapsed_sections": [
    "vncDsAP0Gaoa",
    "FJNUwmbgGyua",
    "w6K7xa23Elo4",
    "yQaldy8SH6Dl",
    "PH-0ReGfmX4f",
    "mDgbUHAGgjLW",
    "O_i_v8NEhb9l",
    "HhfV-JJviCcP",
    "Y3lxredqlCYt",
    "3RnN4peoiCZX",
    "x71ZqKXriCWQ",
    "7hBIi_osiCS2",
    "JlHwYmJAmNHm",
    "35m5QtbWiB9F",
    "PoPl-ycgm1ru",
    "H0kj-8xxnORC",
    "nA9Y7ga8ng1Z",
    "PBTbrJXOngz2",
    "u3PMJOP6ngxN",
    "dauF4eBmngu3",
    "bKJF3rekwFvQ",
    "MSa1f5Uengrz",
    "GF8Ens_Soomf",
    "0wOQAZs5pc--",
    "K5QZ13OEpz2H",
    "lQ7QKXXCp7Bj",
    "448CDAPjqfQr",
    "KSlN3yHqYklG",
    "t6dVpIINYklI",
    "ijmpgYnKYklI",
    "-JiQyfWJYklI",
    "EM7whBJCYoAo",
    "fge-S5ZAYoAp",
    "85gYPyotYoAp",
    "RoGjAbkUYoAp",
    "4Of9eVA-YrdM",
    "iky9q4vBYrdO",
    "F6T5p64dYrdO",
    "y-Ehk30pYrdP",
    "bamQiAODYuh1",
    "QHF8YVU7Yuh3",
    "GwzvFGzlYuh3",
    "qYpmQ266Yuh3",
    "OH-pJp9IphqM",
    "bbFf2-_FphqN",
    "_ouA3fa0phqN",
    "Seke61FWphqN",
    "PIIx-8_IphqN",
    "t27r6nlMphqO",
    "r2jJGEOYphqO",
    "b0JNsNcRphqO",
    "BZR9WyysphqO",
    "jj7wYXLtphqO",
    "eZrbJ2SmphqO",
    "rFu4xreNphqO",
    "YJ55k-q6phqO",
    "gCFgpxoyphqP",
    "OVtJsKN_phqQ",
    "lssrdh5qphqQ",
    "U2RJ9gkRphqQ",
    "1M8mcRywphqQ",
    "tgIPom80phqQ",
    "JMzcOPDDphqR",
    "x-EpHcCOp1ci",
    "X_VqEhTip1ck",
    "8zGJKyg5p1ck",
    "PVzmfK_Ep1ck",
    "n3dbpmDWp1ck",
    "ylSl6qgtp1ck",
    "ZWILFDl5p1ck",
    "M7G43BXep1ck",
    "Ag9LCva-p1cl",
    "E6MkPsBcp1cl",
    "2cELzS2fp1cl",
    "3MPXvC8up1cl",
    "NC_X3p0fY2L0",
    "UV0SzAkaZNRQ",
    "YPEH6qLeZNRQ",
    "q29F0dvdveiT",
    "EXh0U9oCveiU",
    "22aHeOlLveiV",
    "JcMwzZxoAimU",
    "8G2x9gOozGDZ",
    "gCX9965dhzqZ",
    "gIfDvo9L0UH2"
   ],
   "private_outputs": true,
   "provenance": []
  },
  "kernelspec": {
   "display_name": "Python 3 (ipykernel)",
   "language": "python",
   "name": "python3"
  },
  "language_info": {
   "codemirror_mode": {
    "name": "ipython",
    "version": 3
   },
   "file_extension": ".py",
   "mimetype": "text/x-python",
   "name": "python",
   "nbconvert_exporter": "python",
   "pygments_lexer": "ipython3",
   "version": "3.9.13"
  },
  "varInspector": {
   "cols": {
    "lenName": 16,
    "lenType": 16,
    "lenVar": 40
   },
   "kernels_config": {
    "python": {
     "delete_cmd_postfix": "",
     "delete_cmd_prefix": "del ",
     "library": "var_list.py",
     "varRefreshCmd": "print(var_dic_list())"
    },
    "r": {
     "delete_cmd_postfix": ") ",
     "delete_cmd_prefix": "rm(",
     "library": "var_list.r",
     "varRefreshCmd": "cat(var_dic_list()) "
    }
   },
   "types_to_exclude": [
    "module",
    "function",
    "builtin_function_or_method",
    "instance",
    "_Feature"
   ],
   "window_display": false
  }
 },
 "nbformat": 4,
 "nbformat_minor": 1
}
