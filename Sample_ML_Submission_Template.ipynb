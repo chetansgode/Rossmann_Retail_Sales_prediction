{
 "cells": [
  {
   "cell_type": "markdown",
   "metadata": {
    "id": "vncDsAP0Gaoa"
   },
   "source": [
    "# **Project Name**    - Retail Sales Prediction(Rossmann)\n",
    "\n",
    "\n"
   ]
  },
  {
   "cell_type": "markdown",
   "metadata": {
    "id": "beRrZCGUAJYm"
   },
   "source": [
    "##### **Project Type**    - Regression\n",
    "##### **Contribution**    - Individual\n",
    "##### **Team Member 1 -** Chetan Gode\n"
   ]
  },
  {
   "cell_type": "markdown",
   "metadata": {
    "id": "FJNUwmbgGyua"
   },
   "source": [
    "# **Project Summary -**"
   ]
  },
  {
   "cell_type": "markdown",
   "metadata": {
    "id": "F6v_1wHtG2nS"
   },
   "source": [
    "                Rossmann operates over 3000 drug store in 7 European countries. Currently Rossmann Store Manager are tasked with predicting their daily sales for up to six week in advance. Store sales are influenced by many factors, including Promotions,Competition, School and State holidays,Seasonality and locality.with thousand individual managers predicting sales based on their unique circumstances,the accuracy of results can be quite varied. \n",
    "                We have provided with historical sales data fo 1115 rossmann store and task is to forecast Sales"
   ]
  },
  {
   "cell_type": "markdown",
   "metadata": {
    "id": "w6K7xa23Elo4"
   },
   "source": [
    "# **GitHub Link -**"
   ]
  },
  {
   "cell_type": "markdown",
   "metadata": {
    "id": "h1o69JH3Eqqn"
   },
   "source": [
    "https://github.com/chetansgode/Rossmann_Retail_Sales_prediction.git"
   ]
  },
  {
   "cell_type": "markdown",
   "metadata": {
    "id": "yQaldy8SH6Dl"
   },
   "source": [
    "# **Problem Statement**\n"
   ]
  },
  {
   "cell_type": "markdown",
   "metadata": {
    "id": "DpeJGUA3kjGy"
   },
   "source": [
    "* **we have historical sales data for 1115 rossmann store and task is to forecast Sales and note that some store in dataset were temporary closed for refurbishment.**"
   ]
  },
  {
   "cell_type": "markdown",
   "metadata": {
    "id": "mDgbUHAGgjLW"
   },
   "source": [
    "# **General Guidelines** : -"
   ]
  },
  {
   "cell_type": "markdown",
   "metadata": {
    "id": "ZrxVaUj-hHfC"
   },
   "source": [
    "1.   Well-structured, formatted, and commented code is required.\n",
    "2.   Exception Handling, Production Grade Code & Deployment Ready Code will be a plus. Those students will be awarded some additional credits.\n",
    "\n",
    "     The additional credits will have advantages over other students during Star Student selection.\n",
    "\n",
    "             [ Note: - Deployment Ready Code is defined as, the whole .ipynb notebook should be executable in one go\n",
    "                       without a single error logged. ]\n",
    "\n",
    "3.   Each and every logic should have proper comments.\n",
    "4. You may add as many number of charts you want. Make Sure for each and every chart the following format should be answered.\n",
    "\n",
    "\n",
    "```\n",
    "# Chart visualization code\n",
    "```\n",
    "\n",
    "\n",
    "*   Why did you pick the specific chart?\n",
    "*   What is/are the insight(s) found from the chart?\n",
    "* Will the gained insights help creating a positive business impact?\n",
    "Are there any insights that lead to negative growth? Justify with specific reason.\n",
    "\n",
    "5. You have to create at least 15 logical & meaningful charts having important insights.\n",
    "\n",
    "\n",
    "[ Hints : - Do the Vizualization in  a structured way while following \"UBM\" Rule.\n",
    "\n",
    "U - Univariate Analysis,\n",
    "\n",
    "B - Bivariate Analysis (Numerical - Categorical, Numerical - Numerical, Categorical - Categorical)\n",
    "\n",
    "M - Multivariate Analysis\n",
    " ]\n",
    "\n",
    "\n",
    "\n",
    "\n",
    "\n",
    "6. You may add more ml algorithms for model creation. Make sure for each and every algorithm, the following format should be answered.\n",
    "\n",
    "\n",
    "*   Explain the ML Model used and it's performance using Evaluation metric Score Chart.\n",
    "\n",
    "\n",
    "*   Cross- Validation & Hyperparameter Tuning\n",
    "\n",
    "*   Have you seen any improvement? Note down the improvement with updates Evaluation metric Score Chart.\n",
    "\n",
    "*   Explain each evaluation metric's indication towards business and the business impact pf the ML model used.\n",
    "\n",
    "\n",
    "\n",
    "\n",
    "\n",
    "\n",
    "\n",
    "\n",
    "\n",
    "\n",
    "\n",
    "\n",
    "\n",
    "\n",
    "\n",
    "\n",
    "\n",
    "\n"
   ]
  },
  {
   "cell_type": "markdown",
   "metadata": {
    "id": "O_i_v8NEhb9l"
   },
   "source": [
    "# ***Let's Begin !***"
   ]
  },
  {
   "cell_type": "markdown",
   "metadata": {
    "id": "HhfV-JJviCcP"
   },
   "source": [
    "## ***1. Know Your Data***"
   ]
  },
  {
   "cell_type": "markdown",
   "metadata": {
    "id": "Y3lxredqlCYt"
   },
   "source": [
    "### Import Libraries"
   ]
  },
  {
   "cell_type": "code",
   "execution_count": 1,
   "metadata": {
    "ExecuteTime": {
     "end_time": "2023-07-01T11:28:46.434321Z",
     "start_time": "2023-07-01T11:28:42.923971Z"
    },
    "id": "M8Vqi-pPk-HR"
   },
   "outputs": [],
   "source": [
    "# Import Libraries\n",
    "import numpy as np  #importing numpy library\n",
    "import pandas as pd  #importing pandas library\n",
    "\n",
    "# for visualisation import matplotlib and seaborn\n",
    "import matplotlib.pyplot as plt  \n",
    "%matplotlib inline\n",
    "%lsmagic\n",
    "import seaborn as sns\n",
    "\n",
    "#importing sklearn packages for ml\n",
    "\n",
    "from sklearn.model_selection import train_test_split\n",
    "from sklearn.preprocessing import MinMaxScaler,StandardScaler\n",
    "from sklearn.linear_model import LinearRegression\n",
    "from sklearn.linear_model import Ridge,RidgeCV\n",
    "from sklearn.linear_model import Lasso ,LassoCV\n",
    "from sklearn.metrics import r2_score,mean_squared_error\n",
    "import warnings\n",
    "warnings.filterwarnings('ignore')"
   ]
  },
  {
   "cell_type": "markdown",
   "metadata": {
    "id": "3RnN4peoiCZX"
   },
   "source": [
    "### Dataset Loading"
   ]
  },
  {
   "cell_type": "code",
   "execution_count": 2,
   "metadata": {
    "ExecuteTime": {
     "end_time": "2023-07-01T11:28:47.331791Z",
     "start_time": "2023-07-01T11:28:46.438365Z"
    },
    "id": "4CkvbW_SlZ_R"
   },
   "outputs": [],
   "source": [
    "# Load Dataset\n",
    "df_store=pd.read_csv('C:/Users/Admin/Downloads/store (1).csv')\n",
    "df_sales=pd.read_csv('C:/Users/Admin/Downloads/Rossmann Stores Data (1).csv',parse_dates=['Date'])"
   ]
  },
  {
   "cell_type": "markdown",
   "metadata": {
    "id": "x71ZqKXriCWQ"
   },
   "source": [
    "### Dataset First View"
   ]
  },
  {
   "cell_type": "code",
   "execution_count": 3,
   "metadata": {
    "ExecuteTime": {
     "end_time": "2023-07-01T11:28:47.377641Z",
     "start_time": "2023-07-01T11:28:47.331791Z"
    },
    "id": "LWNFOSvLl09H"
   },
   "outputs": [
    {
     "data": {
      "text/html": [
       "<div>\n",
       "<style scoped>\n",
       "    .dataframe tbody tr th:only-of-type {\n",
       "        vertical-align: middle;\n",
       "    }\n",
       "\n",
       "    .dataframe tbody tr th {\n",
       "        vertical-align: top;\n",
       "    }\n",
       "\n",
       "    .dataframe thead th {\n",
       "        text-align: right;\n",
       "    }\n",
       "</style>\n",
       "<table border=\"1\" class=\"dataframe\">\n",
       "  <thead>\n",
       "    <tr style=\"text-align: right;\">\n",
       "      <th></th>\n",
       "      <th>Store</th>\n",
       "      <th>StoreType</th>\n",
       "      <th>Assortment</th>\n",
       "      <th>CompetitionDistance</th>\n",
       "      <th>CompetitionOpenSinceMonth</th>\n",
       "      <th>CompetitionOpenSinceYear</th>\n",
       "      <th>Promo2</th>\n",
       "      <th>Promo2SinceWeek</th>\n",
       "      <th>Promo2SinceYear</th>\n",
       "      <th>PromoInterval</th>\n",
       "    </tr>\n",
       "  </thead>\n",
       "  <tbody>\n",
       "    <tr>\n",
       "      <th>0</th>\n",
       "      <td>1</td>\n",
       "      <td>c</td>\n",
       "      <td>a</td>\n",
       "      <td>1270.0</td>\n",
       "      <td>9.0</td>\n",
       "      <td>2008.0</td>\n",
       "      <td>0</td>\n",
       "      <td>NaN</td>\n",
       "      <td>NaN</td>\n",
       "      <td>NaN</td>\n",
       "    </tr>\n",
       "    <tr>\n",
       "      <th>1</th>\n",
       "      <td>2</td>\n",
       "      <td>a</td>\n",
       "      <td>a</td>\n",
       "      <td>570.0</td>\n",
       "      <td>11.0</td>\n",
       "      <td>2007.0</td>\n",
       "      <td>1</td>\n",
       "      <td>13.0</td>\n",
       "      <td>2010.0</td>\n",
       "      <td>Jan,Apr,Jul,Oct</td>\n",
       "    </tr>\n",
       "    <tr>\n",
       "      <th>2</th>\n",
       "      <td>3</td>\n",
       "      <td>a</td>\n",
       "      <td>a</td>\n",
       "      <td>14130.0</td>\n",
       "      <td>12.0</td>\n",
       "      <td>2006.0</td>\n",
       "      <td>1</td>\n",
       "      <td>14.0</td>\n",
       "      <td>2011.0</td>\n",
       "      <td>Jan,Apr,Jul,Oct</td>\n",
       "    </tr>\n",
       "    <tr>\n",
       "      <th>3</th>\n",
       "      <td>4</td>\n",
       "      <td>c</td>\n",
       "      <td>c</td>\n",
       "      <td>620.0</td>\n",
       "      <td>9.0</td>\n",
       "      <td>2009.0</td>\n",
       "      <td>0</td>\n",
       "      <td>NaN</td>\n",
       "      <td>NaN</td>\n",
       "      <td>NaN</td>\n",
       "    </tr>\n",
       "    <tr>\n",
       "      <th>4</th>\n",
       "      <td>5</td>\n",
       "      <td>a</td>\n",
       "      <td>a</td>\n",
       "      <td>29910.0</td>\n",
       "      <td>4.0</td>\n",
       "      <td>2015.0</td>\n",
       "      <td>0</td>\n",
       "      <td>NaN</td>\n",
       "      <td>NaN</td>\n",
       "      <td>NaN</td>\n",
       "    </tr>\n",
       "  </tbody>\n",
       "</table>\n",
       "</div>"
      ],
      "text/plain": [
       "   Store StoreType Assortment  CompetitionDistance  CompetitionOpenSinceMonth  \\\n",
       "0      1         c          a               1270.0                        9.0   \n",
       "1      2         a          a                570.0                       11.0   \n",
       "2      3         a          a              14130.0                       12.0   \n",
       "3      4         c          c                620.0                        9.0   \n",
       "4      5         a          a              29910.0                        4.0   \n",
       "\n",
       "   CompetitionOpenSinceYear  Promo2  Promo2SinceWeek  Promo2SinceYear  \\\n",
       "0                    2008.0       0              NaN              NaN   \n",
       "1                    2007.0       1             13.0           2010.0   \n",
       "2                    2006.0       1             14.0           2011.0   \n",
       "3                    2009.0       0              NaN              NaN   \n",
       "4                    2015.0       0              NaN              NaN   \n",
       "\n",
       "     PromoInterval  \n",
       "0              NaN  \n",
       "1  Jan,Apr,Jul,Oct  \n",
       "2  Jan,Apr,Jul,Oct  \n",
       "3              NaN  \n",
       "4              NaN  "
      ]
     },
     "execution_count": 3,
     "metadata": {},
     "output_type": "execute_result"
    }
   ],
   "source": [
    "# Dataset First Look for store\n",
    "df_store.head()\n"
   ]
  },
  {
   "cell_type": "code",
   "execution_count": 4,
   "metadata": {
    "ExecuteTime": {
     "end_time": "2023-07-01T11:28:47.411628Z",
     "start_time": "2023-07-01T11:28:47.378305Z"
    }
   },
   "outputs": [
    {
     "data": {
      "text/html": [
       "<div>\n",
       "<style scoped>\n",
       "    .dataframe tbody tr th:only-of-type {\n",
       "        vertical-align: middle;\n",
       "    }\n",
       "\n",
       "    .dataframe tbody tr th {\n",
       "        vertical-align: top;\n",
       "    }\n",
       "\n",
       "    .dataframe thead th {\n",
       "        text-align: right;\n",
       "    }\n",
       "</style>\n",
       "<table border=\"1\" class=\"dataframe\">\n",
       "  <thead>\n",
       "    <tr style=\"text-align: right;\">\n",
       "      <th></th>\n",
       "      <th>Store</th>\n",
       "      <th>DayOfWeek</th>\n",
       "      <th>Date</th>\n",
       "      <th>Sales</th>\n",
       "      <th>Customers</th>\n",
       "      <th>Open</th>\n",
       "      <th>Promo</th>\n",
       "      <th>StateHoliday</th>\n",
       "      <th>SchoolHoliday</th>\n",
       "    </tr>\n",
       "  </thead>\n",
       "  <tbody>\n",
       "    <tr>\n",
       "      <th>0</th>\n",
       "      <td>1</td>\n",
       "      <td>5</td>\n",
       "      <td>2015-07-31</td>\n",
       "      <td>5263</td>\n",
       "      <td>555</td>\n",
       "      <td>1</td>\n",
       "      <td>1</td>\n",
       "      <td>0</td>\n",
       "      <td>1</td>\n",
       "    </tr>\n",
       "    <tr>\n",
       "      <th>1</th>\n",
       "      <td>2</td>\n",
       "      <td>5</td>\n",
       "      <td>2015-07-31</td>\n",
       "      <td>6064</td>\n",
       "      <td>625</td>\n",
       "      <td>1</td>\n",
       "      <td>1</td>\n",
       "      <td>0</td>\n",
       "      <td>1</td>\n",
       "    </tr>\n",
       "    <tr>\n",
       "      <th>2</th>\n",
       "      <td>3</td>\n",
       "      <td>5</td>\n",
       "      <td>2015-07-31</td>\n",
       "      <td>8314</td>\n",
       "      <td>821</td>\n",
       "      <td>1</td>\n",
       "      <td>1</td>\n",
       "      <td>0</td>\n",
       "      <td>1</td>\n",
       "    </tr>\n",
       "    <tr>\n",
       "      <th>3</th>\n",
       "      <td>4</td>\n",
       "      <td>5</td>\n",
       "      <td>2015-07-31</td>\n",
       "      <td>13995</td>\n",
       "      <td>1498</td>\n",
       "      <td>1</td>\n",
       "      <td>1</td>\n",
       "      <td>0</td>\n",
       "      <td>1</td>\n",
       "    </tr>\n",
       "    <tr>\n",
       "      <th>4</th>\n",
       "      <td>5</td>\n",
       "      <td>5</td>\n",
       "      <td>2015-07-31</td>\n",
       "      <td>4822</td>\n",
       "      <td>559</td>\n",
       "      <td>1</td>\n",
       "      <td>1</td>\n",
       "      <td>0</td>\n",
       "      <td>1</td>\n",
       "    </tr>\n",
       "  </tbody>\n",
       "</table>\n",
       "</div>"
      ],
      "text/plain": [
       "   Store  DayOfWeek       Date  Sales  Customers  Open  Promo StateHoliday  \\\n",
       "0      1          5 2015-07-31   5263        555     1      1            0   \n",
       "1      2          5 2015-07-31   6064        625     1      1            0   \n",
       "2      3          5 2015-07-31   8314        821     1      1            0   \n",
       "3      4          5 2015-07-31  13995       1498     1      1            0   \n",
       "4      5          5 2015-07-31   4822        559     1      1            0   \n",
       "\n",
       "   SchoolHoliday  \n",
       "0              1  \n",
       "1              1  \n",
       "2              1  \n",
       "3              1  \n",
       "4              1  "
      ]
     },
     "execution_count": 4,
     "metadata": {},
     "output_type": "execute_result"
    }
   ],
   "source": [
    "# Dataset First Look for Sales\n",
    "df_sales.head()"
   ]
  },
  {
   "cell_type": "markdown",
   "metadata": {
    "id": "7hBIi_osiCS2"
   },
   "source": [
    "### Dataset Rows & Columns count"
   ]
  },
  {
   "cell_type": "code",
   "execution_count": 5,
   "metadata": {
    "ExecuteTime": {
     "end_time": "2023-07-01T11:28:47.427251Z",
     "start_time": "2023-07-01T11:28:47.411628Z"
    },
    "id": "Kllu7SJgmLij"
   },
   "outputs": [
    {
     "data": {
      "text/plain": [
       "(1115, 10)"
      ]
     },
     "execution_count": 5,
     "metadata": {},
     "output_type": "execute_result"
    }
   ],
   "source": [
    "# Dataset Rows & Columns count\n",
    "\n",
    "df_store.shape\n"
   ]
  },
  {
   "cell_type": "code",
   "execution_count": 6,
   "metadata": {
    "ExecuteTime": {
     "end_time": "2023-07-01T11:28:47.442593Z",
     "start_time": "2023-07-01T11:28:47.430625Z"
    }
   },
   "outputs": [
    {
     "data": {
      "text/plain": [
       "(1017209, 9)"
      ]
     },
     "execution_count": 6,
     "metadata": {},
     "output_type": "execute_result"
    }
   ],
   "source": [
    "df_sales.shape"
   ]
  },
  {
   "cell_type": "markdown",
   "metadata": {
    "id": "JlHwYmJAmNHm"
   },
   "source": [
    "### Dataset Information"
   ]
  },
  {
   "cell_type": "code",
   "execution_count": 7,
   "metadata": {
    "ExecuteTime": {
     "end_time": "2023-07-01T11:28:47.477015Z",
     "start_time": "2023-07-01T11:28:47.445585Z"
    },
    "id": "e9hRXRi6meOf"
   },
   "outputs": [
    {
     "name": "stdout",
     "output_type": "stream",
     "text": [
      "<class 'pandas.core.frame.DataFrame'>\n",
      "RangeIndex: 1115 entries, 0 to 1114\n",
      "Data columns (total 10 columns):\n",
      " #   Column                     Non-Null Count  Dtype  \n",
      "---  ------                     --------------  -----  \n",
      " 0   Store                      1115 non-null   int64  \n",
      " 1   StoreType                  1115 non-null   object \n",
      " 2   Assortment                 1115 non-null   object \n",
      " 3   CompetitionDistance        1112 non-null   float64\n",
      " 4   CompetitionOpenSinceMonth  761 non-null    float64\n",
      " 5   CompetitionOpenSinceYear   761 non-null    float64\n",
      " 6   Promo2                     1115 non-null   int64  \n",
      " 7   Promo2SinceWeek            571 non-null    float64\n",
      " 8   Promo2SinceYear            571 non-null    float64\n",
      " 9   PromoInterval              571 non-null    object \n",
      "dtypes: float64(5), int64(2), object(3)\n",
      "memory usage: 87.2+ KB\n"
     ]
    }
   ],
   "source": [
    "# Dataset Info for store\n",
    "df_store.info()"
   ]
  },
  {
   "cell_type": "code",
   "execution_count": 8,
   "metadata": {
    "ExecuteTime": {
     "end_time": "2023-07-01T11:28:47.767432Z",
     "start_time": "2023-07-01T11:28:47.480621Z"
    }
   },
   "outputs": [
    {
     "name": "stdout",
     "output_type": "stream",
     "text": [
      "<class 'pandas.core.frame.DataFrame'>\n",
      "RangeIndex: 1017209 entries, 0 to 1017208\n",
      "Data columns (total 9 columns):\n",
      " #   Column         Non-Null Count    Dtype         \n",
      "---  ------         --------------    -----         \n",
      " 0   Store          1017209 non-null  int64         \n",
      " 1   DayOfWeek      1017209 non-null  int64         \n",
      " 2   Date           1017209 non-null  datetime64[ns]\n",
      " 3   Sales          1017209 non-null  int64         \n",
      " 4   Customers      1017209 non-null  int64         \n",
      " 5   Open           1017209 non-null  int64         \n",
      " 6   Promo          1017209 non-null  int64         \n",
      " 7   StateHoliday   1017209 non-null  object        \n",
      " 8   SchoolHoliday  1017209 non-null  int64         \n",
      "dtypes: datetime64[ns](1), int64(7), object(1)\n",
      "memory usage: 69.8+ MB\n"
     ]
    }
   ],
   "source": [
    "# Dataset Info for Sales\n",
    "df_sales.info()"
   ]
  },
  {
   "cell_type": "markdown",
   "metadata": {
    "id": "35m5QtbWiB9F"
   },
   "source": [
    "#### Duplicate Values"
   ]
  },
  {
   "cell_type": "code",
   "execution_count": 9,
   "metadata": {
    "ExecuteTime": {
     "end_time": "2023-07-01T11:28:47.783387Z",
     "start_time": "2023-07-01T11:28:47.770424Z"
    },
    "id": "1sLdpKYkmox0"
   },
   "outputs": [
    {
     "data": {
      "text/plain": [
       "0"
      ]
     },
     "execution_count": 9,
     "metadata": {},
     "output_type": "execute_result"
    }
   ],
   "source": [
    "# Dataset Duplicate Value Count for Store\n",
    "df_store.duplicated().sum()"
   ]
  },
  {
   "cell_type": "code",
   "execution_count": 10,
   "metadata": {
    "ExecuteTime": {
     "end_time": "2023-07-01T11:28:48.219707Z",
     "start_time": "2023-07-01T11:28:47.790369Z"
    }
   },
   "outputs": [
    {
     "data": {
      "text/plain": [
       "0"
      ]
     },
     "execution_count": 10,
     "metadata": {},
     "output_type": "execute_result"
    }
   ],
   "source": [
    "# Dataset Duplicate Value Count for Sales\n",
    "df_sales.duplicated().sum()"
   ]
  },
  {
   "cell_type": "markdown",
   "metadata": {
    "id": "PoPl-ycgm1ru"
   },
   "source": [
    "#### Missing Values/Null Values"
   ]
  },
  {
   "cell_type": "code",
   "execution_count": 11,
   "metadata": {
    "ExecuteTime": {
     "end_time": "2023-07-01T11:28:48.233270Z",
     "start_time": "2023-07-01T11:28:48.222700Z"
    },
    "id": "GgHWkxvamxVg"
   },
   "outputs": [
    {
     "name": "stdout",
     "output_type": "stream",
     "text": [
      "Store  has null value :  0\n",
      "StoreType  has null value :  0\n",
      "Assortment  has null value :  0\n",
      "CompetitionDistance  has null value :  3\n",
      "CompetitionOpenSinceMonth  has null value :  354\n",
      "CompetitionOpenSinceYear  has null value :  354\n",
      "Promo2  has null value :  0\n",
      "Promo2SinceWeek  has null value :  544\n",
      "Promo2SinceYear  has null value :  544\n",
      "PromoInterval  has null value :  544\n"
     ]
    }
   ],
   "source": [
    "# Missing Values/Null Values Count for Store data\n",
    "for i in df_store.columns:\n",
    "    print( i,' has null value : ',df_store[i].isna().sum())\n",
    "    "
   ]
  },
  {
   "cell_type": "code",
   "execution_count": 12,
   "metadata": {
    "ExecuteTime": {
     "end_time": "2023-07-01T11:28:48.342105Z",
     "start_time": "2023-07-01T11:28:48.233270Z"
    }
   },
   "outputs": [
    {
     "name": "stdout",
     "output_type": "stream",
     "text": [
      "Store  has null value :  0\n",
      "DayOfWeek  has null value :  0\n",
      "Date  has null value :  0\n",
      "Sales  has null value :  0\n",
      "Customers  has null value :  0\n",
      "Open  has null value :  0\n",
      "Promo  has null value :  0\n",
      "StateHoliday  has null value :  0\n",
      "SchoolHoliday  has null value :  0\n"
     ]
    }
   ],
   "source": [
    "# Missing Values/Null Values Count for Sales data\n",
    "for i in df_sales.columns:\n",
    "    print( i,' has null value : ',df_sales[i].isna().sum())   #no missing value in Sales data "
   ]
  },
  {
   "cell_type": "code",
   "execution_count": 13,
   "metadata": {
    "ExecuteTime": {
     "end_time": "2023-07-01T11:28:49.084610Z",
     "start_time": "2023-07-01T11:28:48.345099Z"
    },
    "id": "3q5wnI3om9sJ"
   },
   "outputs": [
    {
     "data": {
      "image/png": "[encoded data removed]",
      "text/plain": [
       "<Figure size 640x480 with 1 Axes>"
      ]
     },
     "metadata": {},
     "output_type": "display_data"
    },
    {
     "data": {
      "image/png": "[encoded data removed]",
      "text/plain": [
       "<Figure size 640x480 with 1 Axes>"
      ]
     },
     "metadata": {},
     "output_type": "display_data"
    },
    {
     "data": {
      "image/png": "[encoded data removed]",
      "text/plain": [
       "<Figure size 640x480 with 1 Axes>"
      ]
     },
     "metadata": {},
     "output_type": "display_data"
    },
    {
     "data": {
      "image/png": "[encoded data removed]",
      "text/plain": [
       "<Figure size 640x480 with 1 Axes>"
      ]
     },
     "metadata": {},
     "output_type": "display_data"
    },
    {
     "data": {
      "image/png": "[encoded data removed]",
      "text/plain": [
       "<Figure size 640x480 with 1 Axes>"
      ]
     },
     "metadata": {},
     "output_type": "display_data"
    },
    {
     "data": {
      "image/png": "[encoded data removed]",
      "text/plain": [
       "<Figure size 640x480 with 1 Axes>"
      ]
     },
     "metadata": {},
     "output_type": "display_data"
    }
   ],
   "source": [
    "# Visualizing the missing values for store data\n",
    "\n",
    "for i in df_store.columns:\n",
    "    plt.gca()\n",
    "    # Calculate the counts of NaN and non-NaN values\n",
    "    na_count = df_store[i].isna().sum()\n",
    "    non_na_count = df_store[i].notna().sum()\n",
    "    \n",
    "    if na_count != 0: #To visualize only na value chart.\n",
    "\n",
    "        # Create a list of values\n",
    "        values = [na_count, non_na_count]\n",
    "\n",
    "        # Create labels for the pie chart\n",
    "        labels = ['NaN', 'Non-NaN']\n",
    "\n",
    "        # Plot the pie chart\n",
    "        plt.pie(values, labels=labels , autopct='%.1f%%')\n",
    "        plt.title(f'missing value in {i}')\n",
    "\n",
    "        # Display the chart\n",
    "        plt.show()\n",
    "\n",
    "    "
   ]
  },
  {
   "cell_type": "markdown",
   "metadata": {
    "id": "H0kj-8xxnORC"
   },
   "source": [
    "### What did you know about your dataset?"
   ]
  },
  {
   "cell_type": "markdown",
   "metadata": {
    "id": "gfoNAAC-nUe_"
   },
   "source": [
    "Answer Here\n",
    "* In Sales data :-\n",
    "** Not present any duplicate data and missing value too.\n",
    "* In Store data:-\n",
    "** Not present any duplicate data but there have many missing data in features."
   ]
  },
  {
   "cell_type": "markdown",
   "metadata": {
    "id": "nA9Y7ga8ng1Z"
   },
   "source": [
    "## ***2. Understanding Your Variables***"
   ]
  },
  {
   "cell_type": "code",
   "execution_count": 14,
   "metadata": {
    "ExecuteTime": {
     "end_time": "2023-07-01T11:28:49.107926Z",
     "start_time": "2023-07-01T11:28:49.087600Z"
    },
    "id": "j7xfkqrt5Ag5"
   },
   "outputs": [
    {
     "data": {
      "text/plain": [
       "Index(['Store', 'DayOfWeek', 'Date', 'Sales', 'Customers', 'Open', 'Promo',\n",
       "       'StateHoliday', 'SchoolHoliday'],\n",
       "      dtype='object')"
      ]
     },
     "execution_count": 14,
     "metadata": {},
     "output_type": "execute_result"
    }
   ],
   "source": [
    "# Dataset Columns for sales\n",
    "\n",
    "df_sales.columns"
   ]
  },
  {
   "cell_type": "code",
   "execution_count": 15,
   "metadata": {
    "ExecuteTime": {
     "end_time": "2023-07-01T11:28:49.123890Z",
     "start_time": "2023-07-01T11:28:49.111922Z"
    }
   },
   "outputs": [
    {
     "data": {
      "text/plain": [
       "Index(['Store', 'StoreType', 'Assortment', 'CompetitionDistance',\n",
       "       'CompetitionOpenSinceMonth', 'CompetitionOpenSinceYear', 'Promo2',\n",
       "       'Promo2SinceWeek', 'Promo2SinceYear', 'PromoInterval'],\n",
       "      dtype='object')"
      ]
     },
     "execution_count": 15,
     "metadata": {},
     "output_type": "execute_result"
    }
   ],
   "source": [
    "# Dataset Columns for store\n",
    "df_store.columns"
   ]
  },
  {
   "cell_type": "code",
   "execution_count": 16,
   "metadata": {
    "ExecuteTime": {
     "end_time": "2023-07-01T11:28:49.366731Z",
     "start_time": "2023-07-01T11:28:49.126881Z"
    },
    "id": "DnOaZdaE5Q5t"
   },
   "outputs": [
    {
     "data": {
      "text/html": [
       "<div>\n",
       "<style scoped>\n",
       "    .dataframe tbody tr th:only-of-type {\n",
       "        vertical-align: middle;\n",
       "    }\n",
       "\n",
       "    .dataframe tbody tr th {\n",
       "        vertical-align: top;\n",
       "    }\n",
       "\n",
       "    .dataframe thead th {\n",
       "        text-align: right;\n",
       "    }\n",
       "</style>\n",
       "<table border=\"1\" class=\"dataframe\">\n",
       "  <thead>\n",
       "    <tr style=\"text-align: right;\">\n",
       "      <th></th>\n",
       "      <th>Store</th>\n",
       "      <th>DayOfWeek</th>\n",
       "      <th>Sales</th>\n",
       "      <th>Customers</th>\n",
       "      <th>Open</th>\n",
       "      <th>Promo</th>\n",
       "      <th>SchoolHoliday</th>\n",
       "    </tr>\n",
       "  </thead>\n",
       "  <tbody>\n",
       "    <tr>\n",
       "      <th>count</th>\n",
       "      <td>1.017209e+06</td>\n",
       "      <td>1.017209e+06</td>\n",
       "      <td>1.017209e+06</td>\n",
       "      <td>1.017209e+06</td>\n",
       "      <td>1.017209e+06</td>\n",
       "      <td>1.017209e+06</td>\n",
       "      <td>1.017209e+06</td>\n",
       "    </tr>\n",
       "    <tr>\n",
       "      <th>mean</th>\n",
       "      <td>5.584297e+02</td>\n",
       "      <td>3.998341e+00</td>\n",
       "      <td>5.773819e+03</td>\n",
       "      <td>6.331459e+02</td>\n",
       "      <td>8.301067e-01</td>\n",
       "      <td>3.815145e-01</td>\n",
       "      <td>1.786467e-01</td>\n",
       "    </tr>\n",
       "    <tr>\n",
       "      <th>std</th>\n",
       "      <td>3.219087e+02</td>\n",
       "      <td>1.997391e+00</td>\n",
       "      <td>3.849926e+03</td>\n",
       "      <td>4.644117e+02</td>\n",
       "      <td>3.755392e-01</td>\n",
       "      <td>4.857586e-01</td>\n",
       "      <td>3.830564e-01</td>\n",
       "    </tr>\n",
       "    <tr>\n",
       "      <th>min</th>\n",
       "      <td>1.000000e+00</td>\n",
       "      <td>1.000000e+00</td>\n",
       "      <td>0.000000e+00</td>\n",
       "      <td>0.000000e+00</td>\n",
       "      <td>0.000000e+00</td>\n",
       "      <td>0.000000e+00</td>\n",
       "      <td>0.000000e+00</td>\n",
       "    </tr>\n",
       "    <tr>\n",
       "      <th>25%</th>\n",
       "      <td>2.800000e+02</td>\n",
       "      <td>2.000000e+00</td>\n",
       "      <td>3.727000e+03</td>\n",
       "      <td>4.050000e+02</td>\n",
       "      <td>1.000000e+00</td>\n",
       "      <td>0.000000e+00</td>\n",
       "      <td>0.000000e+00</td>\n",
       "    </tr>\n",
       "    <tr>\n",
       "      <th>50%</th>\n",
       "      <td>5.580000e+02</td>\n",
       "      <td>4.000000e+00</td>\n",
       "      <td>5.744000e+03</td>\n",
       "      <td>6.090000e+02</td>\n",
       "      <td>1.000000e+00</td>\n",
       "      <td>0.000000e+00</td>\n",
       "      <td>0.000000e+00</td>\n",
       "    </tr>\n",
       "    <tr>\n",
       "      <th>75%</th>\n",
       "      <td>8.380000e+02</td>\n",
       "      <td>6.000000e+00</td>\n",
       "      <td>7.856000e+03</td>\n",
       "      <td>8.370000e+02</td>\n",
       "      <td>1.000000e+00</td>\n",
       "      <td>1.000000e+00</td>\n",
       "      <td>0.000000e+00</td>\n",
       "    </tr>\n",
       "    <tr>\n",
       "      <th>max</th>\n",
       "      <td>1.115000e+03</td>\n",
       "      <td>7.000000e+00</td>\n",
       "      <td>4.155100e+04</td>\n",
       "      <td>7.388000e+03</td>\n",
       "      <td>1.000000e+00</td>\n",
       "      <td>1.000000e+00</td>\n",
       "      <td>1.000000e+00</td>\n",
       "    </tr>\n",
       "  </tbody>\n",
       "</table>\n",
       "</div>"
      ],
      "text/plain": [
       "              Store     DayOfWeek         Sales     Customers          Open  \\\n",
       "count  1.017209e+06  1.017209e+06  1.017209e+06  1.017209e+06  1.017209e+06   \n",
       "mean   5.584297e+02  3.998341e+00  5.773819e+03  6.331459e+02  8.301067e-01   \n",
       "std    3.219087e+02  1.997391e+00  3.849926e+03  4.644117e+02  3.755392e-01   \n",
       "min    1.000000e+00  1.000000e+00  0.000000e+00  0.000000e+00  0.000000e+00   \n",
       "25%    2.800000e+02  2.000000e+00  3.727000e+03  4.050000e+02  1.000000e+00   \n",
       "50%    5.580000e+02  4.000000e+00  5.744000e+03  6.090000e+02  1.000000e+00   \n",
       "75%    8.380000e+02  6.000000e+00  7.856000e+03  8.370000e+02  1.000000e+00   \n",
       "max    1.115000e+03  7.000000e+00  4.155100e+04  7.388000e+03  1.000000e+00   \n",
       "\n",
       "              Promo  SchoolHoliday  \n",
       "count  1.017209e+06   1.017209e+06  \n",
       "mean   3.815145e-01   1.786467e-01  \n",
       "std    4.857586e-01   3.830564e-01  \n",
       "min    0.000000e+00   0.000000e+00  \n",
       "25%    0.000000e+00   0.000000e+00  \n",
       "50%    0.000000e+00   0.000000e+00  \n",
       "75%    1.000000e+00   0.000000e+00  \n",
       "max    1.000000e+00   1.000000e+00  "
      ]
     },
     "execution_count": 16,
     "metadata": {},
     "output_type": "execute_result"
    }
   ],
   "source": [
    "# Dataset Describe for sales\n",
    "df_sales.describe()"
   ]
  },
  {
   "cell_type": "code",
   "execution_count": 17,
   "metadata": {
    "ExecuteTime": {
     "end_time": "2023-07-01T11:28:49.410321Z",
     "start_time": "2023-07-01T11:28:49.369724Z"
    }
   },
   "outputs": [
    {
     "data": {
      "text/html": [
       "<div>\n",
       "<style scoped>\n",
       "    .dataframe tbody tr th:only-of-type {\n",
       "        vertical-align: middle;\n",
       "    }\n",
       "\n",
       "    .dataframe tbody tr th {\n",
       "        vertical-align: top;\n",
       "    }\n",
       "\n",
       "    .dataframe thead th {\n",
       "        text-align: right;\n",
       "    }\n",
       "</style>\n",
       "<table border=\"1\" class=\"dataframe\">\n",
       "  <thead>\n",
       "    <tr style=\"text-align: right;\">\n",
       "      <th></th>\n",
       "      <th>Store</th>\n",
       "      <th>CompetitionDistance</th>\n",
       "      <th>CompetitionOpenSinceMonth</th>\n",
       "      <th>CompetitionOpenSinceYear</th>\n",
       "      <th>Promo2</th>\n",
       "      <th>Promo2SinceWeek</th>\n",
       "      <th>Promo2SinceYear</th>\n",
       "    </tr>\n",
       "  </thead>\n",
       "  <tbody>\n",
       "    <tr>\n",
       "      <th>count</th>\n",
       "      <td>1115.00000</td>\n",
       "      <td>1112.000000</td>\n",
       "      <td>761.000000</td>\n",
       "      <td>761.000000</td>\n",
       "      <td>1115.000000</td>\n",
       "      <td>571.000000</td>\n",
       "      <td>571.000000</td>\n",
       "    </tr>\n",
       "    <tr>\n",
       "      <th>mean</th>\n",
       "      <td>558.00000</td>\n",
       "      <td>5404.901079</td>\n",
       "      <td>7.224704</td>\n",
       "      <td>2008.668857</td>\n",
       "      <td>0.512108</td>\n",
       "      <td>23.595447</td>\n",
       "      <td>2011.763573</td>\n",
       "    </tr>\n",
       "    <tr>\n",
       "      <th>std</th>\n",
       "      <td>322.01708</td>\n",
       "      <td>7663.174720</td>\n",
       "      <td>3.212348</td>\n",
       "      <td>6.195983</td>\n",
       "      <td>0.500078</td>\n",
       "      <td>14.141984</td>\n",
       "      <td>1.674935</td>\n",
       "    </tr>\n",
       "    <tr>\n",
       "      <th>min</th>\n",
       "      <td>1.00000</td>\n",
       "      <td>20.000000</td>\n",
       "      <td>1.000000</td>\n",
       "      <td>1900.000000</td>\n",
       "      <td>0.000000</td>\n",
       "      <td>1.000000</td>\n",
       "      <td>2009.000000</td>\n",
       "    </tr>\n",
       "    <tr>\n",
       "      <th>25%</th>\n",
       "      <td>279.50000</td>\n",
       "      <td>717.500000</td>\n",
       "      <td>4.000000</td>\n",
       "      <td>2006.000000</td>\n",
       "      <td>0.000000</td>\n",
       "      <td>13.000000</td>\n",
       "      <td>2011.000000</td>\n",
       "    </tr>\n",
       "    <tr>\n",
       "      <th>50%</th>\n",
       "      <td>558.00000</td>\n",
       "      <td>2325.000000</td>\n",
       "      <td>8.000000</td>\n",
       "      <td>2010.000000</td>\n",
       "      <td>1.000000</td>\n",
       "      <td>22.000000</td>\n",
       "      <td>2012.000000</td>\n",
       "    </tr>\n",
       "    <tr>\n",
       "      <th>75%</th>\n",
       "      <td>836.50000</td>\n",
       "      <td>6882.500000</td>\n",
       "      <td>10.000000</td>\n",
       "      <td>2013.000000</td>\n",
       "      <td>1.000000</td>\n",
       "      <td>37.000000</td>\n",
       "      <td>2013.000000</td>\n",
       "    </tr>\n",
       "    <tr>\n",
       "      <th>max</th>\n",
       "      <td>1115.00000</td>\n",
       "      <td>75860.000000</td>\n",
       "      <td>12.000000</td>\n",
       "      <td>2015.000000</td>\n",
       "      <td>1.000000</td>\n",
       "      <td>50.000000</td>\n",
       "      <td>2015.000000</td>\n",
       "    </tr>\n",
       "  </tbody>\n",
       "</table>\n",
       "</div>"
      ],
      "text/plain": [
       "            Store  CompetitionDistance  CompetitionOpenSinceMonth  \\\n",
       "count  1115.00000          1112.000000                 761.000000   \n",
       "mean    558.00000          5404.901079                   7.224704   \n",
       "std     322.01708          7663.174720                   3.212348   \n",
       "min       1.00000            20.000000                   1.000000   \n",
       "25%     279.50000           717.500000                   4.000000   \n",
       "50%     558.00000          2325.000000                   8.000000   \n",
       "75%     836.50000          6882.500000                  10.000000   \n",
       "max    1115.00000         75860.000000                  12.000000   \n",
       "\n",
       "       CompetitionOpenSinceYear       Promo2  Promo2SinceWeek  Promo2SinceYear  \n",
       "count                761.000000  1115.000000       571.000000       571.000000  \n",
       "mean                2008.668857     0.512108        23.595447      2011.763573  \n",
       "std                    6.195983     0.500078        14.141984         1.674935  \n",
       "min                 1900.000000     0.000000         1.000000      2009.000000  \n",
       "25%                 2006.000000     0.000000        13.000000      2011.000000  \n",
       "50%                 2010.000000     1.000000        22.000000      2012.000000  \n",
       "75%                 2013.000000     1.000000        37.000000      2013.000000  \n",
       "max                 2015.000000     1.000000        50.000000      2015.000000  "
      ]
     },
     "execution_count": 17,
     "metadata": {},
     "output_type": "execute_result"
    }
   ],
   "source": [
    "# Dataset Describe for store\n",
    "df_store.describe()"
   ]
  },
  {
   "cell_type": "markdown",
   "metadata": {
    "id": "PBTbrJXOngz2"
   },
   "source": [
    "### Variables Description"
   ]
  },
  {
   "cell_type": "markdown",
   "metadata": {
    "id": "aJV4KIxSnxay"
   },
   "source": [
    "\n",
    "* store-Store_id\n",
    "* Sales-Sales made for the day\n",
    "* Customers - Footfall for the day\n",
    "* Open-Open or close\n",
    "* StateHoliday- State holiday or not \n",
    "* SchoolHoliday - School holiday or not \n",
    "* StoreType - Types of store\n",
    "* Assortment-Type of assortment\n",
    "* CompetitionDistance-Distance from nearest competition\n",
    "* Promo- Store running promotion or not\n",
    "* Promo2-Store running consecutive promotion or not\n",
    "* PromoInterval-Promotion intervals\n"
   ]
  },
  {
   "cell_type": "markdown",
   "metadata": {
    "id": "u3PMJOP6ngxN"
   },
   "source": [
    "### Merge Data set (Available)\n"
   ]
  },
  {
   "cell_type": "code",
   "execution_count": 18,
   "metadata": {
    "ExecuteTime": {
     "end_time": "2023-07-01T11:28:50.145358Z",
     "start_time": "2023-07-01T11:28:49.413601Z"
    }
   },
   "outputs": [
    {
     "data": {
      "text/html": [
       "<div>\n",
       "<style scoped>\n",
       "    .dataframe tbody tr th:only-of-type {\n",
       "        vertical-align: middle;\n",
       "    }\n",
       "\n",
       "    .dataframe tbody tr th {\n",
       "        vertical-align: top;\n",
       "    }\n",
       "\n",
       "    .dataframe thead th {\n",
       "        text-align: right;\n",
       "    }\n",
       "</style>\n",
       "<table border=\"1\" class=\"dataframe\">\n",
       "  <thead>\n",
       "    <tr style=\"text-align: right;\">\n",
       "      <th></th>\n",
       "      <th>Store</th>\n",
       "      <th>StoreType</th>\n",
       "      <th>Assortment</th>\n",
       "      <th>CompetitionDistance</th>\n",
       "      <th>CompetitionOpenSinceMonth</th>\n",
       "      <th>CompetitionOpenSinceYear</th>\n",
       "      <th>Promo2</th>\n",
       "      <th>Promo2SinceWeek</th>\n",
       "      <th>Promo2SinceYear</th>\n",
       "      <th>PromoInterval</th>\n",
       "      <th>DayOfWeek</th>\n",
       "      <th>Date</th>\n",
       "      <th>Sales</th>\n",
       "      <th>Customers</th>\n",
       "      <th>Open</th>\n",
       "      <th>Promo</th>\n",
       "      <th>StateHoliday</th>\n",
       "      <th>SchoolHoliday</th>\n",
       "    </tr>\n",
       "  </thead>\n",
       "  <tbody>\n",
       "    <tr>\n",
       "      <th>0</th>\n",
       "      <td>1</td>\n",
       "      <td>c</td>\n",
       "      <td>a</td>\n",
       "      <td>1270.0</td>\n",
       "      <td>9.0</td>\n",
       "      <td>2008.0</td>\n",
       "      <td>0</td>\n",
       "      <td>NaN</td>\n",
       "      <td>NaN</td>\n",
       "      <td>NaN</td>\n",
       "      <td>5</td>\n",
       "      <td>2015-07-31</td>\n",
       "      <td>5263</td>\n",
       "      <td>555</td>\n",
       "      <td>1</td>\n",
       "      <td>1</td>\n",
       "      <td>0</td>\n",
       "      <td>1</td>\n",
       "    </tr>\n",
       "    <tr>\n",
       "      <th>1</th>\n",
       "      <td>1</td>\n",
       "      <td>c</td>\n",
       "      <td>a</td>\n",
       "      <td>1270.0</td>\n",
       "      <td>9.0</td>\n",
       "      <td>2008.0</td>\n",
       "      <td>0</td>\n",
       "      <td>NaN</td>\n",
       "      <td>NaN</td>\n",
       "      <td>NaN</td>\n",
       "      <td>4</td>\n",
       "      <td>2015-07-30</td>\n",
       "      <td>5020</td>\n",
       "      <td>546</td>\n",
       "      <td>1</td>\n",
       "      <td>1</td>\n",
       "      <td>0</td>\n",
       "      <td>1</td>\n",
       "    </tr>\n",
       "    <tr>\n",
       "      <th>2</th>\n",
       "      <td>1</td>\n",
       "      <td>c</td>\n",
       "      <td>a</td>\n",
       "      <td>1270.0</td>\n",
       "      <td>9.0</td>\n",
       "      <td>2008.0</td>\n",
       "      <td>0</td>\n",
       "      <td>NaN</td>\n",
       "      <td>NaN</td>\n",
       "      <td>NaN</td>\n",
       "      <td>3</td>\n",
       "      <td>2015-07-29</td>\n",
       "      <td>4782</td>\n",
       "      <td>523</td>\n",
       "      <td>1</td>\n",
       "      <td>1</td>\n",
       "      <td>0</td>\n",
       "      <td>1</td>\n",
       "    </tr>\n",
       "    <tr>\n",
       "      <th>3</th>\n",
       "      <td>1</td>\n",
       "      <td>c</td>\n",
       "      <td>a</td>\n",
       "      <td>1270.0</td>\n",
       "      <td>9.0</td>\n",
       "      <td>2008.0</td>\n",
       "      <td>0</td>\n",
       "      <td>NaN</td>\n",
       "      <td>NaN</td>\n",
       "      <td>NaN</td>\n",
       "      <td>2</td>\n",
       "      <td>2015-07-28</td>\n",
       "      <td>5011</td>\n",
       "      <td>560</td>\n",
       "      <td>1</td>\n",
       "      <td>1</td>\n",
       "      <td>0</td>\n",
       "      <td>1</td>\n",
       "    </tr>\n",
       "    <tr>\n",
       "      <th>4</th>\n",
       "      <td>1</td>\n",
       "      <td>c</td>\n",
       "      <td>a</td>\n",
       "      <td>1270.0</td>\n",
       "      <td>9.0</td>\n",
       "      <td>2008.0</td>\n",
       "      <td>0</td>\n",
       "      <td>NaN</td>\n",
       "      <td>NaN</td>\n",
       "      <td>NaN</td>\n",
       "      <td>1</td>\n",
       "      <td>2015-07-27</td>\n",
       "      <td>6102</td>\n",
       "      <td>612</td>\n",
       "      <td>1</td>\n",
       "      <td>1</td>\n",
       "      <td>0</td>\n",
       "      <td>1</td>\n",
       "    </tr>\n",
       "  </tbody>\n",
       "</table>\n",
       "</div>"
      ],
      "text/plain": [
       "   Store StoreType Assortment  CompetitionDistance  CompetitionOpenSinceMonth  \\\n",
       "0      1         c          a               1270.0                        9.0   \n",
       "1      1         c          a               1270.0                        9.0   \n",
       "2      1         c          a               1270.0                        9.0   \n",
       "3      1         c          a               1270.0                        9.0   \n",
       "4      1         c          a               1270.0                        9.0   \n",
       "\n",
       "   CompetitionOpenSinceYear  Promo2  Promo2SinceWeek  Promo2SinceYear  \\\n",
       "0                    2008.0       0              NaN              NaN   \n",
       "1                    2008.0       0              NaN              NaN   \n",
       "2                    2008.0       0              NaN              NaN   \n",
       "3                    2008.0       0              NaN              NaN   \n",
       "4                    2008.0       0              NaN              NaN   \n",
       "\n",
       "  PromoInterval  DayOfWeek       Date  Sales  Customers  Open  Promo  \\\n",
       "0           NaN          5 2015-07-31   5263        555     1      1   \n",
       "1           NaN          4 2015-07-30   5020        546     1      1   \n",
       "2           NaN          3 2015-07-29   4782        523     1      1   \n",
       "3           NaN          2 2015-07-28   5011        560     1      1   \n",
       "4           NaN          1 2015-07-27   6102        612     1      1   \n",
       "\n",
       "  StateHoliday  SchoolHoliday  \n",
       "0            0              1  \n",
       "1            0              1  \n",
       "2            0              1  \n",
       "3            0              1  \n",
       "4            0              1  "
      ]
     },
     "execution_count": 18,
     "metadata": {},
     "output_type": "execute_result"
    }
   ],
   "source": [
    "#merge 2 data file on store by left joining\n",
    "\n",
    "df=pd.merge(df_store,df_sales,how='left',on='Store')\n",
    "df.head()"
   ]
  },
  {
   "cell_type": "code",
   "execution_count": 19,
   "metadata": {
    "ExecuteTime": {
     "end_time": "2023-07-01T11:28:50.161318Z",
     "start_time": "2023-07-01T11:28:50.148351Z"
    }
   },
   "outputs": [
    {
     "data": {
      "text/plain": [
       "(1017209, 18)"
      ]
     },
     "execution_count": 19,
     "metadata": {},
     "output_type": "execute_result"
    }
   ],
   "source": [
    "df.shape"
   ]
  },
  {
   "cell_type": "code",
   "execution_count": 20,
   "metadata": {
    "ExecuteTime": {
     "end_time": "2023-07-01T11:28:50.295333Z",
     "start_time": "2023-07-01T11:28:50.162387Z"
    }
   },
   "outputs": [
    {
     "data": {
      "text/plain": [
       "(1017209, 17)"
      ]
     },
     "execution_count": 20,
     "metadata": {},
     "output_type": "execute_result"
    }
   ],
   "source": [
    "#store column no need for further calculation so drop it\n",
    "df.drop('Store',axis=1,inplace=True)\n",
    "df.shape"
   ]
  },
  {
   "cell_type": "markdown",
   "metadata": {},
   "source": [
    "### Check Unique Values for each variable."
   ]
  },
  {
   "cell_type": "code",
   "execution_count": 21,
   "metadata": {
    "ExecuteTime": {
     "end_time": "2023-07-01T11:28:51.610735Z",
     "start_time": "2023-07-01T11:28:50.298327Z"
    },
    "id": "zms12Yq5n-jE"
   },
   "outputs": [
    {
     "name": "stdout",
     "output_type": "stream",
     "text": [
      "1- for StoreType column No of unique values is :- \n",
      "4,\n",
      " unique values is:-\n",
      "['c' 'a' 'd' 'b'],\n",
      " No of unique value counts:-\n",
      "a    551627\n",
      "d    312912\n",
      "c    136840\n",
      "b     15830\n",
      "Name: StoreType, dtype: int64\n",
      "2- for Assortment column No of unique values is :- \n",
      "3,\n",
      " unique values is:-\n",
      "['a' 'c' 'b'],\n",
      " No of unique value counts:-\n",
      "a    537445\n",
      "c    471470\n",
      "b      8294\n",
      "Name: Assortment, dtype: int64\n",
      "3- for CompetitionDistance column No of unique values is :- \n",
      "654,\n",
      " unique values is:-\n",
      "[1.270e+03 5.700e+02 1.413e+04 6.200e+02 2.991e+04 3.100e+02 2.400e+04\n",
      " 7.520e+03 2.030e+03 3.160e+03 9.600e+02 1.070e+03 1.300e+03 4.110e+03\n",
      " 3.270e+03 5.000e+01 1.384e+04 3.240e+03 2.340e+03 5.500e+02 1.040e+03\n",
      " 4.060e+03 4.590e+03 4.300e+02 2.300e+03 6.000e+01 1.200e+03 2.170e+03\n",
      " 4.000e+01 9.800e+03 2.910e+03 1.320e+03 2.240e+03 7.660e+03 5.400e+02\n",
      " 4.230e+03 1.090e+03 2.600e+02 1.800e+02 1.180e+03 2.900e+02 4.880e+03\n",
      " 9.710e+03 2.700e+02 1.060e+03 1.801e+04 6.260e+03 1.057e+04 4.500e+02\n",
      " 3.036e+04 7.170e+03 7.200e+02 6.620e+03 4.200e+02 7.340e+03 2.840e+03\n",
      " 5.540e+03 3.500e+02 2.050e+03 3.700e+03 2.256e+04 4.100e+02 2.500e+02\n",
      " 1.130e+03 4.840e+03 1.750e+04 2.200e+03 1.650e+03 3.300e+02 2.244e+04\n",
      " 1.996e+04 3.510e+03 3.320e+03 7.910e+03 2.370e+03 2.239e+04 2.710e+03\n",
      " 1.181e+04 1.870e+03 4.800e+02 5.600e+02 1.069e+04 2.380e+03 2.410e+03\n",
      " 2.400e+02 1.669e+04 1.462e+04 1.890e+03 8.780e+03 8.980e+03 1.514e+04\n",
      " 1.793e+04 2.440e+03 1.500e+02 5.210e+03 3.900e+02 6.190e+03 1.390e+03\n",
      " 1.930e+03 2.190e+03 3.300e+03 4.659e+04 7.890e+03 1.630e+03 2.093e+04\n",
      " 4.510e+03 5.740e+03 6.800e+02 3.450e+03 3.580e+03 2.100e+03 2.290e+03\n",
      " 3.570e+03 5.826e+04 1.676e+04 1.410e+03 7.600e+02 3.370e+03 1.350e+03\n",
      " 2.000e+03 2.460e+03 9.000e+02 9.200e+02 5.190e+03 1.730e+03 2.536e+04\n",
      " 1.700e+03 1.540e+03 2.930e+03 1.657e+04 2.800e+02 8.050e+03 8.540e+03\n",
      " 2.090e+03 2.610e+03 3.183e+04 4.360e+03 1.780e+03 1.624e+04 1.642e+04\n",
      " 3.050e+03 2.020e+03 2.950e+03 1.184e+04 8.530e+03 1.711e+04 2.970e+03\n",
      " 5.340e+03 1.480e+03 1.160e+03 3.720e+03 1.000e+02 1.400e+02 1.254e+04\n",
      " 9.800e+02 2.640e+03 1.100e+02 1.309e+04 4.130e+03 3.770e+03 1.250e+03\n",
      " 1.710e+03 5.800e+03 1.261e+04 9.670e+03 3.560e+03 1.860e+03 1.936e+04\n",
      " 8.500e+02 5.760e+03 1.470e+03 1.100e+03 2.770e+03 5.200e+02 1.697e+04\n",
      " 2.200e+02 3.850e+03 4.210e+03 6.360e+03 2.026e+04 5.140e+03 4.900e+02\n",
      " 5.630e+03 3.800e+02 6.870e+03 3.000e+02 1.168e+04 9.700e+02 1.505e+04\n",
      " 4.030e+03 8.650e+03 1.900e+02 3.150e+03 6.400e+02 1.640e+03 1.000e+03\n",
      " 1.353e+04 2.920e+03 7.930e+03 1.018e+04 1.080e+04 1.741e+04 6.680e+03\n",
      " 3.840e+03 1.357e+04 4.370e+03 5.710e+03 1.420e+03 3.200e+02 6.100e+02\n",
      " 1.110e+03 7.800e+02 6.880e+03 7.100e+02 1.310e+03 4.660e+03 7.000e+01\n",
      " 3.400e+02 3.520e+03 2.233e+04 4.630e+03 8.000e+01 2.719e+04 2.100e+02\n",
      " 1.534e+04 1.140e+03 4.580e+03 3.600e+02 4.520e+03 1.450e+03 1.618e+04\n",
      " 8.480e+03 3.640e+03 2.960e+03 7.840e+03 9.260e+03 2.320e+03 1.864e+04\n",
      " 6.970e+03 1.220e+03 2.260e+03 1.290e+03 1.460e+03 2.740e+03 8.000e+02\n",
      " 6.540e+03 4.150e+03       nan 9.580e+03 1.984e+04 3.863e+04 1.200e+02\n",
      " 1.543e+04 1.950e+03 2.470e+03 5.100e+03 1.866e+04 8.740e+03 1.130e+04\n",
      " 1.416e+04 3.871e+04 9.000e+03 3.140e+03 3.233e+04 8.140e+03 8.400e+03\n",
      " 1.314e+04 1.007e+04 3.130e+03 3.700e+02 6.700e+02 1.840e+03 4.040e+03\n",
      " 9.000e+01 1.060e+04 1.590e+03 2.280e+03 8.080e+03 1.577e+04 1.865e+04\n",
      " 8.090e+03 9.360e+03 1.649e+04 1.490e+03 8.880e+03 5.290e+03 1.500e+03\n",
      " 9.720e+03 8.970e+03 2.060e+03 2.890e+03 2.040e+03 4.490e+03 1.362e+04\n",
      " 6.470e+03 5.870e+03 8.250e+03 1.970e+03 1.112e+04 1.150e+03 1.571e+04\n",
      " 1.600e+02 2.140e+03 6.630e+03 1.800e+03 2.613e+04 1.300e+02 6.690e+03\n",
      " 1.600e+03 4.600e+02 2.120e+03 4.820e+03 1.085e+04 3.620e+03 2.313e+04\n",
      " 5.360e+03 9.200e+03 5.830e+03 4.970e+03 1.080e+03 8.240e+03 5.890e+03\n",
      " 1.560e+03 8.400e+02 8.460e+03 4.460e+03 6.210e+03 6.910e+03 4.650e+03\n",
      " 1.620e+03 3.530e+03 2.880e+03 1.635e+04 1.287e+04 8.100e+02 3.003e+04\n",
      " 1.302e+04 9.100e+02 3.900e+03 2.530e+03 5.000e+02 1.140e+04 1.510e+03\n",
      " 3.970e+03 5.780e+03 1.850e+03 7.586e+04 2.645e+04 3.390e+03 3.405e+04\n",
      " 1.790e+03 4.432e+04 4.160e+03 1.089e+04 3.110e+03 2.039e+04 5.260e+03\n",
      " 5.300e+03 5.030e+03 1.481e+04 8.300e+03 7.700e+02 1.940e+03 7.470e+03\n",
      " 2.550e+03 2.310e+03 1.430e+04 2.180e+03 1.496e+04 6.600e+02 4.680e+03\n",
      " 1.740e+03 1.260e+03 5.470e+03 2.780e+03 1.610e+03 9.900e+02 1.308e+04\n",
      " 8.200e+02 9.070e+03 1.280e+03 4.740e+03 8.260e+03 5.900e+02 4.000e+02\n",
      " 1.126e+04 2.000e+01 2.249e+04 3.330e+03 2.510e+03 6.900e+03 1.861e+04\n",
      " 7.160e+03 4.086e+04 2.062e+04 1.292e+04 1.816e+04 5.950e+03 4.700e+03\n",
      " 6.000e+02 6.500e+02 7.280e+03 5.020e+03 5.800e+02 8.990e+03 3.760e+03\n",
      " 2.330e+03 4.260e+03 3.040e+03 3.000e+03 3.910e+03 1.910e+03 1.210e+03\n",
      " 7.000e+02 1.010e+03 4.270e+03 1.340e+03 2.110e+03 9.230e+03 1.190e+03\n",
      " 4.400e+03 2.270e+03 1.270e+04 2.097e+04 1.700e+02 7.250e+03 1.360e+03\n",
      " 4.400e+02 1.572e+04 3.340e+03 2.540e+03 3.306e+04 1.734e+04 8.220e+03\n",
      " 1.095e+04 1.031e+04 1.837e+04 2.070e+03 2.490e+03 7.300e+02 8.940e+03\n",
      " 9.910e+03 5.440e+03 3.000e+01 4.080e+03 6.920e+03 1.170e+03 1.074e+04\n",
      " 5.100e+02 1.690e+03 2.870e+03 3.350e+03 1.164e+04 2.753e+04 9.790e+03\n",
      " 1.017e+04 7.780e+03 8.040e+03 5.300e+02 2.300e+02 7.420e+03 2.130e+03\n",
      " 1.457e+04 2.000e+02 6.930e+03 7.860e+03 1.680e+03 2.700e+03 1.708e+04\n",
      " 1.517e+04 3.250e+03 4.140e+03 2.850e+03 2.005e+04 1.876e+04 1.504e+04\n",
      " 3.030e+03 3.780e+03 8.300e+02 8.550e+03 7.830e+03 2.900e+03 1.147e+04\n",
      " 4.870e+03 1.207e+04 3.200e+03 8.190e+03 1.532e+04 3.590e+03 5.650e+03\n",
      " 5.900e+03 1.754e+04 4.054e+04 1.399e+04 1.527e+04 3.528e+04 8.600e+02\n",
      " 1.920e+03 5.980e+03 6.400e+03 1.190e+04 4.380e+03 6.710e+03 1.370e+03\n",
      " 1.765e+04 4.330e+03 4.574e+04 3.410e+03 8.670e+03 1.313e+04 1.978e+04\n",
      " 2.390e+03 3.224e+04 2.649e+04 2.543e+04 9.820e+03 2.630e+03 2.064e+04\n",
      " 1.699e+04 6.300e+02 5.390e+03 1.549e+04 3.210e+03 1.530e+03 9.770e+03\n",
      " 1.728e+04 5.090e+03 7.180e+03 9.560e+03 4.833e+04 1.760e+03 2.477e+04\n",
      " 3.870e+03 1.862e+04 1.277e+04 9.640e+03 2.590e+03 2.453e+04 1.621e+04\n",
      " 1.757e+04 7.980e+03 3.290e+03 6.320e+03 5.070e+03 3.470e+03 2.720e+03\n",
      " 1.460e+04 6.890e+03 2.765e+04 8.860e+03 5.000e+03 1.120e+03 9.400e+02\n",
      " 1.404e+04 4.770e+03 3.440e+03 3.020e+03 6.270e+03 2.177e+04 7.400e+02\n",
      " 2.137e+04 1.020e+03 9.680e+03 2.181e+04 1.062e+04 3.860e+03 2.179e+04\n",
      " 2.919e+04 4.570e+03 7.550e+03 1.243e+04 1.970e+04 4.450e+03 1.867e+04\n",
      " 1.937e+04 1.854e+04 3.920e+03 3.170e+03 7.290e+03 1.980e+03 1.248e+04\n",
      " 3.100e+03 7.240e+03 1.871e+04 2.620e+03 6.420e+03 4.700e+02 5.150e+03\n",
      " 1.570e+04 5.460e+03 2.235e+04 2.810e+03 2.820e+03 6.860e+03 1.802e+04\n",
      " 1.670e+03 2.220e+03 1.430e+03 8.700e+02 6.300e+03 1.983e+04 9.430e+03\n",
      " 2.362e+04 9.630e+03 4.180e+03 3.890e+03 4.420e+03 2.193e+04 2.480e+03\n",
      " 3.460e+03 6.560e+03 5.840e+03 2.230e+03 1.964e+04 6.480e+03 4.610e+03\n",
      " 6.330e+03 1.520e+03 3.740e+03 1.990e+03 3.641e+04 7.680e+03 1.375e+04\n",
      " 2.715e+04 1.729e+04 2.699e+04 2.907e+04 3.750e+03 1.317e+04 5.080e+03\n",
      " 1.319e+04 5.350e+03 3.230e+03 3.380e+03 3.430e+03 8.110e+03 6.250e+03\n",
      " 1.202e+04 5.010e+03 1.805e+04 5.380e+03 1.668e+04 1.154e+04 2.210e+03\n",
      " 4.300e+03 5.220e+03 9.990e+03 1.045e+04 6.900e+02 1.830e+03 5.330e+03\n",
      " 1.400e+03 3.490e+03 1.900e+03 1.880e+03],\n",
      " No of unique value counts:-\n",
      "250.0      11120\n",
      "350.0       7536\n",
      "50.0        7536\n",
      "1200.0      7374\n",
      "190.0       7352\n",
      "           ...  \n",
      "3920.0       758\n",
      "4460.0       758\n",
      "13090.0      758\n",
      "5890.0       758\n",
      "12870.0      758\n",
      "Name: CompetitionDistance, Length: 654, dtype: int64\n",
      "4- for CompetitionOpenSinceMonth column No of unique values is :- \n",
      "12,\n",
      " unique values is:-\n",
      "[ 9. 11. 12.  4. 10.  8. nan  3.  6.  5.  1.  2.  7.],\n",
      " No of unique value counts:-\n",
      "9.0     114254\n",
      "4.0      87076\n",
      "11.0     84455\n",
      "3.0      63548\n",
      "7.0      59434\n",
      "12.0     57896\n",
      "10.0     55622\n",
      "6.0      45444\n",
      "5.0      39608\n",
      "2.0      37886\n",
      "8.0      36186\n",
      "1.0      12452\n",
      "Name: CompetitionOpenSinceMonth, dtype: int64\n",
      "5- for CompetitionOpenSinceYear column No of unique values is :- \n",
      "23,\n",
      " unique values is:-\n",
      "[2008. 2007. 2006. 2009. 2015. 2013. 2014. 2000. 2011.   nan 2010. 2005.\n",
      " 1999. 2003. 2012. 2004. 2002. 1961. 1995. 2001. 1990. 1994. 1900. 1998.],\n",
      " No of unique value counts:-\n",
      "2013.0    75426\n",
      "2012.0    74299\n",
      "2014.0    63732\n",
      "2005.0    56564\n",
      "2010.0    51258\n",
      "2009.0    49396\n",
      "2011.0    49396\n",
      "2008.0    48476\n",
      "2007.0    43744\n",
      "2006.0    42802\n",
      "2015.0    35060\n",
      "2002.0    24882\n",
      "2004.0    19804\n",
      "2003.0    16794\n",
      "2001.0    14704\n",
      "2000.0     9236\n",
      "1999.0     7352\n",
      "1990.0     4710\n",
      "1994.0     1884\n",
      "1995.0     1700\n",
      "1961.0      942\n",
      "1998.0      942\n",
      "1900.0      758\n",
      "Name: CompetitionOpenSinceYear, dtype: int64\n",
      "6- for Promo2 column No of unique values is :- \n",
      "2,\n",
      " unique values is:-\n",
      "[0 1],\n",
      " No of unique value counts:-\n",
      "1    509178\n",
      "0    508031\n",
      "Name: Promo2, dtype: int64\n",
      "7- for Promo2SinceWeek column No of unique values is :- \n",
      "24,\n",
      " unique values is:-\n",
      "[nan 13. 14.  1. 45. 40. 26. 22.  5.  6. 10. 31. 37.  9. 39. 27. 18. 35.\n",
      " 23. 48. 36. 50. 44. 49. 28.],\n",
      " No of unique value counts:-\n",
      "14.0    72990\n",
      "40.0    62598\n",
      "31.0    39976\n",
      "10.0    38828\n",
      "5.0     35818\n",
      "37.0    32786\n",
      "1.0     32418\n",
      "13.0    29820\n",
      "45.0    29268\n",
      "22.0    28694\n",
      "18.0    27318\n",
      "35.0    22814\n",
      "9.0     12452\n",
      "27.0     9626\n",
      "36.0     9236\n",
      "48.0     8294\n",
      "39.0     4732\n",
      "23.0     4342\n",
      "44.0     2642\n",
      "6.0       942\n",
      "26.0      942\n",
      "50.0      942\n",
      "28.0      942\n",
      "49.0      758\n",
      "Name: Promo2SinceWeek, dtype: int64\n"
     ]
    },
    {
     "name": "stdout",
     "output_type": "stream",
     "text": [
      "8- for Promo2SinceYear column No of unique values is :- \n",
      "7,\n",
      " unique values is:-\n",
      "[  nan 2010. 2011. 2012. 2009. 2014. 2015. 2013.],\n",
      " No of unique value counts:-\n",
      "2011.0    115056\n",
      "2013.0    110464\n",
      "2014.0     79922\n",
      "2012.0     73174\n",
      "2009.0     65270\n",
      "2010.0     56240\n",
      "2015.0      9052\n",
      "Name: Promo2SinceYear, dtype: int64\n",
      "9- for PromoInterval column No of unique values is :- \n",
      "3,\n",
      " unique values is:-\n",
      "[nan 'Jan,Apr,Jul,Oct' 'Feb,May,Aug,Nov' 'Mar,Jun,Sept,Dec'],\n",
      " No of unique value counts:-\n",
      "Jan,Apr,Jul,Oct     293122\n",
      "Feb,May,Aug,Nov     118596\n",
      "Mar,Jun,Sept,Dec     97460\n",
      "Name: PromoInterval, dtype: int64\n",
      "10- for DayOfWeek column No of unique values is :- \n",
      "7,\n",
      " unique values is:-\n",
      "[5 4 3 2 1 7 6],\n",
      " No of unique value counts:-\n",
      "5    145845\n",
      "4    145845\n",
      "3    145665\n",
      "2    145664\n",
      "1    144730\n",
      "7    144730\n",
      "6    144730\n",
      "Name: DayOfWeek, dtype: int64\n",
      "11- for Date column No of unique values is :- \n",
      "942,\n",
      " unique values is:-\n",
      "['2015-07-31T00:00:00.000000000' '2015-07-30T00:00:00.000000000'\n",
      " '2015-07-29T00:00:00.000000000' '2015-07-28T00:00:00.000000000'\n",
      " '2015-07-27T00:00:00.000000000' '2015-07-26T00:00:00.000000000'\n",
      " '2015-07-25T00:00:00.000000000' '2015-07-24T00:00:00.000000000'\n",
      " '2015-07-23T00:00:00.000000000' '2015-07-22T00:00:00.000000000'\n",
      " '2015-07-21T00:00:00.000000000' '2015-07-20T00:00:00.000000000'\n",
      " '2015-07-19T00:00:00.000000000' '2015-07-18T00:00:00.000000000'\n",
      " '2015-07-17T00:00:00.000000000' '2015-07-16T00:00:00.000000000'\n",
      " '2015-07-15T00:00:00.000000000' '2015-07-14T00:00:00.000000000'\n",
      " '2015-07-13T00:00:00.000000000' '2015-07-12T00:00:00.000000000'\n",
      " '2015-07-11T00:00:00.000000000' '2015-07-10T00:00:00.000000000'\n",
      " '2015-07-09T00:00:00.000000000' '2015-07-08T00:00:00.000000000'\n",
      " '2015-07-07T00:00:00.000000000' '2015-07-06T00:00:00.000000000'\n",
      " '2015-07-05T00:00:00.000000000' '2015-07-04T00:00:00.000000000'\n",
      " '2015-07-03T00:00:00.000000000' '2015-07-02T00:00:00.000000000'\n",
      " '2015-07-01T00:00:00.000000000' '2015-06-30T00:00:00.000000000'\n",
      " '2015-06-29T00:00:00.000000000' '2015-06-28T00:00:00.000000000'\n",
      " '2015-06-27T00:00:00.000000000' '2015-06-26T00:00:00.000000000'\n",
      " '2015-06-25T00:00:00.000000000' '2015-06-24T00:00:00.000000000'\n",
      " '2015-06-23T00:00:00.000000000' '2015-06-22T00:00:00.000000000'\n",
      " '2015-06-21T00:00:00.000000000' '2015-06-20T00:00:00.000000000'\n",
      " '2015-06-19T00:00:00.000000000' '2015-06-18T00:00:00.000000000'\n",
      " '2015-06-17T00:00:00.000000000' '2015-06-16T00:00:00.000000000'\n",
      " '2015-06-15T00:00:00.000000000' '2015-06-14T00:00:00.000000000'\n",
      " '2015-06-13T00:00:00.000000000' '2015-06-12T00:00:00.000000000'\n",
      " '2015-06-11T00:00:00.000000000' '2015-06-10T00:00:00.000000000'\n",
      " '2015-06-09T00:00:00.000000000' '2015-06-08T00:00:00.000000000'\n",
      " '2015-06-07T00:00:00.000000000' '2015-06-06T00:00:00.000000000'\n",
      " '2015-06-05T00:00:00.000000000' '2015-06-04T00:00:00.000000000'\n",
      " '2015-06-03T00:00:00.000000000' '2015-06-02T00:00:00.000000000'\n",
      " '2015-06-01T00:00:00.000000000' '2015-05-31T00:00:00.000000000'\n",
      " '2015-05-30T00:00:00.000000000' '2015-05-29T00:00:00.000000000'\n",
      " '2015-05-28T00:00:00.000000000' '2015-05-27T00:00:00.000000000'\n",
      " '2015-05-26T00:00:00.000000000' '2015-05-25T00:00:00.000000000'\n",
      " '2015-05-24T00:00:00.000000000' '2015-05-23T00:00:00.000000000'\n",
      " '2015-05-22T00:00:00.000000000' '2015-05-21T00:00:00.000000000'\n",
      " '2015-05-20T00:00:00.000000000' '2015-05-19T00:00:00.000000000'\n",
      " '2015-05-18T00:00:00.000000000' '2015-05-17T00:00:00.000000000'\n",
      " '2015-05-16T00:00:00.000000000' '2015-05-15T00:00:00.000000000'\n",
      " '2015-05-14T00:00:00.000000000' '2015-05-13T00:00:00.000000000'\n",
      " '2015-05-12T00:00:00.000000000' '2015-05-11T00:00:00.000000000'\n",
      " '2015-05-10T00:00:00.000000000' '2015-05-09T00:00:00.000000000'\n",
      " '2015-05-08T00:00:00.000000000' '2015-05-07T00:00:00.000000000'\n",
      " '2015-05-06T00:00:00.000000000' '2015-05-05T00:00:00.000000000'\n",
      " '2015-05-04T00:00:00.000000000' '2015-05-03T00:00:00.000000000'\n",
      " '2015-05-02T00:00:00.000000000' '2015-05-01T00:00:00.000000000'\n",
      " '2015-04-30T00:00:00.000000000' '2015-04-29T00:00:00.000000000'\n",
      " '2015-04-28T00:00:00.000000000' '2015-04-27T00:00:00.000000000'\n",
      " '2015-04-26T00:00:00.000000000' '2015-04-25T00:00:00.000000000'\n",
      " '2015-04-24T00:00:00.000000000' '2015-04-23T00:00:00.000000000'\n",
      " '2015-04-22T00:00:00.000000000' '2015-04-21T00:00:00.000000000'\n",
      " '2015-04-20T00:00:00.000000000' '2015-04-19T00:00:00.000000000'\n",
      " '2015-04-18T00:00:00.000000000' '2015-04-17T00:00:00.000000000'\n",
      " '2015-04-16T00:00:00.000000000' '2015-04-15T00:00:00.000000000'\n",
      " '2015-04-14T00:00:00.000000000' '2015-04-13T00:00:00.000000000'\n",
      " '2015-04-12T00:00:00.000000000' '2015-04-11T00:00:00.000000000'\n",
      " '2015-04-10T00:00:00.000000000' '2015-04-09T00:00:00.000000000'\n",
      " '2015-04-08T00:00:00.000000000' '2015-04-07T00:00:00.000000000'\n",
      " '2015-04-06T00:00:00.000000000' '2015-04-05T00:00:00.000000000'\n",
      " '2015-04-04T00:00:00.000000000' '2015-04-03T00:00:00.000000000'\n",
      " '2015-04-02T00:00:00.000000000' '2015-04-01T00:00:00.000000000'\n",
      " '2015-03-31T00:00:00.000000000' '2015-03-30T00:00:00.000000000'\n",
      " '2015-03-29T00:00:00.000000000' '2015-03-28T00:00:00.000000000'\n",
      " '2015-03-27T00:00:00.000000000' '2015-03-26T00:00:00.000000000'\n",
      " '2015-03-25T00:00:00.000000000' '2015-03-24T00:00:00.000000000'\n",
      " '2015-03-23T00:00:00.000000000' '2015-03-22T00:00:00.000000000'\n",
      " '2015-03-21T00:00:00.000000000' '2015-03-20T00:00:00.000000000'\n",
      " '2015-03-19T00:00:00.000000000' '2015-03-18T00:00:00.000000000'\n",
      " '2015-03-17T00:00:00.000000000' '2015-03-16T00:00:00.000000000'\n",
      " '2015-03-15T00:00:00.000000000' '2015-03-14T00:00:00.000000000'\n",
      " '2015-03-13T00:00:00.000000000' '2015-03-12T00:00:00.000000000'\n",
      " '2015-03-11T00:00:00.000000000' '2015-03-10T00:00:00.000000000'\n",
      " '2015-03-09T00:00:00.000000000' '2015-03-08T00:00:00.000000000'\n",
      " '2015-03-07T00:00:00.000000000' '2015-03-06T00:00:00.000000000'\n",
      " '2015-03-05T00:00:00.000000000' '2015-03-04T00:00:00.000000000'\n",
      " '2015-03-03T00:00:00.000000000' '2015-03-02T00:00:00.000000000'\n",
      " '2015-03-01T00:00:00.000000000' '2015-02-28T00:00:00.000000000'\n",
      " '2015-02-27T00:00:00.000000000' '2015-02-26T00:00:00.000000000'\n",
      " '2015-02-25T00:00:00.000000000' '2015-02-24T00:00:00.000000000'\n",
      " '2015-02-23T00:00:00.000000000' '2015-02-22T00:00:00.000000000'\n",
      " '2015-02-21T00:00:00.000000000' '2015-02-20T00:00:00.000000000'\n",
      " '2015-02-19T00:00:00.000000000' '2015-02-18T00:00:00.000000000'\n",
      " '2015-02-17T00:00:00.000000000' '2015-02-16T00:00:00.000000000'\n",
      " '2015-02-15T00:00:00.000000000' '2015-02-14T00:00:00.000000000'\n",
      " '2015-02-13T00:00:00.000000000' '2015-02-12T00:00:00.000000000'\n",
      " '2015-02-11T00:00:00.000000000' '2015-02-10T00:00:00.000000000'\n",
      " '2015-02-09T00:00:00.000000000' '2015-02-08T00:00:00.000000000'\n",
      " '2015-02-07T00:00:00.000000000' '2015-02-06T00:00:00.000000000'\n",
      " '2015-02-05T00:00:00.000000000' '2015-02-04T00:00:00.000000000'\n",
      " '2015-02-03T00:00:00.000000000' '2015-02-02T00:00:00.000000000'\n",
      " '2015-02-01T00:00:00.000000000' '2015-01-31T00:00:00.000000000'\n",
      " '2015-01-30T00:00:00.000000000' '2015-01-29T00:00:00.000000000'\n",
      " '2015-01-28T00:00:00.000000000' '2015-01-27T00:00:00.000000000'\n",
      " '2015-01-26T00:00:00.000000000' '2015-01-25T00:00:00.000000000'\n",
      " '2015-01-24T00:00:00.000000000' '2015-01-23T00:00:00.000000000'\n",
      " '2015-01-22T00:00:00.000000000' '2015-01-21T00:00:00.000000000'\n",
      " '2015-01-20T00:00:00.000000000' '2015-01-19T00:00:00.000000000'\n",
      " '2015-01-18T00:00:00.000000000' '2015-01-17T00:00:00.000000000'\n",
      " '2015-01-16T00:00:00.000000000' '2015-01-15T00:00:00.000000000'\n",
      " '2015-01-14T00:00:00.000000000' '2015-01-13T00:00:00.000000000'\n",
      " '2015-01-12T00:00:00.000000000' '2015-01-11T00:00:00.000000000'\n",
      " '2015-01-10T00:00:00.000000000' '2015-01-09T00:00:00.000000000'\n",
      " '2015-01-08T00:00:00.000000000' '2015-01-07T00:00:00.000000000'\n",
      " '2015-01-06T00:00:00.000000000' '2015-01-05T00:00:00.000000000'\n",
      " '2015-01-04T00:00:00.000000000' '2015-01-03T00:00:00.000000000'\n",
      " '2015-01-02T00:00:00.000000000' '2015-01-01T00:00:00.000000000'\n",
      " '2014-12-31T00:00:00.000000000' '2014-12-30T00:00:00.000000000'\n",
      " '2014-12-29T00:00:00.000000000' '2014-12-28T00:00:00.000000000'\n",
      " '2014-12-27T00:00:00.000000000' '2014-12-26T00:00:00.000000000'\n",
      " '2014-12-25T00:00:00.000000000' '2014-12-24T00:00:00.000000000'\n",
      " '2014-12-23T00:00:00.000000000' '2014-12-22T00:00:00.000000000'\n",
      " '2014-12-21T00:00:00.000000000' '2014-12-20T00:00:00.000000000'\n",
      " '2014-12-19T00:00:00.000000000' '2014-12-18T00:00:00.000000000'\n",
      " '2014-12-17T00:00:00.000000000' '2014-12-16T00:00:00.000000000'\n",
      " '2014-12-15T00:00:00.000000000' '2014-12-14T00:00:00.000000000'\n",
      " '2014-12-13T00:00:00.000000000' '2014-12-12T00:00:00.000000000'\n",
      " '2014-12-11T00:00:00.000000000' '2014-12-10T00:00:00.000000000'\n",
      " '2014-12-09T00:00:00.000000000' '2014-12-08T00:00:00.000000000'\n",
      " '2014-12-07T00:00:00.000000000' '2014-12-06T00:00:00.000000000'\n",
      " '2014-12-05T00:00:00.000000000' '2014-12-04T00:00:00.000000000'\n",
      " '2014-12-03T00:00:00.000000000' '2014-12-02T00:00:00.000000000'\n",
      " '2014-12-01T00:00:00.000000000' '2014-11-30T00:00:00.000000000'\n",
      " '2014-11-29T00:00:00.000000000' '2014-11-28T00:00:00.000000000'\n",
      " '2014-11-27T00:00:00.000000000' '2014-11-26T00:00:00.000000000'\n",
      " '2014-11-25T00:00:00.000000000' '2014-11-24T00:00:00.000000000'\n",
      " '2014-11-23T00:00:00.000000000' '2014-11-22T00:00:00.000000000'\n",
      " '2014-11-21T00:00:00.000000000' '2014-11-20T00:00:00.000000000'\n",
      " '2014-11-19T00:00:00.000000000' '2014-11-18T00:00:00.000000000'\n",
      " '2014-11-17T00:00:00.000000000' '2014-11-16T00:00:00.000000000'\n",
      " '2014-11-15T00:00:00.000000000' '2014-11-14T00:00:00.000000000'\n",
      " '2014-11-13T00:00:00.000000000' '2014-11-12T00:00:00.000000000'\n",
      " '2014-11-11T00:00:00.000000000' '2014-11-10T00:00:00.000000000'\n",
      " '2014-11-09T00:00:00.000000000' '2014-11-08T00:00:00.000000000'\n",
      " '2014-11-07T00:00:00.000000000' '2014-11-06T00:00:00.000000000'\n",
      " '2014-11-05T00:00:00.000000000' '2014-11-04T00:00:00.000000000'\n",
      " '2014-11-03T00:00:00.000000000' '2014-11-02T00:00:00.000000000'\n",
      " '2014-11-01T00:00:00.000000000' '2014-10-31T00:00:00.000000000'\n",
      " '2014-10-30T00:00:00.000000000' '2014-10-29T00:00:00.000000000'\n",
      " '2014-10-28T00:00:00.000000000' '2014-10-27T00:00:00.000000000'\n",
      " '2014-10-26T00:00:00.000000000' '2014-10-25T00:00:00.000000000'\n",
      " '2014-10-24T00:00:00.000000000' '2014-10-23T00:00:00.000000000'\n",
      " '2014-10-22T00:00:00.000000000' '2014-10-21T00:00:00.000000000'\n",
      " '2014-10-20T00:00:00.000000000' '2014-10-19T00:00:00.000000000'\n",
      " '2014-10-18T00:00:00.000000000' '2014-10-17T00:00:00.000000000'\n",
      " '2014-10-16T00:00:00.000000000' '2014-10-15T00:00:00.000000000'\n",
      " '2014-10-14T00:00:00.000000000' '2014-10-13T00:00:00.000000000'\n",
      " '2014-10-12T00:00:00.000000000' '2014-10-11T00:00:00.000000000'\n",
      " '2014-10-10T00:00:00.000000000' '2014-10-09T00:00:00.000000000'\n",
      " '2014-10-08T00:00:00.000000000' '2014-10-07T00:00:00.000000000'\n",
      " '2014-10-06T00:00:00.000000000' '2014-10-05T00:00:00.000000000'\n",
      " '2014-10-04T00:00:00.000000000' '2014-10-03T00:00:00.000000000'\n",
      " '2014-10-02T00:00:00.000000000' '2014-10-01T00:00:00.000000000'\n",
      " '2014-09-30T00:00:00.000000000' '2014-09-29T00:00:00.000000000'\n",
      " '2014-09-28T00:00:00.000000000' '2014-09-27T00:00:00.000000000'\n",
      " '2014-09-26T00:00:00.000000000' '2014-09-25T00:00:00.000000000'\n",
      " '2014-09-24T00:00:00.000000000' '2014-09-23T00:00:00.000000000'\n",
      " '2014-09-22T00:00:00.000000000' '2014-09-21T00:00:00.000000000'\n",
      " '2014-09-20T00:00:00.000000000' '2014-09-19T00:00:00.000000000'\n",
      " '2014-09-18T00:00:00.000000000' '2014-09-17T00:00:00.000000000'\n",
      " '2014-09-16T00:00:00.000000000' '2014-09-15T00:00:00.000000000'\n",
      " '2014-09-14T00:00:00.000000000' '2014-09-13T00:00:00.000000000'\n",
      " '2014-09-12T00:00:00.000000000' '2014-09-11T00:00:00.000000000'\n",
      " '2014-09-10T00:00:00.000000000' '2014-09-09T00:00:00.000000000'\n",
      " '2014-09-08T00:00:00.000000000' '2014-09-07T00:00:00.000000000'\n",
      " '2014-09-06T00:00:00.000000000' '2014-09-05T00:00:00.000000000'\n",
      " '2014-09-04T00:00:00.000000000' '2014-09-03T00:00:00.000000000'\n",
      " '2014-09-02T00:00:00.000000000' '2014-09-01T00:00:00.000000000'\n",
      " '2014-08-31T00:00:00.000000000' '2014-08-30T00:00:00.000000000'\n",
      " '2014-08-29T00:00:00.000000000' '2014-08-28T00:00:00.000000000'\n",
      " '2014-08-27T00:00:00.000000000' '2014-08-26T00:00:00.000000000'\n",
      " '2014-08-25T00:00:00.000000000' '2014-08-24T00:00:00.000000000'\n",
      " '2014-08-23T00:00:00.000000000' '2014-08-22T00:00:00.000000000'\n",
      " '2014-08-21T00:00:00.000000000' '2014-08-20T00:00:00.000000000'\n",
      " '2014-08-19T00:00:00.000000000' '2014-08-18T00:00:00.000000000'\n",
      " '2014-08-17T00:00:00.000000000' '2014-08-16T00:00:00.000000000'\n",
      " '2014-08-15T00:00:00.000000000' '2014-08-14T00:00:00.000000000'\n",
      " '2014-08-13T00:00:00.000000000' '2014-08-12T00:00:00.000000000'\n",
      " '2014-08-11T00:00:00.000000000' '2014-08-10T00:00:00.000000000'\n",
      " '2014-08-09T00:00:00.000000000' '2014-08-08T00:00:00.000000000'\n",
      " '2014-08-07T00:00:00.000000000' '2014-08-06T00:00:00.000000000'\n",
      " '2014-08-05T00:00:00.000000000' '2014-08-04T00:00:00.000000000'\n",
      " '2014-08-03T00:00:00.000000000' '2014-08-02T00:00:00.000000000'\n",
      " '2014-08-01T00:00:00.000000000' '2014-07-31T00:00:00.000000000'\n",
      " '2014-07-30T00:00:00.000000000' '2014-07-29T00:00:00.000000000'\n",
      " '2014-07-28T00:00:00.000000000' '2014-07-27T00:00:00.000000000'\n",
      " '2014-07-26T00:00:00.000000000' '2014-07-25T00:00:00.000000000'\n",
      " '2014-07-24T00:00:00.000000000' '2014-07-23T00:00:00.000000000'\n",
      " '2014-07-22T00:00:00.000000000' '2014-07-21T00:00:00.000000000'\n",
      " '2014-07-20T00:00:00.000000000' '2014-07-19T00:00:00.000000000'\n",
      " '2014-07-18T00:00:00.000000000' '2014-07-17T00:00:00.000000000'\n",
      " '2014-07-16T00:00:00.000000000' '2014-07-15T00:00:00.000000000'\n",
      " '2014-07-14T00:00:00.000000000' '2014-07-13T00:00:00.000000000'\n",
      " '2014-07-12T00:00:00.000000000' '2014-07-11T00:00:00.000000000'\n",
      " '2014-07-10T00:00:00.000000000' '2014-07-09T00:00:00.000000000'\n",
      " '2014-07-08T00:00:00.000000000' '2014-07-07T00:00:00.000000000'\n",
      " '2014-07-06T00:00:00.000000000' '2014-07-05T00:00:00.000000000'\n",
      " '2014-07-04T00:00:00.000000000' '2014-07-03T00:00:00.000000000'\n",
      " '2014-07-02T00:00:00.000000000' '2014-07-01T00:00:00.000000000'\n",
      " '2014-06-30T00:00:00.000000000' '2014-06-29T00:00:00.000000000'\n",
      " '2014-06-28T00:00:00.000000000' '2014-06-27T00:00:00.000000000'\n",
      " '2014-06-26T00:00:00.000000000' '2014-06-25T00:00:00.000000000'\n",
      " '2014-06-24T00:00:00.000000000' '2014-06-23T00:00:00.000000000'\n",
      " '2014-06-22T00:00:00.000000000' '2014-06-21T00:00:00.000000000'\n",
      " '2014-06-20T00:00:00.000000000' '2014-06-19T00:00:00.000000000'\n",
      " '2014-06-18T00:00:00.000000000' '2014-06-17T00:00:00.000000000'\n",
      " '2014-06-16T00:00:00.000000000' '2014-06-15T00:00:00.000000000'\n",
      " '2014-06-14T00:00:00.000000000' '2014-06-13T00:00:00.000000000'\n",
      " '2014-06-12T00:00:00.000000000' '2014-06-11T00:00:00.000000000'\n",
      " '2014-06-10T00:00:00.000000000' '2014-06-09T00:00:00.000000000'\n",
      " '2014-06-08T00:00:00.000000000' '2014-06-07T00:00:00.000000000'\n",
      " '2014-06-06T00:00:00.000000000' '2014-06-05T00:00:00.000000000'\n",
      " '2014-06-04T00:00:00.000000000' '2014-06-03T00:00:00.000000000'\n",
      " '2014-06-02T00:00:00.000000000' '2014-06-01T00:00:00.000000000'\n",
      " '2014-05-31T00:00:00.000000000' '2014-05-30T00:00:00.000000000'\n",
      " '2014-05-29T00:00:00.000000000' '2014-05-28T00:00:00.000000000'\n",
      " '2014-05-27T00:00:00.000000000' '2014-05-26T00:00:00.000000000'\n",
      " '2014-05-25T00:00:00.000000000' '2014-05-24T00:00:00.000000000'\n",
      " '2014-05-23T00:00:00.000000000' '2014-05-22T00:00:00.000000000'\n",
      " '2014-05-21T00:00:00.000000000' '2014-05-20T00:00:00.000000000'\n",
      " '2014-05-19T00:00:00.000000000' '2014-05-18T00:00:00.000000000'\n",
      " '2014-05-17T00:00:00.000000000' '2014-05-16T00:00:00.000000000'\n",
      " '2014-05-15T00:00:00.000000000' '2014-05-14T00:00:00.000000000'\n",
      " '2014-05-13T00:00:00.000000000' '2014-05-12T00:00:00.000000000'\n",
      " '2014-05-11T00:00:00.000000000' '2014-05-10T00:00:00.000000000'\n",
      " '2014-05-09T00:00:00.000000000' '2014-05-08T00:00:00.000000000'\n",
      " '2014-05-07T00:00:00.000000000' '2014-05-06T00:00:00.000000000'\n",
      " '2014-05-05T00:00:00.000000000' '2014-05-04T00:00:00.000000000'\n",
      " '2014-05-03T00:00:00.000000000' '2014-05-02T00:00:00.000000000'\n",
      " '2014-05-01T00:00:00.000000000' '2014-04-30T00:00:00.000000000'\n",
      " '2014-04-29T00:00:00.000000000' '2014-04-28T00:00:00.000000000'\n",
      " '2014-04-27T00:00:00.000000000' '2014-04-26T00:00:00.000000000'\n",
      " '2014-04-25T00:00:00.000000000' '2014-04-24T00:00:00.000000000'\n",
      " '2014-04-23T00:00:00.000000000' '2014-04-22T00:00:00.000000000'\n",
      " '2014-04-21T00:00:00.000000000' '2014-04-20T00:00:00.000000000'\n",
      " '2014-04-19T00:00:00.000000000' '2014-04-18T00:00:00.000000000'\n",
      " '2014-04-17T00:00:00.000000000' '2014-04-16T00:00:00.000000000'\n",
      " '2014-04-15T00:00:00.000000000' '2014-04-14T00:00:00.000000000'\n",
      " '2014-04-13T00:00:00.000000000' '2014-04-12T00:00:00.000000000'\n",
      " '2014-04-11T00:00:00.000000000' '2014-04-10T00:00:00.000000000'\n",
      " '2014-04-09T00:00:00.000000000' '2014-04-08T00:00:00.000000000'\n",
      " '2014-04-07T00:00:00.000000000' '2014-04-06T00:00:00.000000000'\n",
      " '2014-04-05T00:00:00.000000000' '2014-04-04T00:00:00.000000000'\n",
      " '2014-04-03T00:00:00.000000000' '2014-04-02T00:00:00.000000000'\n",
      " '2014-04-01T00:00:00.000000000' '2014-03-31T00:00:00.000000000'\n",
      " '2014-03-30T00:00:00.000000000' '2014-03-29T00:00:00.000000000'\n",
      " '2014-03-28T00:00:00.000000000' '2014-03-27T00:00:00.000000000'\n",
      " '2014-03-26T00:00:00.000000000' '2014-03-25T00:00:00.000000000'\n",
      " '2014-03-24T00:00:00.000000000' '2014-03-23T00:00:00.000000000'\n",
      " '2014-03-22T00:00:00.000000000' '2014-03-21T00:00:00.000000000'\n",
      " '2014-03-20T00:00:00.000000000' '2014-03-19T00:00:00.000000000'\n",
      " '2014-03-18T00:00:00.000000000' '2014-03-17T00:00:00.000000000'\n",
      " '2014-03-16T00:00:00.000000000' '2014-03-15T00:00:00.000000000'\n",
      " '2014-03-14T00:00:00.000000000' '2014-03-13T00:00:00.000000000'\n",
      " '2014-03-12T00:00:00.000000000' '2014-03-11T00:00:00.000000000'\n",
      " '2014-03-10T00:00:00.000000000' '2014-03-09T00:00:00.000000000'\n",
      " '2014-03-08T00:00:00.000000000' '2014-03-07T00:00:00.000000000'\n",
      " '2014-03-06T00:00:00.000000000' '2014-03-05T00:00:00.000000000'\n",
      " '2014-03-04T00:00:00.000000000' '2014-03-03T00:00:00.000000000'\n",
      " '2014-03-02T00:00:00.000000000' '2014-03-01T00:00:00.000000000'\n",
      " '2014-02-28T00:00:00.000000000' '2014-02-27T00:00:00.000000000'\n",
      " '2014-02-26T00:00:00.000000000' '2014-02-25T00:00:00.000000000'\n",
      " '2014-02-24T00:00:00.000000000' '2014-02-23T00:00:00.000000000'\n",
      " '2014-02-22T00:00:00.000000000' '2014-02-21T00:00:00.000000000'\n",
      " '2014-02-20T00:00:00.000000000' '2014-02-19T00:00:00.000000000'\n",
      " '2014-02-18T00:00:00.000000000' '2014-02-17T00:00:00.000000000'\n",
      " '2014-02-16T00:00:00.000000000' '2014-02-15T00:00:00.000000000'\n",
      " '2014-02-14T00:00:00.000000000' '2014-02-13T00:00:00.000000000'\n",
      " '2014-02-12T00:00:00.000000000' '2014-02-11T00:00:00.000000000'\n",
      " '2014-02-10T00:00:00.000000000' '2014-02-09T00:00:00.000000000'\n",
      " '2014-02-08T00:00:00.000000000' '2014-02-07T00:00:00.000000000'\n",
      " '2014-02-06T00:00:00.000000000' '2014-02-05T00:00:00.000000000'\n",
      " '2014-02-04T00:00:00.000000000' '2014-02-03T00:00:00.000000000'\n",
      " '2014-02-02T00:00:00.000000000' '2014-02-01T00:00:00.000000000'\n",
      " '2014-01-31T00:00:00.000000000' '2014-01-30T00:00:00.000000000'\n",
      " '2014-01-29T00:00:00.000000000' '2014-01-28T00:00:00.000000000'\n",
      " '2014-01-27T00:00:00.000000000' '2014-01-26T00:00:00.000000000'\n",
      " '2014-01-25T00:00:00.000000000' '2014-01-24T00:00:00.000000000'\n",
      " '2014-01-23T00:00:00.000000000' '2014-01-22T00:00:00.000000000'\n",
      " '2014-01-21T00:00:00.000000000' '2014-01-20T00:00:00.000000000'\n",
      " '2014-01-19T00:00:00.000000000' '2014-01-18T00:00:00.000000000'\n",
      " '2014-01-17T00:00:00.000000000' '2014-01-16T00:00:00.000000000'\n",
      " '2014-01-15T00:00:00.000000000' '2014-01-14T00:00:00.000000000'\n",
      " '2014-01-13T00:00:00.000000000' '2014-01-12T00:00:00.000000000'\n",
      " '2014-01-11T00:00:00.000000000' '2014-01-10T00:00:00.000000000'\n",
      " '2014-01-09T00:00:00.000000000' '2014-01-08T00:00:00.000000000'\n",
      " '2014-01-07T00:00:00.000000000' '2014-01-06T00:00:00.000000000'\n",
      " '2014-01-05T00:00:00.000000000' '2014-01-04T00:00:00.000000000'\n",
      " '2014-01-03T00:00:00.000000000' '2014-01-02T00:00:00.000000000'\n",
      " '2014-01-01T00:00:00.000000000' '2013-12-31T00:00:00.000000000'\n",
      " '2013-12-30T00:00:00.000000000' '2013-12-29T00:00:00.000000000'\n",
      " '2013-12-28T00:00:00.000000000' '2013-12-27T00:00:00.000000000'\n",
      " '2013-12-26T00:00:00.000000000' '2013-12-25T00:00:00.000000000'\n",
      " '2013-12-24T00:00:00.000000000' '2013-12-23T00:00:00.000000000'\n",
      " '2013-12-22T00:00:00.000000000' '2013-12-21T00:00:00.000000000'\n",
      " '2013-12-20T00:00:00.000000000' '2013-12-19T00:00:00.000000000'\n",
      " '2013-12-18T00:00:00.000000000' '2013-12-17T00:00:00.000000000'\n",
      " '2013-12-16T00:00:00.000000000' '2013-12-15T00:00:00.000000000'\n",
      " '2013-12-14T00:00:00.000000000' '2013-12-13T00:00:00.000000000'\n",
      " '2013-12-12T00:00:00.000000000' '2013-12-11T00:00:00.000000000'\n",
      " '2013-12-10T00:00:00.000000000' '2013-12-09T00:00:00.000000000'\n",
      " '2013-12-08T00:00:00.000000000' '2013-12-07T00:00:00.000000000'\n",
      " '2013-12-06T00:00:00.000000000' '2013-12-05T00:00:00.000000000'\n",
      " '2013-12-04T00:00:00.000000000' '2013-12-03T00:00:00.000000000'\n",
      " '2013-12-02T00:00:00.000000000' '2013-12-01T00:00:00.000000000'\n",
      " '2013-11-30T00:00:00.000000000' '2013-11-29T00:00:00.000000000'\n",
      " '2013-11-28T00:00:00.000000000' '2013-11-27T00:00:00.000000000'\n",
      " '2013-11-26T00:00:00.000000000' '2013-11-25T00:00:00.000000000'\n",
      " '2013-11-24T00:00:00.000000000' '2013-11-23T00:00:00.000000000'\n",
      " '2013-11-22T00:00:00.000000000' '2013-11-21T00:00:00.000000000'\n",
      " '2013-11-20T00:00:00.000000000' '2013-11-19T00:00:00.000000000'\n",
      " '2013-11-18T00:00:00.000000000' '2013-11-17T00:00:00.000000000'\n",
      " '2013-11-16T00:00:00.000000000' '2013-11-15T00:00:00.000000000'\n",
      " '2013-11-14T00:00:00.000000000' '2013-11-13T00:00:00.000000000'\n",
      " '2013-11-12T00:00:00.000000000' '2013-11-11T00:00:00.000000000'\n",
      " '2013-11-10T00:00:00.000000000' '2013-11-09T00:00:00.000000000'\n",
      " '2013-11-08T00:00:00.000000000' '2013-11-07T00:00:00.000000000'\n",
      " '2013-11-06T00:00:00.000000000' '2013-11-05T00:00:00.000000000'\n",
      " '2013-11-04T00:00:00.000000000' '2013-11-03T00:00:00.000000000'\n",
      " '2013-11-02T00:00:00.000000000' '2013-11-01T00:00:00.000000000'\n",
      " '2013-10-31T00:00:00.000000000' '2013-10-30T00:00:00.000000000'\n",
      " '2013-10-29T00:00:00.000000000' '2013-10-28T00:00:00.000000000'\n",
      " '2013-10-27T00:00:00.000000000' '2013-10-26T00:00:00.000000000'\n",
      " '2013-10-25T00:00:00.000000000' '2013-10-24T00:00:00.000000000'\n",
      " '2013-10-23T00:00:00.000000000' '2013-10-22T00:00:00.000000000'\n",
      " '2013-10-21T00:00:00.000000000' '2013-10-20T00:00:00.000000000'\n",
      " '2013-10-19T00:00:00.000000000' '2013-10-18T00:00:00.000000000'\n",
      " '2013-10-17T00:00:00.000000000' '2013-10-16T00:00:00.000000000'\n",
      " '2013-10-15T00:00:00.000000000' '2013-10-14T00:00:00.000000000'\n",
      " '2013-10-13T00:00:00.000000000' '2013-10-12T00:00:00.000000000'\n",
      " '2013-10-11T00:00:00.000000000' '2013-10-10T00:00:00.000000000'\n",
      " '2013-10-09T00:00:00.000000000' '2013-10-08T00:00:00.000000000'\n",
      " '2013-10-07T00:00:00.000000000' '2013-10-06T00:00:00.000000000'\n",
      " '2013-10-05T00:00:00.000000000' '2013-10-04T00:00:00.000000000'\n",
      " '2013-10-03T00:00:00.000000000' '2013-10-02T00:00:00.000000000'\n",
      " '2013-10-01T00:00:00.000000000' '2013-09-30T00:00:00.000000000'\n",
      " '2013-09-29T00:00:00.000000000' '2013-09-28T00:00:00.000000000'\n",
      " '2013-09-27T00:00:00.000000000' '2013-09-26T00:00:00.000000000'\n",
      " '2013-09-25T00:00:00.000000000' '2013-09-24T00:00:00.000000000'\n",
      " '2013-09-23T00:00:00.000000000' '2013-09-22T00:00:00.000000000'\n",
      " '2013-09-21T00:00:00.000000000' '2013-09-20T00:00:00.000000000'\n",
      " '2013-09-19T00:00:00.000000000' '2013-09-18T00:00:00.000000000'\n",
      " '2013-09-17T00:00:00.000000000' '2013-09-16T00:00:00.000000000'\n",
      " '2013-09-15T00:00:00.000000000' '2013-09-14T00:00:00.000000000'\n",
      " '2013-09-13T00:00:00.000000000' '2013-09-12T00:00:00.000000000'\n",
      " '2013-09-11T00:00:00.000000000' '2013-09-10T00:00:00.000000000'\n",
      " '2013-09-09T00:00:00.000000000' '2013-09-08T00:00:00.000000000'\n",
      " '2013-09-07T00:00:00.000000000' '2013-09-06T00:00:00.000000000'\n",
      " '2013-09-05T00:00:00.000000000' '2013-09-04T00:00:00.000000000'\n",
      " '2013-09-03T00:00:00.000000000' '2013-09-02T00:00:00.000000000'\n",
      " '2013-09-01T00:00:00.000000000' '2013-08-31T00:00:00.000000000'\n",
      " '2013-08-30T00:00:00.000000000' '2013-08-29T00:00:00.000000000'\n",
      " '2013-08-28T00:00:00.000000000' '2013-08-27T00:00:00.000000000'\n",
      " '2013-08-26T00:00:00.000000000' '2013-08-25T00:00:00.000000000'\n",
      " '2013-08-24T00:00:00.000000000' '2013-08-23T00:00:00.000000000'\n",
      " '2013-08-22T00:00:00.000000000' '2013-08-21T00:00:00.000000000'\n",
      " '2013-08-20T00:00:00.000000000' '2013-08-19T00:00:00.000000000'\n",
      " '2013-08-18T00:00:00.000000000' '2013-08-17T00:00:00.000000000'\n",
      " '2013-08-16T00:00:00.000000000' '2013-08-15T00:00:00.000000000'\n",
      " '2013-08-14T00:00:00.000000000' '2013-08-13T00:00:00.000000000'\n",
      " '2013-08-12T00:00:00.000000000' '2013-08-11T00:00:00.000000000'\n",
      " '2013-08-10T00:00:00.000000000' '2013-08-09T00:00:00.000000000'\n",
      " '2013-08-08T00:00:00.000000000' '2013-08-07T00:00:00.000000000'\n",
      " '2013-08-06T00:00:00.000000000' '2013-08-05T00:00:00.000000000'\n",
      " '2013-08-04T00:00:00.000000000' '2013-08-03T00:00:00.000000000'\n",
      " '2013-08-02T00:00:00.000000000' '2013-08-01T00:00:00.000000000'\n",
      " '2013-07-31T00:00:00.000000000' '2013-07-30T00:00:00.000000000'\n",
      " '2013-07-29T00:00:00.000000000' '2013-07-28T00:00:00.000000000'\n",
      " '2013-07-27T00:00:00.000000000' '2013-07-26T00:00:00.000000000'\n",
      " '2013-07-25T00:00:00.000000000' '2013-07-24T00:00:00.000000000'\n",
      " '2013-07-23T00:00:00.000000000' '2013-07-22T00:00:00.000000000'\n",
      " '2013-07-21T00:00:00.000000000' '2013-07-20T00:00:00.000000000'\n",
      " '2013-07-19T00:00:00.000000000' '2013-07-18T00:00:00.000000000'\n",
      " '2013-07-17T00:00:00.000000000' '2013-07-16T00:00:00.000000000'\n",
      " '2013-07-15T00:00:00.000000000' '2013-07-14T00:00:00.000000000'\n",
      " '2013-07-13T00:00:00.000000000' '2013-07-12T00:00:00.000000000'\n",
      " '2013-07-11T00:00:00.000000000' '2013-07-10T00:00:00.000000000'\n",
      " '2013-07-09T00:00:00.000000000' '2013-07-08T00:00:00.000000000'\n",
      " '2013-07-07T00:00:00.000000000' '2013-07-06T00:00:00.000000000'\n",
      " '2013-07-05T00:00:00.000000000' '2013-07-04T00:00:00.000000000'\n",
      " '2013-07-03T00:00:00.000000000' '2013-07-02T00:00:00.000000000'\n",
      " '2013-07-01T00:00:00.000000000' '2013-06-30T00:00:00.000000000'\n",
      " '2013-06-29T00:00:00.000000000' '2013-06-28T00:00:00.000000000'\n",
      " '2013-06-27T00:00:00.000000000' '2013-06-26T00:00:00.000000000'\n",
      " '2013-06-25T00:00:00.000000000' '2013-06-24T00:00:00.000000000'\n",
      " '2013-06-23T00:00:00.000000000' '2013-06-22T00:00:00.000000000'\n",
      " '2013-06-21T00:00:00.000000000' '2013-06-20T00:00:00.000000000'\n",
      " '2013-06-19T00:00:00.000000000' '2013-06-18T00:00:00.000000000'\n",
      " '2013-06-17T00:00:00.000000000' '2013-06-16T00:00:00.000000000'\n",
      " '2013-06-15T00:00:00.000000000' '2013-06-14T00:00:00.000000000'\n",
      " '2013-06-13T00:00:00.000000000' '2013-06-12T00:00:00.000000000'\n",
      " '2013-06-11T00:00:00.000000000' '2013-06-10T00:00:00.000000000'\n",
      " '2013-06-09T00:00:00.000000000' '2013-06-08T00:00:00.000000000'\n",
      " '2013-06-07T00:00:00.000000000' '2013-06-06T00:00:00.000000000'\n",
      " '2013-06-05T00:00:00.000000000' '2013-06-04T00:00:00.000000000'\n",
      " '2013-06-03T00:00:00.000000000' '2013-06-02T00:00:00.000000000'\n",
      " '2013-06-01T00:00:00.000000000' '2013-05-31T00:00:00.000000000'\n",
      " '2013-05-30T00:00:00.000000000' '2013-05-29T00:00:00.000000000'\n",
      " '2013-05-28T00:00:00.000000000' '2013-05-27T00:00:00.000000000'\n",
      " '2013-05-26T00:00:00.000000000' '2013-05-25T00:00:00.000000000'\n",
      " '2013-05-24T00:00:00.000000000' '2013-05-23T00:00:00.000000000'\n",
      " '2013-05-22T00:00:00.000000000' '2013-05-21T00:00:00.000000000'\n",
      " '2013-05-20T00:00:00.000000000' '2013-05-19T00:00:00.000000000'\n",
      " '2013-05-18T00:00:00.000000000' '2013-05-17T00:00:00.000000000'\n",
      " '2013-05-16T00:00:00.000000000' '2013-05-15T00:00:00.000000000'\n",
      " '2013-05-14T00:00:00.000000000' '2013-05-13T00:00:00.000000000'\n",
      " '2013-05-12T00:00:00.000000000' '2013-05-11T00:00:00.000000000'\n",
      " '2013-05-10T00:00:00.000000000' '2013-05-09T00:00:00.000000000'\n",
      " '2013-05-08T00:00:00.000000000' '2013-05-07T00:00:00.000000000'\n",
      " '2013-05-06T00:00:00.000000000' '2013-05-05T00:00:00.000000000'\n",
      " '2013-05-04T00:00:00.000000000' '2013-05-03T00:00:00.000000000'\n",
      " '2013-05-02T00:00:00.000000000' '2013-05-01T00:00:00.000000000'\n",
      " '2013-04-30T00:00:00.000000000' '2013-04-29T00:00:00.000000000'\n",
      " '2013-04-28T00:00:00.000000000' '2013-04-27T00:00:00.000000000'\n",
      " '2013-04-26T00:00:00.000000000' '2013-04-25T00:00:00.000000000'\n",
      " '2013-04-24T00:00:00.000000000' '2013-04-23T00:00:00.000000000'\n",
      " '2013-04-22T00:00:00.000000000' '2013-04-21T00:00:00.000000000'\n",
      " '2013-04-20T00:00:00.000000000' '2013-04-19T00:00:00.000000000'\n",
      " '2013-04-18T00:00:00.000000000' '2013-04-17T00:00:00.000000000'\n",
      " '2013-04-16T00:00:00.000000000' '2013-04-15T00:00:00.000000000'\n",
      " '2013-04-14T00:00:00.000000000' '2013-04-13T00:00:00.000000000'\n",
      " '2013-04-12T00:00:00.000000000' '2013-04-11T00:00:00.000000000'\n",
      " '2013-04-10T00:00:00.000000000' '2013-04-09T00:00:00.000000000'\n",
      " '2013-04-08T00:00:00.000000000' '2013-04-07T00:00:00.000000000'\n",
      " '2013-04-06T00:00:00.000000000' '2013-04-05T00:00:00.000000000'\n",
      " '2013-04-04T00:00:00.000000000' '2013-04-03T00:00:00.000000000'\n",
      " '2013-04-02T00:00:00.000000000' '2013-04-01T00:00:00.000000000'\n",
      " '2013-03-31T00:00:00.000000000' '2013-03-30T00:00:00.000000000'\n",
      " '2013-03-29T00:00:00.000000000' '2013-03-28T00:00:00.000000000'\n",
      " '2013-03-27T00:00:00.000000000' '2013-03-26T00:00:00.000000000'\n",
      " '2013-03-25T00:00:00.000000000' '2013-03-24T00:00:00.000000000'\n",
      " '2013-03-23T00:00:00.000000000' '2013-03-22T00:00:00.000000000'\n",
      " '2013-03-21T00:00:00.000000000' '2013-03-20T00:00:00.000000000'\n",
      " '2013-03-19T00:00:00.000000000' '2013-03-18T00:00:00.000000000'\n",
      " '2013-03-17T00:00:00.000000000' '2013-03-16T00:00:00.000000000'\n",
      " '2013-03-15T00:00:00.000000000' '2013-03-14T00:00:00.000000000'\n",
      " '2013-03-13T00:00:00.000000000' '2013-03-12T00:00:00.000000000'\n",
      " '2013-03-11T00:00:00.000000000' '2013-03-10T00:00:00.000000000'\n",
      " '2013-03-09T00:00:00.000000000' '2013-03-08T00:00:00.000000000'\n",
      " '2013-03-07T00:00:00.000000000' '2013-03-06T00:00:00.000000000'\n",
      " '2013-03-05T00:00:00.000000000' '2013-03-04T00:00:00.000000000'\n",
      " '2013-03-03T00:00:00.000000000' '2013-03-02T00:00:00.000000000'\n",
      " '2013-03-01T00:00:00.000000000' '2013-02-28T00:00:00.000000000'\n",
      " '2013-02-27T00:00:00.000000000' '2013-02-26T00:00:00.000000000'\n",
      " '2013-02-25T00:00:00.000000000' '2013-02-24T00:00:00.000000000'\n",
      " '2013-02-23T00:00:00.000000000' '2013-02-22T00:00:00.000000000'\n",
      " '2013-02-21T00:00:00.000000000' '2013-02-20T00:00:00.000000000'\n",
      " '2013-02-19T00:00:00.000000000' '2013-02-18T00:00:00.000000000'\n",
      " '2013-02-17T00:00:00.000000000' '2013-02-16T00:00:00.000000000'\n",
      " '2013-02-15T00:00:00.000000000' '2013-02-14T00:00:00.000000000'\n",
      " '2013-02-13T00:00:00.000000000' '2013-02-12T00:00:00.000000000'\n",
      " '2013-02-11T00:00:00.000000000' '2013-02-10T00:00:00.000000000'\n",
      " '2013-02-09T00:00:00.000000000' '2013-02-08T00:00:00.000000000'\n",
      " '2013-02-07T00:00:00.000000000' '2013-02-06T00:00:00.000000000'\n",
      " '2013-02-05T00:00:00.000000000' '2013-02-04T00:00:00.000000000'\n",
      " '2013-02-03T00:00:00.000000000' '2013-02-02T00:00:00.000000000'\n",
      " '2013-02-01T00:00:00.000000000' '2013-01-31T00:00:00.000000000'\n",
      " '2013-01-30T00:00:00.000000000' '2013-01-29T00:00:00.000000000'\n",
      " '2013-01-28T00:00:00.000000000' '2013-01-27T00:00:00.000000000'\n",
      " '2013-01-26T00:00:00.000000000' '2013-01-25T00:00:00.000000000'\n",
      " '2013-01-24T00:00:00.000000000' '2013-01-23T00:00:00.000000000'\n",
      " '2013-01-22T00:00:00.000000000' '2013-01-21T00:00:00.000000000'\n",
      " '2013-01-20T00:00:00.000000000' '2013-01-19T00:00:00.000000000'\n",
      " '2013-01-18T00:00:00.000000000' '2013-01-17T00:00:00.000000000'\n",
      " '2013-01-16T00:00:00.000000000' '2013-01-15T00:00:00.000000000'\n",
      " '2013-01-14T00:00:00.000000000' '2013-01-13T00:00:00.000000000'\n",
      " '2013-01-12T00:00:00.000000000' '2013-01-11T00:00:00.000000000'\n",
      " '2013-01-10T00:00:00.000000000' '2013-01-09T00:00:00.000000000'\n",
      " '2013-01-08T00:00:00.000000000' '2013-01-07T00:00:00.000000000'\n",
      " '2013-01-06T00:00:00.000000000' '2013-01-05T00:00:00.000000000'\n",
      " '2013-01-04T00:00:00.000000000' '2013-01-03T00:00:00.000000000'\n",
      " '2013-01-02T00:00:00.000000000' '2013-01-01T00:00:00.000000000'],\n",
      " No of unique value counts:-\n",
      "2015-07-31    1115\n",
      "2013-11-06    1115\n",
      "2013-11-18    1115\n",
      "2013-11-17    1115\n",
      "2013-11-16    1115\n",
      "              ... \n",
      "2014-10-28     935\n",
      "2014-10-27     935\n",
      "2014-10-26     935\n",
      "2014-10-25     935\n",
      "2014-12-08     935\n",
      "Name: Date, Length: 942, dtype: int64\n"
     ]
    },
    {
     "name": "stdout",
     "output_type": "stream",
     "text": [
      "12- for Sales column No of unique values is :- \n",
      "21734,\n",
      " unique values is:-\n",
      "[ 5263  5020  4782 ... 20362 18841 21237],\n",
      " No of unique value counts:-\n",
      "0        172871\n",
      "5674        215\n",
      "5558        197\n",
      "5483        196\n",
      "6214        195\n",
      "          ...  \n",
      "19268         1\n",
      "18344         1\n",
      "17685         1\n",
      "19544         1\n",
      "21237         1\n",
      "Name: Sales, Length: 21734, dtype: int64\n",
      "13- for Customers column No of unique values is :- \n",
      "4086,\n",
      " unique values is:-\n",
      "[ 555  546  523 ... 3727 4022 4106],\n",
      " No of unique value counts:-\n",
      "0       172869\n",
      "560       2414\n",
      "576       2363\n",
      "603       2337\n",
      "571       2330\n",
      "         ...  \n",
      "4587         1\n",
      "4115         1\n",
      "4931         1\n",
      "4440         1\n",
      "4106         1\n",
      "Name: Customers, Length: 4086, dtype: int64\n",
      "14- for Open column No of unique values is :- \n",
      "2,\n",
      " unique values is:-\n",
      "[1 0],\n",
      " No of unique value counts:-\n",
      "1    844392\n",
      "0    172817\n",
      "Name: Open, dtype: int64\n",
      "15- for Promo column No of unique values is :- \n",
      "2,\n",
      " unique values is:-\n",
      "[1 0],\n",
      " No of unique value counts:-\n",
      "0    629129\n",
      "1    388080\n",
      "Name: Promo, dtype: int64\n",
      "16- for StateHoliday column No of unique values is :- \n",
      "5,\n",
      " unique values is:-\n",
      "['0' 'a' 'b' 'c' 0],\n",
      " No of unique value counts:-\n",
      "0    855087\n",
      "0    131072\n",
      "a     20260\n",
      "b      6690\n",
      "c      4100\n",
      "Name: StateHoliday, dtype: int64\n",
      "17- for SchoolHoliday column No of unique values is :- \n",
      "2,\n",
      " unique values is:-\n",
      "[1 0],\n",
      " No of unique value counts:-\n",
      "0    835488\n",
      "1    181721\n",
      "Name: SchoolHoliday, dtype: int64\n"
     ]
    }
   ],
   "source": [
    "# Check Unique Values for each variable (no unique value,unique value,unique value count)\n",
    "\n",
    "for n,i in enumerate( df.columns):\n",
    "    no_unique_values = df[i].nunique()\n",
    "    unique_values =df[i].unique()\n",
    "    unique_value_counts =df[i].value_counts()\n",
    "    print(f\"{n+1}- for {i} column No of unique values is :- \\n{no_unique_values},\\n unique values is:-\\n{unique_values},\\n No of unique value counts:-\\n{unique_value_counts}\")\n"
   ]
  },
  {
   "cell_type": "code",
   "execution_count": 22,
   "metadata": {
    "ExecuteTime": {
     "end_time": "2023-07-01T11:28:51.776709Z",
     "start_time": "2023-07-01T11:28:51.613796Z"
    }
   },
   "outputs": [
    {
     "name": "stdout",
     "output_type": "stream",
     "text": [
      "Stateholiday_before  ['0' 'a' 'b' 'c' 0]\n",
      "StateHoliday_after  [0 'a' 'b' 'c']\n"
     ]
    }
   ],
   "source": [
    "Stateholiday_before=df['StateHoliday'].unique()\n",
    "df['StateHoliday'].replace({'0':0},inplace=True)\n",
    "StateHoliday_after=df['StateHoliday'].unique()\n",
    "print('Stateholiday_before ',Stateholiday_before)\n",
    "print('StateHoliday_after ',StateHoliday_after)"
   ]
  },
  {
   "cell_type": "markdown",
   "metadata": {
    "id": "dauF4eBmngu3"
   },
   "source": [
    "## 3. ***Data Wrangling***"
   ]
  },
  {
   "cell_type": "markdown",
   "metadata": {
    "id": "bKJF3rekwFvQ"
   },
   "source": [
    "### Data Wrangling Code"
   ]
  },
  {
   "cell_type": "markdown",
   "metadata": {},
   "source": [
    " Write your code to make your dataset analysis ready."
   ]
  },
  {
   "cell_type": "code",
   "execution_count": 23,
   "metadata": {
    "ExecuteTime": {
     "end_time": "2023-07-01T11:29:33.641536Z",
     "start_time": "2023-07-01T11:28:51.779703Z"
    }
   },
   "outputs": [
    {
     "data": {
      "image/png": "[encoded data removed]",
      "text/plain": [
       "<Figure size 500x500 with 2 Axes>"
      ]
     },
     "metadata": {},
     "output_type": "display_data"
    },
    {
     "data": {
      "image/png": "[encoded data removed]",
      "text/plain": [
       "<Figure size 500x500 with 2 Axes>"
      ]
     },
     "metadata": {},
     "output_type": "display_data"
    },
    {
     "data": {
      "image/png": "[encoded data removed]",
      "text/plain": [
       "<Figure size 500x500 with 2 Axes>"
      ]
     },
     "metadata": {},
     "output_type": "display_data"
    },
    {
     "data": {
      "image/png": "[encoded data removed]",
      "text/plain": [
       "<Figure size 500x500 with 2 Axes>"
      ]
     },
     "metadata": {},
     "output_type": "display_data"
    },
    {
     "data": {
      "image/png": "[encoded data removed]",
      "text/plain": [
       "<Figure size 500x500 with 2 Axes>"
      ]
     },
     "metadata": {},
     "output_type": "display_data"
    }
   ],
   "source": [
    "# Firstly We will replace all null value\n",
    "for i in ['CompetitionDistance','CompetitionOpenSinceMonth','CompetitionOpenSinceYear','Promo2SinceWeek','Promo2SinceYear']:\n",
    "    plt.figure(figsize=(5,5))\n",
    "    plt.subplot(1,2,1)\n",
    "    sns.distplot(df[i],bins=50)\n",
    "    plt.title(i + 'distibution plot')\n",
    "    plt.subplot(1,2,2)\n",
    "    sns.scatterplot(x=df[i],y=df['Sales'],data=df)\n",
    "    plt.title('scatterplot between' + i + \" and sales\" )\n",
    "\n",
    "    plt.show()"
   ]
  },
  {
   "cell_type": "code",
   "execution_count": 24,
   "metadata": {
    "ExecuteTime": {
     "end_time": "2023-07-01T11:29:33.669721Z",
     "start_time": "2023-07-01T11:29:33.644528Z"
    }
   },
   "outputs": [],
   "source": [
    "# Replace CompetitionDistance none value with median value because right skew data\n",
    "df['CompetitionDistance'].fillna(df['CompetitionDistance'].median(),inplace=True)"
   ]
  },
  {
   "cell_type": "code",
   "execution_count": 25,
   "metadata": {
    "ExecuteTime": {
     "end_time": "2023-07-01T11:29:33.747625Z",
     "start_time": "2023-07-01T11:29:33.672216Z"
    }
   },
   "outputs": [],
   "source": [
    "# Replace all other null features data with 0\n",
    "\n",
    "for i in ['CompetitionOpenSinceMonth','CompetitionOpenSinceYear','Promo2SinceWeek','Promo2SinceYear','PromoInterval']:\n",
    "    df[i].fillna(0,inplace=True)\n",
    "        "
   ]
  },
  {
   "cell_type": "code",
   "execution_count": 26,
   "metadata": {
    "ExecuteTime": {
     "end_time": "2023-07-01T11:29:33.985826Z",
     "start_time": "2023-07-01T11:29:33.750618Z"
    }
   },
   "outputs": [
    {
     "name": "stdout",
     "output_type": "stream",
     "text": [
      "StoreType  has null value :  0\n",
      "Assortment  has null value :  0\n",
      "CompetitionDistance  has null value :  0\n",
      "CompetitionOpenSinceMonth  has null value :  0\n",
      "CompetitionOpenSinceYear  has null value :  0\n",
      "Promo2  has null value :  0\n",
      "Promo2SinceWeek  has null value :  0\n",
      "Promo2SinceYear  has null value :  0\n",
      "PromoInterval  has null value :  0\n",
      "DayOfWeek  has null value :  0\n",
      "Date  has null value :  0\n",
      "Sales  has null value :  0\n",
      "Customers  has null value :  0\n",
      "Open  has null value :  0\n",
      "Promo  has null value :  0\n",
      "StateHoliday  has null value :  0\n",
      "SchoolHoliday  has null value :  0\n"
     ]
    }
   ],
   "source": [
    "# See final  data if any null data present or not\n",
    "\n",
    "for i in df.columns:\n",
    "    print( i,' has null value : ',df[i].isna().sum())"
   ]
  },
  {
   "cell_type": "markdown",
   "metadata": {
    "id": "MSa1f5Uengrz"
   },
   "source": [
    "### What all manipulations have you done and insights you found?"
   ]
  },
  {
   "cell_type": "markdown",
   "metadata": {
    "id": "LbyXE7I1olp8"
   },
   "source": [
    "Answer Here.\n",
    "We know that some feature has null value so replaced it as following.\n",
    "*  CompetitionDistance  has null value :  3           by median value\n",
    "*  CompetitionOpenSinceMonth  has null value :  354   by 0\n",
    "*  CompetitionOpenSinceYear  has null value :  354    by 0\n",
    "*  Promo2SinceWeek  has null value :  544             by 0\n",
    "*  Promo2SinceYear  has null value :  544             by 0\n",
    "*  PromoInterval  has null value :  544               by 0\n"
   ]
  },
  {
   "cell_type": "markdown",
   "metadata": {
    "id": "GF8Ens_Soomf"
   },
   "source": [
    "## ***4. Data Visualization, Storytelling & Experimenting with charts : Understand the relationships between variables***"
   ]
  },
  {
   "cell_type": "markdown",
   "metadata": {
    "id": "0wOQAZs5pc--"
   },
   "source": [
    "#### Chart - 1-check sales with respect to store type and then assortment"
   ]
  },
  {
   "cell_type": "code",
   "execution_count": 27,
   "metadata": {
    "ExecuteTime": {
     "end_time": "2023-07-01T11:29:34.358266Z",
     "start_time": "2023-07-01T11:29:33.987822Z"
    }
   },
   "outputs": [
    {
     "name": "stdout",
     "output_type": "stream",
     "text": [
      "StoreType\n",
      "d     5641.819243\n",
      "c     5723.629246\n",
      "a     5738.179710\n",
      "b    10058.837334\n",
      "Name: Sales, dtype: float64\n",
      "----------------------------------------\n",
      "Assortment\n",
      "a    5481.026096\n",
      "c    6058.676567\n",
      "b    8553.931999\n",
      "Name: Sales, dtype: float64\n",
      "----------------------------------------\n",
      "Assortment             a            b             c\n",
      "StoreType                                          \n",
      "a            5398.858310          NaN   6310.867032\n",
      "b           10821.619806  8553.931999  17969.556263\n",
      "c            5647.174314          NaN   5805.782193\n",
      "d            5317.885943          NaN   5826.407660\n"
     ]
    }
   ],
   "source": [
    "print(df.groupby(['StoreType'])['Sales'].mean().sort_values(ascending=True))\n",
    "print('--'*20)\n",
    "print(df.groupby(['Assortment'])['Sales'].mean().sort_values(ascending=True))\n",
    "print('--'*20)\n",
    "print(df.groupby(['StoreType','Assortment'])['Sales'].mean().unstack())"
   ]
  },
  {
   "cell_type": "code",
   "execution_count": 28,
   "metadata": {
    "ExecuteTime": {
     "end_time": "2023-07-01T11:29:35.155128Z",
     "start_time": "2023-07-01T11:29:34.359264Z"
    },
    "id": "7v_ESjsspbW7"
   },
   "outputs": [
    {
     "data": {
      "image/png": "[encoded data removed]",
      "text/plain": [
       "<Figure size 1600x500 with 2 Axes>"
      ]
     },
     "metadata": {},
     "output_type": "display_data"
    },
    {
     "data": {
      "image/png": "[encoded data removed]",
      "text/plain": [
       "<Figure size 640x480 with 1 Axes>"
      ]
     },
     "metadata": {},
     "output_type": "display_data"
    }
   ],
   "source": [
    "# Chart - 1 visualization code-check sales with respect to store type and then assortment\n",
    "plt.figure(figsize=(16,5))\n",
    "plt.subplot(1,3,1)\n",
    "df.groupby(['StoreType'])['Sales'].mean().sort_values(ascending=True).plot(kind='bar')\n",
    "plt.title(\"StoreType vs Sales\")\n",
    "plt.xlabel('Storetype')\n",
    "plt.ylabel('Mean Sales')\n",
    "\n",
    "\n",
    "plt.subplot(1,3,2)\n",
    "df.groupby(['Assortment'])['Sales'].mean().sort_values(ascending=True).plot(kind='bar')\n",
    "plt.title(\"Assortment vs Sales\")\n",
    "plt.xlabel('Assortment')\n",
    "plt.ylabel('Mean Sales')\n",
    "\n",
    "plt.subplot(1,3,2)\n",
    "df.groupby(['StoreType','Assortment'])['Sales'].mean().unstack().plot(kind='bar')\n",
    "plt.title('StoreType and Assortment vs Sales')\n",
    "plt.xlabel('Assortment and StoreType')\n",
    "plt.ylabel('Mean Sales')\n",
    "\n",
    "plt.tight_layout()  # Adjust spacing between subplots\n",
    "\n",
    "plt.show()"
   ]
  },
  {
   "cell_type": "markdown",
   "metadata": {
    "id": "K5QZ13OEpz2H"
   },
   "source": [
    "##### 1. Why did you pick the specific chart?"
   ]
  },
  {
   "cell_type": "markdown",
   "metadata": {
    "id": "XESiWehPqBRc"
   },
   "source": [
    "Answer Here.\n",
    "* To Visualize data easily"
   ]
  },
  {
   "cell_type": "markdown",
   "metadata": {
    "id": "lQ7QKXXCp7Bj"
   },
   "source": [
    "##### 2. What is/are the insight(s) found from the chart?"
   ]
  },
  {
   "cell_type": "markdown",
   "metadata": {
    "id": "C_j1G7yiqdRP"
   },
   "source": [
    "Answer Here\n",
    "* StoreType b has highest sales among all and assortment b has highest sales\n",
    "* StoreType b is selling highest amount of assortment c and lowest b\n",
    "* Assortment b is only available in StoreType b"
   ]
  },
  {
   "cell_type": "markdown",
   "metadata": {
    "id": "448CDAPjqfQr"
   },
   "source": [
    "##### 3. Will the gained insights help creating a positive business impact?\n",
    "Are there any insights that lead to negative growth? Justify with specific reason."
   ]
  },
  {
   "cell_type": "markdown",
   "metadata": {
    "id": "3cspy4FjqxJW"
   },
   "source": [
    "Answer Here\n",
    "* Yes\n",
    "* Assortment b only available in store type b need to available to another store too."
   ]
  },
  {
   "cell_type": "code",
   "execution_count": 29,
   "metadata": {
    "ExecuteTime": {
     "end_time": "2023-07-01T11:29:35.170311Z",
     "start_time": "2023-07-01T11:29:35.158345Z"
    }
   },
   "outputs": [
    {
     "data": {
      "text/plain": [
       "Index(['StoreType', 'Assortment', 'CompetitionDistance',\n",
       "       'CompetitionOpenSinceMonth', 'CompetitionOpenSinceYear', 'Promo2',\n",
       "       'Promo2SinceWeek', 'Promo2SinceYear', 'PromoInterval', 'DayOfWeek',\n",
       "       'Date', 'Sales', 'Customers', 'Open', 'Promo', 'StateHoliday',\n",
       "       'SchoolHoliday'],\n",
       "      dtype='object')"
      ]
     },
     "execution_count": 29,
     "metadata": {},
     "output_type": "execute_result"
    }
   ],
   "source": [
    "df.columns"
   ]
  },
  {
   "cell_type": "markdown",
   "metadata": {
    "id": "KSlN3yHqYklG"
   },
   "source": [
    "#### Chart - 2-Check Sales with respect to Distances"
   ]
  },
  {
   "cell_type": "code",
   "execution_count": 62,
   "metadata": {
    "ExecuteTime": {
     "end_time": "2023-07-01T12:06:49.206550Z",
     "start_time": "2023-07-01T12:06:48.338162Z"
    }
   },
   "outputs": [],
   "source": [
    "# Categorised the distance into 3 buckets because there are two many distances\n",
    "\"\"\"\n",
    "Distance <2000 :- 0 (min)\n",
    "Distance > 4000 :- 2 (max)\n",
    "distance in between 2000 and 4000 :- 1 (med)\"\"\"\n",
    "\n",
    "df['distance']=df['CompetitionDistance'].apply(lambda x :0 if x<2000 else(1 if 2000<=x>4000 else 2 ))\n",
    "\n",
    "# No need of CompetitionDistance columns now so drop it.\n",
    "df.drop('CompetitionDistance',axis=1,inplace=True)\n"
   ]
  },
  {
   "cell_type": "code",
   "execution_count": 58,
   "metadata": {
    "ExecuteTime": {
     "end_time": "2023-07-01T11:56:08.433853Z",
     "start_time": "2023-07-01T11:56:07.514787Z"
    },
    "id": "R4YgtaqtYklH"
   },
   "outputs": [
    {
     "data": {
      "image/png": "[encoded data removed]",
      "text/plain": [
       "<Figure size 2000x500 with 3 Axes>"
      ]
     },
     "metadata": {},
     "output_type": "display_data"
    }
   ],
   "source": [
    "# Chart - 2 visualization code\n",
    "plt.figure(figsize=(20,5))\n",
    "plt.subplot(1,3,1)\n",
    "sns.distplot(df['distance'].value_counts(),hist=True)\n",
    "plt.title('distplot of Distance')\n",
    "\n",
    "plt.subplot(1,3,2)\n",
    "sns.boxplot(x=df['distance'],y=df['Sales'])\n",
    "plt.title('box plot distance vs sales')\n",
    "\n",
    "plt.subplot(1,3,3)\n",
    "df.groupby('distance')['Sales'].mean().plot(kind='bar')\n",
    "plt.title('Distance vs Sales')\n",
    "plt.xlabel('Distance')\n",
    "plt.ylabel('Sales')\n",
    "plt.show()\n"
   ]
  },
  {
   "cell_type": "markdown",
   "metadata": {
    "id": "t6dVpIINYklI"
   },
   "source": [
    "##### 1. Why did you pick the specific chart?"
   ]
  },
  {
   "cell_type": "markdown",
   "metadata": {
    "id": "5aaW0BYyYklI"
   },
   "source": [
    "Answer Here.\n",
    "* To check sales distribution"
   ]
  },
  {
   "cell_type": "markdown",
   "metadata": {
    "id": "ijmpgYnKYklI"
   },
   "source": [
    "##### 2. What is/are the insight(s) found from the chart?"
   ]
  },
  {
   "cell_type": "markdown",
   "metadata": {
    "id": "PSx9atu2YklI"
   },
   "source": [
    "Answer Here\n",
    "* With minimum (0) or  competition distance less than 2000 then sales is highest and as distance increase sales go down"
   ]
  },
  {
   "cell_type": "markdown",
   "metadata": {
    "id": "-JiQyfWJYklI"
   },
   "source": [
    "##### 3. Will the gained insights help creating a positive business impact?\n",
    "Are there any insights that lead to negative growth? Justify with specific reason."
   ]
  },
  {
   "cell_type": "markdown",
   "metadata": {
    "id": "BcBbebzrYklV"
   },
   "source": [
    "Answer Here\n",
    "* With less competition distance sales is highest as compare to midum and max distance"
   ]
  },
  {
   "cell_type": "markdown",
   "metadata": {
    "id": "EM7whBJCYoAo"
   },
   "source": [
    "#### Chart - 3"
   ]
  },
  {
   "cell_type": "code",
   "execution_count": null,
   "metadata": {
    "ExecuteTime": {
     "end_time": "2023-07-01T11:29:37.167218Z",
     "start_time": "2023-07-01T11:29:37.166220Z"
    },
    "id": "t6GMdE67YoAp"
   },
   "outputs": [],
   "source": [
    "# Chart - 3 visualization code"
   ]
  },
  {
   "cell_type": "markdown",
   "metadata": {
    "id": "fge-S5ZAYoAp"
   },
   "source": [
    "##### 1. Why did you pick the specific chart?"
   ]
  },
  {
   "cell_type": "markdown",
   "metadata": {
    "id": "5dBItgRVYoAp"
   },
   "source": [
    "Answer Here."
   ]
  },
  {
   "cell_type": "markdown",
   "metadata": {
    "id": "85gYPyotYoAp"
   },
   "source": [
    "##### 2. What is/are the insight(s) found from the chart?"
   ]
  },
  {
   "cell_type": "markdown",
   "metadata": {
    "id": "4jstXR6OYoAp"
   },
   "source": [
    "Answer Here"
   ]
  },
  {
   "cell_type": "markdown",
   "metadata": {
    "id": "RoGjAbkUYoAp"
   },
   "source": [
    "##### 3. Will the gained insights help creating a positive business impact?\n",
    "Are there any insights that lead to negative growth? Justify with specific reason."
   ]
  },
  {
   "cell_type": "markdown",
   "metadata": {
    "id": "zfJ8IqMcYoAp"
   },
   "source": [
    "Answer Here"
   ]
  },
  {
   "cell_type": "markdown",
   "metadata": {
    "id": "4Of9eVA-YrdM"
   },
   "source": [
    "#### Chart - 4"
   ]
  },
  {
   "cell_type": "code",
   "execution_count": null,
   "metadata": {
    "ExecuteTime": {
     "end_time": "2023-07-01T11:29:37.170212Z",
     "start_time": "2023-07-01T11:29:37.170212Z"
    },
    "id": "irlUoxc8YrdO"
   },
   "outputs": [],
   "source": [
    "# Chart - 4 visualization code"
   ]
  },
  {
   "cell_type": "markdown",
   "metadata": {
    "id": "iky9q4vBYrdO"
   },
   "source": [
    "##### 1. Why did you pick the specific chart?"
   ]
  },
  {
   "cell_type": "markdown",
   "metadata": {
    "id": "aJRCwT6DYrdO"
   },
   "source": [
    "Answer Here."
   ]
  },
  {
   "cell_type": "markdown",
   "metadata": {
    "id": "F6T5p64dYrdO"
   },
   "source": [
    "##### 2. What is/are the insight(s) found from the chart?"
   ]
  },
  {
   "cell_type": "markdown",
   "metadata": {
    "id": "Xx8WAJvtYrdO"
   },
   "source": [
    "Answer Here"
   ]
  },
  {
   "cell_type": "markdown",
   "metadata": {
    "id": "y-Ehk30pYrdP"
   },
   "source": [
    "##### 3. Will the gained insights help creating a positive business impact?\n",
    "Are there any insights that lead to negative growth? Justify with specific reason."
   ]
  },
  {
   "cell_type": "markdown",
   "metadata": {
    "id": "jLNxxz7MYrdP"
   },
   "source": [
    "Answer Here"
   ]
  },
  {
   "cell_type": "markdown",
   "metadata": {
    "id": "bamQiAODYuh1"
   },
   "source": [
    "#### Chart - 5"
   ]
  },
  {
   "cell_type": "code",
   "execution_count": null,
   "metadata": {
    "ExecuteTime": {
     "end_time": "2023-07-01T11:29:37.173202Z",
     "start_time": "2023-07-01T11:29:37.173202Z"
    },
    "id": "TIJwrbroYuh3"
   },
   "outputs": [],
   "source": [
    "# Chart - 5 visualization code"
   ]
  },
  {
   "cell_type": "markdown",
   "metadata": {
    "id": "QHF8YVU7Yuh3"
   },
   "source": [
    "##### 1. Why did you pick the specific chart?"
   ]
  },
  {
   "cell_type": "markdown",
   "metadata": {
    "id": "dcxuIMRPYuh3"
   },
   "source": [
    "Answer Here."
   ]
  },
  {
   "cell_type": "markdown",
   "metadata": {
    "id": "GwzvFGzlYuh3"
   },
   "source": [
    "##### 2. What is/are the insight(s) found from the chart?"
   ]
  },
  {
   "cell_type": "markdown",
   "metadata": {
    "id": "uyqkiB8YYuh3"
   },
   "source": [
    "Answer Here"
   ]
  },
  {
   "cell_type": "markdown",
   "metadata": {
    "id": "qYpmQ266Yuh3"
   },
   "source": [
    "##### 3. Will the gained insights help creating a positive business impact?\n",
    "Are there any insights that lead to negative growth? Justify with specific reason."
   ]
  },
  {
   "cell_type": "markdown",
   "metadata": {
    "id": "_WtzZ_hCYuh4"
   },
   "source": [
    "Answer Here"
   ]
  },
  {
   "cell_type": "markdown",
   "metadata": {
    "id": "OH-pJp9IphqM"
   },
   "source": [
    "#### Chart - 6"
   ]
  },
  {
   "cell_type": "code",
   "execution_count": null,
   "metadata": {
    "ExecuteTime": {
     "end_time": "2023-07-01T11:29:37.176194Z",
     "start_time": "2023-07-01T11:29:37.176194Z"
    },
    "id": "kuRf4wtuphqN"
   },
   "outputs": [],
   "source": [
    "# Chart - 6 visualization code"
   ]
  },
  {
   "cell_type": "markdown",
   "metadata": {
    "id": "bbFf2-_FphqN"
   },
   "source": [
    "##### 1. Why did you pick the specific chart?"
   ]
  },
  {
   "cell_type": "markdown",
   "metadata": {
    "id": "loh7H2nzphqN"
   },
   "source": [
    "Answer Here."
   ]
  },
  {
   "cell_type": "markdown",
   "metadata": {
    "id": "_ouA3fa0phqN"
   },
   "source": [
    "##### 2. What is/are the insight(s) found from the chart?"
   ]
  },
  {
   "cell_type": "markdown",
   "metadata": {
    "id": "VECbqPI7phqN"
   },
   "source": [
    "Answer Here"
   ]
  },
  {
   "cell_type": "markdown",
   "metadata": {
    "id": "Seke61FWphqN"
   },
   "source": [
    "##### 3. Will the gained insights help creating a positive business impact?\n",
    "Are there any insights that lead to negative growth? Justify with specific reason."
   ]
  },
  {
   "cell_type": "markdown",
   "metadata": {
    "id": "DW4_bGpfphqN"
   },
   "source": [
    "Answer Here"
   ]
  },
  {
   "cell_type": "markdown",
   "metadata": {
    "id": "PIIx-8_IphqN"
   },
   "source": [
    "#### Chart - 7"
   ]
  },
  {
   "cell_type": "code",
   "execution_count": null,
   "metadata": {
    "ExecuteTime": {
     "end_time": "2023-07-01T11:29:37.179185Z",
     "start_time": "2023-07-01T11:29:37.179185Z"
    },
    "id": "lqAIGUfyphqO"
   },
   "outputs": [],
   "source": [
    "# Chart - 7 visualization code"
   ]
  },
  {
   "cell_type": "markdown",
   "metadata": {
    "id": "t27r6nlMphqO"
   },
   "source": [
    "##### 1. Why did you pick the specific chart?"
   ]
  },
  {
   "cell_type": "markdown",
   "metadata": {
    "id": "iv6ro40sphqO"
   },
   "source": [
    "Answer Here."
   ]
  },
  {
   "cell_type": "markdown",
   "metadata": {
    "id": "r2jJGEOYphqO"
   },
   "source": [
    "##### 2. What is/are the insight(s) found from the chart?"
   ]
  },
  {
   "cell_type": "markdown",
   "metadata": {
    "id": "Po6ZPi4hphqO"
   },
   "source": [
    "Answer Here"
   ]
  },
  {
   "cell_type": "markdown",
   "metadata": {
    "id": "b0JNsNcRphqO"
   },
   "source": [
    "##### 3. Will the gained insights help creating a positive business impact?\n",
    "Are there any insights that lead to negative growth? Justify with specific reason."
   ]
  },
  {
   "cell_type": "markdown",
   "metadata": {
    "id": "xvSq8iUTphqO"
   },
   "source": [
    "Answer Here"
   ]
  },
  {
   "cell_type": "markdown",
   "metadata": {
    "id": "BZR9WyysphqO"
   },
   "source": [
    "#### Chart - 8"
   ]
  },
  {
   "cell_type": "code",
   "execution_count": null,
   "metadata": {
    "ExecuteTime": {
     "end_time": "2023-07-01T11:29:37.182178Z",
     "start_time": "2023-07-01T11:29:37.182178Z"
    },
    "id": "TdPTWpAVphqO"
   },
   "outputs": [],
   "source": [
    "# Chart - 8 visualization code"
   ]
  },
  {
   "cell_type": "markdown",
   "metadata": {
    "id": "jj7wYXLtphqO"
   },
   "source": [
    "##### 1. Why did you pick the specific chart?"
   ]
  },
  {
   "cell_type": "markdown",
   "metadata": {
    "id": "Ob8u6rCTphqO"
   },
   "source": [
    "Answer Here."
   ]
  },
  {
   "cell_type": "markdown",
   "metadata": {
    "id": "eZrbJ2SmphqO"
   },
   "source": [
    "##### 2. What is/are the insight(s) found from the chart?"
   ]
  },
  {
   "cell_type": "markdown",
   "metadata": {
    "id": "mZtgC_hjphqO"
   },
   "source": [
    "Answer Here"
   ]
  },
  {
   "cell_type": "markdown",
   "metadata": {
    "id": "rFu4xreNphqO"
   },
   "source": [
    "##### 3. Will the gained insights help creating a positive business impact?\n",
    "Are there any insights that lead to negative growth? Justify with specific reason."
   ]
  },
  {
   "cell_type": "markdown",
   "metadata": {
    "id": "ey_0qi68phqO"
   },
   "source": [
    "Answer Here"
   ]
  },
  {
   "cell_type": "markdown",
   "metadata": {
    "id": "YJ55k-q6phqO"
   },
   "source": [
    "#### Chart - 9"
   ]
  },
  {
   "cell_type": "code",
   "execution_count": null,
   "metadata": {
    "ExecuteTime": {
     "end_time": "2023-07-01T11:29:37.185170Z",
     "start_time": "2023-07-01T11:29:37.185170Z"
    },
    "id": "B2aS4O1ophqO"
   },
   "outputs": [],
   "source": [
    "# Chart - 9 visualization code"
   ]
  },
  {
   "cell_type": "markdown",
   "metadata": {
    "id": "gCFgpxoyphqP"
   },
   "source": [
    "##### 1. Why did you pick the specific chart?"
   ]
  },
  {
   "cell_type": "markdown",
   "metadata": {
    "id": "TVxDimi2phqP"
   },
   "source": [
    "Answer Here."
   ]
  },
  {
   "cell_type": "markdown",
   "metadata": {
    "id": "OVtJsKN_phqQ"
   },
   "source": [
    "##### 2. What is/are the insight(s) found from the chart?"
   ]
  },
  {
   "cell_type": "markdown",
   "metadata": {
    "id": "ngGi97qjphqQ"
   },
   "source": [
    "Answer Here"
   ]
  },
  {
   "cell_type": "markdown",
   "metadata": {
    "id": "lssrdh5qphqQ"
   },
   "source": [
    "##### 3. Will the gained insights help creating a positive business impact?\n",
    "Are there any insights that lead to negative growth? Justify with specific reason."
   ]
  },
  {
   "cell_type": "markdown",
   "metadata": {
    "id": "tBpY5ekJphqQ"
   },
   "source": [
    "Answer Here"
   ]
  },
  {
   "cell_type": "markdown",
   "metadata": {
    "id": "U2RJ9gkRphqQ"
   },
   "source": [
    "#### Chart - 10"
   ]
  },
  {
   "cell_type": "code",
   "execution_count": null,
   "metadata": {
    "ExecuteTime": {
     "end_time": "2023-07-01T11:29:37.189159Z",
     "start_time": "2023-07-01T11:29:37.188161Z"
    },
    "id": "GM7a4YP4phqQ"
   },
   "outputs": [],
   "source": [
    "# Chart - 10 visualization code"
   ]
  },
  {
   "cell_type": "markdown",
   "metadata": {
    "id": "1M8mcRywphqQ"
   },
   "source": [
    "##### 1. Why did you pick the specific chart?"
   ]
  },
  {
   "cell_type": "markdown",
   "metadata": {
    "id": "8agQvks0phqQ"
   },
   "source": [
    "Answer Here."
   ]
  },
  {
   "cell_type": "markdown",
   "metadata": {
    "id": "tgIPom80phqQ"
   },
   "source": [
    "##### 2. What is/are the insight(s) found from the chart?"
   ]
  },
  {
   "cell_type": "markdown",
   "metadata": {
    "id": "Qp13pnNzphqQ"
   },
   "source": [
    "Answer Here"
   ]
  },
  {
   "cell_type": "markdown",
   "metadata": {
    "id": "JMzcOPDDphqR"
   },
   "source": [
    "##### 3. Will the gained insights help creating a positive business impact?\n",
    "Are there any insights that lead to negative growth? Justify with specific reason."
   ]
  },
  {
   "cell_type": "markdown",
   "metadata": {
    "id": "R4Ka1PC2phqR"
   },
   "source": [
    "Answer Here"
   ]
  },
  {
   "cell_type": "markdown",
   "metadata": {
    "id": "x-EpHcCOp1ci"
   },
   "source": [
    "#### Chart - 11"
   ]
  },
  {
   "cell_type": "code",
   "execution_count": null,
   "metadata": {
    "ExecuteTime": {
     "end_time": "2023-07-01T11:29:37.191154Z",
     "start_time": "2023-07-01T11:29:37.191154Z"
    },
    "id": "mAQTIvtqp1cj"
   },
   "outputs": [],
   "source": [
    "# Chart - 11 visualization code"
   ]
  },
  {
   "cell_type": "markdown",
   "metadata": {
    "id": "X_VqEhTip1ck"
   },
   "source": [
    "##### 1. Why did you pick the specific chart?"
   ]
  },
  {
   "cell_type": "markdown",
   "metadata": {
    "id": "-vsMzt_np1ck"
   },
   "source": [
    "Answer Here."
   ]
  },
  {
   "cell_type": "markdown",
   "metadata": {
    "id": "8zGJKyg5p1ck"
   },
   "source": [
    "##### 2. What is/are the insight(s) found from the chart?"
   ]
  },
  {
   "cell_type": "markdown",
   "metadata": {
    "id": "ZYdMsrqVp1ck"
   },
   "source": [
    "Answer Here"
   ]
  },
  {
   "cell_type": "markdown",
   "metadata": {
    "id": "PVzmfK_Ep1ck"
   },
   "source": [
    "##### 3. Will the gained insights help creating a positive business impact?\n",
    "Are there any insights that lead to negative growth? Justify with specific reason."
   ]
  },
  {
   "cell_type": "markdown",
   "metadata": {
    "id": "druuKYZpp1ck"
   },
   "source": [
    "Answer Here"
   ]
  },
  {
   "cell_type": "markdown",
   "metadata": {
    "id": "n3dbpmDWp1ck"
   },
   "source": [
    "#### Chart - 12"
   ]
  },
  {
   "cell_type": "code",
   "execution_count": null,
   "metadata": {
    "ExecuteTime": {
     "end_time": "2023-07-01T11:29:37.195144Z",
     "start_time": "2023-07-01T11:29:37.195144Z"
    },
    "id": "bwevp1tKp1ck"
   },
   "outputs": [],
   "source": [
    "# Chart - 12 visualization code"
   ]
  },
  {
   "cell_type": "markdown",
   "metadata": {
    "id": "ylSl6qgtp1ck"
   },
   "source": [
    "##### 1. Why did you pick the specific chart?"
   ]
  },
  {
   "cell_type": "markdown",
   "metadata": {
    "id": "m2xqNkiQp1ck"
   },
   "source": [
    "Answer Here."
   ]
  },
  {
   "cell_type": "markdown",
   "metadata": {
    "id": "ZWILFDl5p1ck"
   },
   "source": [
    "##### 2. What is/are the insight(s) found from the chart?"
   ]
  },
  {
   "cell_type": "markdown",
   "metadata": {
    "id": "x-lUsV2mp1ck"
   },
   "source": [
    "Answer Here"
   ]
  },
  {
   "cell_type": "markdown",
   "metadata": {
    "id": "M7G43BXep1ck"
   },
   "source": [
    "##### 3. Will the gained insights help creating a positive business impact?\n",
    "Are there any insights that lead to negative growth? Justify with specific reason."
   ]
  },
  {
   "cell_type": "markdown",
   "metadata": {
    "id": "5wwDJXsLp1cl"
   },
   "source": [
    "Answer Here"
   ]
  },
  {
   "cell_type": "markdown",
   "metadata": {
    "id": "Ag9LCva-p1cl"
   },
   "source": [
    "#### Chart - 13"
   ]
  },
  {
   "cell_type": "code",
   "execution_count": null,
   "metadata": {
    "ExecuteTime": {
     "end_time": "2023-07-01T11:29:37.198135Z",
     "start_time": "2023-07-01T11:29:37.198135Z"
    },
    "id": "EUfxeq9-p1cl"
   },
   "outputs": [],
   "source": [
    "# Chart - 13 visualization code"
   ]
  },
  {
   "cell_type": "markdown",
   "metadata": {
    "id": "E6MkPsBcp1cl"
   },
   "source": [
    "##### 1. Why did you pick the specific chart?"
   ]
  },
  {
   "cell_type": "markdown",
   "metadata": {
    "id": "V22bRsFWp1cl"
   },
   "source": [
    "Answer Here."
   ]
  },
  {
   "cell_type": "markdown",
   "metadata": {
    "id": "2cELzS2fp1cl"
   },
   "source": [
    "##### 2. What is/are the insight(s) found from the chart?"
   ]
  },
  {
   "cell_type": "markdown",
   "metadata": {
    "id": "ozQPc2_Ip1cl"
   },
   "source": [
    "Answer Here"
   ]
  },
  {
   "cell_type": "markdown",
   "metadata": {
    "id": "3MPXvC8up1cl"
   },
   "source": [
    "##### 3. Will the gained insights help creating a positive business impact?\n",
    "Are there any insights that lead to negative growth? Justify with specific reason."
   ]
  },
  {
   "cell_type": "markdown",
   "metadata": {
    "id": "GL8l1tdLp1cl"
   },
   "source": [
    "Answer Here"
   ]
  },
  {
   "cell_type": "markdown",
   "metadata": {
    "id": "NC_X3p0fY2L0"
   },
   "source": [
    "#### Chart - 14 - Correlation Heatmap"
   ]
  },
  {
   "cell_type": "code",
   "execution_count": null,
   "metadata": {
    "ExecuteTime": {
     "end_time": "2023-07-01T11:29:37.199149Z",
     "start_time": "2023-07-01T11:29:37.199149Z"
    },
    "id": "xyC9zolEZNRQ"
   },
   "outputs": [],
   "source": [
    "# Correlation Heatmap visualization code"
   ]
  },
  {
   "cell_type": "markdown",
   "metadata": {
    "id": "UV0SzAkaZNRQ"
   },
   "source": [
    "##### 1. Why did you pick the specific chart?"
   ]
  },
  {
   "cell_type": "markdown",
   "metadata": {
    "id": "DVPuT8LYZNRQ"
   },
   "source": [
    "Answer Here."
   ]
  },
  {
   "cell_type": "markdown",
   "metadata": {
    "id": "YPEH6qLeZNRQ"
   },
   "source": [
    "##### 2. What is/are the insight(s) found from the chart?"
   ]
  },
  {
   "cell_type": "markdown",
   "metadata": {
    "id": "bfSqtnDqZNRR"
   },
   "source": [
    "Answer Here"
   ]
  },
  {
   "cell_type": "markdown",
   "metadata": {
    "id": "q29F0dvdveiT"
   },
   "source": [
    "#### Chart - 15 - Pair Plot"
   ]
  },
  {
   "cell_type": "code",
   "execution_count": null,
   "metadata": {
    "ExecuteTime": {
     "end_time": "2023-07-01T11:29:37.199149Z",
     "start_time": "2023-07-01T11:29:37.199149Z"
    },
    "id": "o58-TEIhveiU"
   },
   "outputs": [],
   "source": [
    "# Pair Plot visualization code"
   ]
  },
  {
   "cell_type": "markdown",
   "metadata": {
    "id": "EXh0U9oCveiU"
   },
   "source": [
    "##### 1. Why did you pick the specific chart?"
   ]
  },
  {
   "cell_type": "markdown",
   "metadata": {
    "id": "eMmPjTByveiU"
   },
   "source": [
    "Answer Here."
   ]
  },
  {
   "cell_type": "markdown",
   "metadata": {
    "id": "22aHeOlLveiV"
   },
   "source": [
    "##### 2. What is/are the insight(s) found from the chart?"
   ]
  },
  {
   "cell_type": "markdown",
   "metadata": {
    "id": "uPQ8RGwHveiV"
   },
   "source": [
    "Answer Here"
   ]
  },
  {
   "cell_type": "markdown",
   "metadata": {
    "id": "g-ATYxFrGrvw"
   },
   "source": [
    "## ***5. Hypothesis Testing***"
   ]
  },
  {
   "cell_type": "markdown",
   "metadata": {
    "id": "Yfr_Vlr8HBkt"
   },
   "source": [
    "### Based on your chart experiments, define three hypothetical statements from the dataset. In the next three questions, perform hypothesis testing to obtain final conclusion about the statements through your code and statistical testing."
   ]
  },
  {
   "cell_type": "markdown",
   "metadata": {
    "id": "-7MS06SUHkB-"
   },
   "source": [
    "Answer Here."
   ]
  },
  {
   "cell_type": "markdown",
   "metadata": {
    "id": "8yEUt7NnHlrM"
   },
   "source": [
    "### Hypothetical Statement - 1"
   ]
  },
  {
   "cell_type": "markdown",
   "metadata": {
    "id": "tEA2Xm5dHt1r"
   },
   "source": [
    "#### 1. State Your research hypothesis as a null hypothesis and alternate hypothesis."
   ]
  },
  {
   "cell_type": "markdown",
   "metadata": {
    "id": "HI9ZP0laH0D-"
   },
   "source": [
    "Answer Here."
   ]
  },
  {
   "cell_type": "markdown",
   "metadata": {
    "id": "I79__PHVH19G"
   },
   "source": [
    "#### 2. Perform an appropriate statistical test."
   ]
  },
  {
   "cell_type": "code",
   "execution_count": null,
   "metadata": {
    "ExecuteTime": {
     "end_time": "2023-07-01T11:29:37.199149Z",
     "start_time": "2023-07-01T11:29:37.199149Z"
    },
    "id": "oZrfquKtyian"
   },
   "outputs": [],
   "source": [
    "# Perform Statistical Test to obtain P-Value"
   ]
  },
  {
   "cell_type": "markdown",
   "metadata": {
    "id": "Ou-I18pAyIpj"
   },
   "source": [
    "##### Which statistical test have you done to obtain P-Value?"
   ]
  },
  {
   "cell_type": "markdown",
   "metadata": {
    "id": "s2U0kk00ygSB"
   },
   "source": [
    "Answer Here."
   ]
  },
  {
   "cell_type": "markdown",
   "metadata": {
    "id": "fF3858GYyt-u"
   },
   "source": [
    "##### Why did you choose the specific statistical test?"
   ]
  },
  {
   "cell_type": "markdown",
   "metadata": {
    "id": "HO4K0gP5y3B4"
   },
   "source": [
    "Answer Here."
   ]
  },
  {
   "cell_type": "markdown",
   "metadata": {
    "id": "4_0_7-oCpUZd"
   },
   "source": [
    "### Hypothetical Statement - 2"
   ]
  },
  {
   "cell_type": "markdown",
   "metadata": {
    "id": "hwyV_J3ipUZe"
   },
   "source": [
    "#### 1. State Your research hypothesis as a null hypothesis and alternate hypothesis."
   ]
  },
  {
   "cell_type": "markdown",
   "metadata": {
    "id": "FnpLGJ-4pUZe"
   },
   "source": [
    "Answer Here."
   ]
  },
  {
   "cell_type": "markdown",
   "metadata": {
    "id": "3yB-zSqbpUZe"
   },
   "source": [
    "#### 2. Perform an appropriate statistical test."
   ]
  },
  {
   "cell_type": "code",
   "execution_count": null,
   "metadata": {
    "ExecuteTime": {
     "end_time": "2023-07-01T11:29:37.210592Z",
     "start_time": "2023-07-01T11:29:37.210592Z"
    },
    "id": "sWxdNTXNpUZe"
   },
   "outputs": [],
   "source": [
    "# Perform Statistical Test to obtain P-Value"
   ]
  },
  {
   "cell_type": "markdown",
   "metadata": {
    "id": "dEUvejAfpUZe"
   },
   "source": [
    "##### Which statistical test have you done to obtain P-Value?"
   ]
  },
  {
   "cell_type": "markdown",
   "metadata": {
    "id": "oLDrPz7HpUZf"
   },
   "source": [
    "Answer Here."
   ]
  },
  {
   "cell_type": "markdown",
   "metadata": {
    "id": "Fd15vwWVpUZf"
   },
   "source": [
    "##### Why did you choose the specific statistical test?"
   ]
  },
  {
   "cell_type": "markdown",
   "metadata": {
    "id": "4xOGYyiBpUZf"
   },
   "source": [
    "Answer Here."
   ]
  },
  {
   "cell_type": "markdown",
   "metadata": {
    "id": "bn_IUdTipZyH"
   },
   "source": [
    "### Hypothetical Statement - 3"
   ]
  },
  {
   "cell_type": "markdown",
   "metadata": {
    "id": "49K5P_iCpZyH"
   },
   "source": [
    "#### 1. State Your research hypothesis as a null hypothesis and alternate hypothesis."
   ]
  },
  {
   "cell_type": "markdown",
   "metadata": {
    "id": "7gWI5rT9pZyH"
   },
   "source": [
    "Answer Here."
   ]
  },
  {
   "cell_type": "markdown",
   "metadata": {
    "id": "Nff-vKELpZyI"
   },
   "source": [
    "#### 2. Perform an appropriate statistical test."
   ]
  },
  {
   "cell_type": "code",
   "execution_count": null,
   "metadata": {
    "ExecuteTime": {
     "end_time": "2023-07-01T11:29:37.213067Z",
     "start_time": "2023-07-01T11:29:37.213067Z"
    },
    "id": "s6AnJQjtpZyI"
   },
   "outputs": [],
   "source": [
    "# Perform Statistical Test to obtain P-Value"
   ]
  },
  {
   "cell_type": "markdown",
   "metadata": {
    "id": "kLW572S8pZyI"
   },
   "source": [
    "##### Which statistical test have you done to obtain P-Value?"
   ]
  },
  {
   "cell_type": "markdown",
   "metadata": {
    "id": "ytWJ8v15pZyI"
   },
   "source": [
    "Answer Here."
   ]
  },
  {
   "cell_type": "markdown",
   "metadata": {
    "id": "dWbDXHzopZyI"
   },
   "source": [
    "##### Why did you choose the specific statistical test?"
   ]
  },
  {
   "cell_type": "markdown",
   "metadata": {
    "id": "M99G98V6pZyI"
   },
   "source": [
    "Answer Here."
   ]
  },
  {
   "cell_type": "markdown",
   "metadata": {
    "id": "yLjJCtPM0KBk"
   },
   "source": [
    "## ***6. Feature Engineering & Data Pre-processing***"
   ]
  },
  {
   "cell_type": "markdown",
   "metadata": {
    "id": "xiyOF9F70UgQ"
   },
   "source": [
    "### 1. Handling Missing Values"
   ]
  },
  {
   "cell_type": "code",
   "execution_count": null,
   "metadata": {
    "ExecuteTime": {
     "end_time": "2023-07-01T11:29:37.213067Z",
     "start_time": "2023-07-01T11:29:37.213067Z"
    },
    "id": "iRsAHk1K0fpS"
   },
   "outputs": [],
   "source": [
    "# Handling Missing Values & Missing Value Imputation"
   ]
  },
  {
   "cell_type": "markdown",
   "metadata": {
    "id": "7wuGOrhz0itI"
   },
   "source": [
    "#### What all missing value imputation techniques have you used and why did you use those techniques?"
   ]
  },
  {
   "cell_type": "markdown",
   "metadata": {
    "id": "1ixusLtI0pqI"
   },
   "source": [
    "Answer Here."
   ]
  },
  {
   "cell_type": "markdown",
   "metadata": {
    "id": "id1riN9m0vUs"
   },
   "source": [
    "### 2. Handling Outliers"
   ]
  },
  {
   "cell_type": "code",
   "execution_count": null,
   "metadata": {
    "ExecuteTime": {
     "end_time": "2023-07-01T11:29:37.213067Z",
     "start_time": "2023-07-01T11:29:37.213067Z"
    },
    "id": "M6w2CzZf04JK"
   },
   "outputs": [],
   "source": [
    "# Handling Outliers & Outlier treatments"
   ]
  },
  {
   "cell_type": "markdown",
   "metadata": {
    "id": "578E2V7j08f6"
   },
   "source": [
    "##### What all outlier treatment techniques have you used and why did you use those techniques?"
   ]
  },
  {
   "cell_type": "markdown",
   "metadata": {
    "id": "uGZz5OrT1HH-"
   },
   "source": [
    "Answer Here."
   ]
  },
  {
   "cell_type": "markdown",
   "metadata": {
    "id": "89xtkJwZ18nB"
   },
   "source": [
    "### 3. Categorical Encoding"
   ]
  },
  {
   "cell_type": "code",
   "execution_count": null,
   "metadata": {
    "ExecuteTime": {
     "end_time": "2023-07-01T11:29:37.213067Z",
     "start_time": "2023-07-01T11:29:37.213067Z"
    },
    "id": "21JmIYMG2hEo"
   },
   "outputs": [],
   "source": [
    "# Encode your categorical columns"
   ]
  },
  {
   "cell_type": "markdown",
   "metadata": {
    "id": "67NQN5KX2AMe"
   },
   "source": [
    "#### What all categorical encoding techniques have you used & why did you use those techniques?"
   ]
  },
  {
   "cell_type": "markdown",
   "metadata": {
    "id": "UDaue5h32n_G"
   },
   "source": [
    "Answer Here."
   ]
  },
  {
   "cell_type": "markdown",
   "metadata": {
    "id": "Iwf50b-R2tYG"
   },
   "source": [
    "### 4. Textual Data Preprocessing\n",
    "(It's mandatory for textual dataset i.e., NLP, Sentiment Analysis, Text Clustering etc.)"
   ]
  },
  {
   "cell_type": "markdown",
   "metadata": {
    "id": "GMQiZwjn3iu7"
   },
   "source": [
    "#### 1. Expand Contraction"
   ]
  },
  {
   "cell_type": "code",
   "execution_count": null,
   "metadata": {
    "ExecuteTime": {
     "end_time": "2023-07-01T11:29:37.227260Z",
     "start_time": "2023-07-01T11:29:37.227260Z"
    },
    "id": "PTouz10C3oNN"
   },
   "outputs": [],
   "source": [
    "# Expand Contraction"
   ]
  },
  {
   "cell_type": "markdown",
   "metadata": {
    "id": "WVIkgGqN3qsr"
   },
   "source": [
    "#### 2. Lower Casing"
   ]
  },
  {
   "cell_type": "code",
   "execution_count": null,
   "metadata": {
    "ExecuteTime": {
     "end_time": "2023-07-01T11:29:37.230251Z",
     "start_time": "2023-07-01T11:29:37.230251Z"
    },
    "id": "88JnJ1jN3w7j"
   },
   "outputs": [],
   "source": [
    "# Lower Casing"
   ]
  },
  {
   "cell_type": "markdown",
   "metadata": {
    "id": "XkPnILGE3zoT"
   },
   "source": [
    "#### 3. Removing Punctuations"
   ]
  },
  {
   "cell_type": "code",
   "execution_count": null,
   "metadata": {
    "ExecuteTime": {
     "end_time": "2023-07-01T11:29:37.233244Z",
     "start_time": "2023-07-01T11:29:37.233244Z"
    },
    "id": "vqbBqNaA33c0"
   },
   "outputs": [],
   "source": [
    "# Remove Punctuations"
   ]
  },
  {
   "cell_type": "markdown",
   "metadata": {
    "id": "Hlsf0x5436Go"
   },
   "source": [
    "#### 4. Removing URLs & Removing words and digits contain digits."
   ]
  },
  {
   "cell_type": "code",
   "execution_count": null,
   "metadata": {
    "ExecuteTime": {
     "end_time": "2023-07-01T11:29:37.236237Z",
     "start_time": "2023-07-01T11:29:37.236237Z"
    },
    "id": "2sxKgKxu4Ip3"
   },
   "outputs": [],
   "source": [
    "# Remove URLs & Remove words and digits contain digits"
   ]
  },
  {
   "cell_type": "markdown",
   "metadata": {
    "id": "mT9DMSJo4nBL"
   },
   "source": [
    "#### 5. Removing Stopwords & Removing White spaces"
   ]
  },
  {
   "cell_type": "code",
   "execution_count": null,
   "metadata": {
    "ExecuteTime": {
     "end_time": "2023-07-01T11:29:37.239228Z",
     "start_time": "2023-07-01T11:29:37.239228Z"
    },
    "id": "T2LSJh154s8W"
   },
   "outputs": [],
   "source": [
    "# Remove Stopwords"
   ]
  },
  {
   "cell_type": "code",
   "execution_count": null,
   "metadata": {
    "ExecuteTime": {
     "end_time": "2023-07-01T11:29:37.243217Z",
     "start_time": "2023-07-01T11:29:37.243217Z"
    },
    "id": "EgLJGffy4vm0"
   },
   "outputs": [],
   "source": [
    "# Remove White spaces"
   ]
  },
  {
   "cell_type": "markdown",
   "metadata": {
    "id": "c49ITxTc407N"
   },
   "source": [
    "#### 6. Rephrase Text"
   ]
  },
  {
   "cell_type": "code",
   "execution_count": null,
   "metadata": {
    "ExecuteTime": {
     "end_time": "2023-07-01T11:29:37.246210Z",
     "start_time": "2023-07-01T11:29:37.246210Z"
    },
    "id": "foqY80Qu48N2"
   },
   "outputs": [],
   "source": [
    "# Rephrase Text"
   ]
  },
  {
   "cell_type": "markdown",
   "metadata": {
    "id": "OeJFEK0N496M"
   },
   "source": [
    "#### 7. Tokenization"
   ]
  },
  {
   "cell_type": "code",
   "execution_count": null,
   "metadata": {
    "ExecuteTime": {
     "end_time": "2023-07-01T11:29:37.249203Z",
     "start_time": "2023-07-01T11:29:37.249203Z"
    },
    "id": "ijx1rUOS5CUU"
   },
   "outputs": [],
   "source": [
    "# Tokenization"
   ]
  },
  {
   "cell_type": "markdown",
   "metadata": {
    "id": "9ExmJH0g5HBk"
   },
   "source": [
    "#### 8. Text Normalization"
   ]
  },
  {
   "cell_type": "code",
   "execution_count": null,
   "metadata": {
    "ExecuteTime": {
     "end_time": "2023-07-01T11:29:37.252193Z",
     "start_time": "2023-07-01T11:29:37.252193Z"
    },
    "id": "AIJ1a-Zc5PY8"
   },
   "outputs": [],
   "source": [
    "# Normalizing Text (i.e., Stemming, Lemmatization etc.)"
   ]
  },
  {
   "cell_type": "markdown",
   "metadata": {
    "id": "cJNqERVU536h"
   },
   "source": [
    "##### Which text normalization technique have you used and why?"
   ]
  },
  {
   "cell_type": "markdown",
   "metadata": {
    "id": "Z9jKVxE06BC1"
   },
   "source": [
    "Answer Here."
   ]
  },
  {
   "cell_type": "markdown",
   "metadata": {
    "id": "k5UmGsbsOxih"
   },
   "source": [
    "#### 9. Part of speech tagging"
   ]
  },
  {
   "cell_type": "code",
   "execution_count": null,
   "metadata": {
    "ExecuteTime": {
     "end_time": "2023-07-01T11:29:37.256183Z",
     "start_time": "2023-07-01T11:29:37.256183Z"
    },
    "id": "btT3ZJBAO6Ik"
   },
   "outputs": [],
   "source": [
    "# POS Taging"
   ]
  },
  {
   "cell_type": "markdown",
   "metadata": {
    "id": "T0VqWOYE6DLQ"
   },
   "source": [
    "#### 10. Text Vectorization"
   ]
  },
  {
   "cell_type": "code",
   "execution_count": null,
   "metadata": {
    "ExecuteTime": {
     "end_time": "2023-07-01T11:29:37.258178Z",
     "start_time": "2023-07-01T11:29:37.258178Z"
    },
    "id": "yBRtdhth6JDE"
   },
   "outputs": [],
   "source": [
    "# Vectorizing Text"
   ]
  },
  {
   "cell_type": "markdown",
   "metadata": {
    "id": "qBMux9mC6MCf"
   },
   "source": [
    "##### Which text vectorization technique have you used and why?"
   ]
  },
  {
   "cell_type": "markdown",
   "metadata": {
    "id": "su2EnbCh6UKQ"
   },
   "source": [
    "Answer Here."
   ]
  },
  {
   "cell_type": "markdown",
   "metadata": {
    "id": "-oLEiFgy-5Pf"
   },
   "source": [
    "### 4. Feature Manipulation & Selection"
   ]
  },
  {
   "cell_type": "markdown",
   "metadata": {
    "id": "C74aWNz2AliB"
   },
   "source": [
    "#### 1. Feature Manipulation"
   ]
  },
  {
   "cell_type": "code",
   "execution_count": null,
   "metadata": {
    "ExecuteTime": {
     "end_time": "2023-07-01T11:29:37.262166Z",
     "start_time": "2023-07-01T11:29:37.262166Z"
    },
    "id": "h1qC4yhBApWC"
   },
   "outputs": [],
   "source": [
    "# Manipulate Features to minimize feature correlation and create new features"
   ]
  },
  {
   "cell_type": "markdown",
   "metadata": {
    "id": "2DejudWSA-a0"
   },
   "source": [
    "#### 2. Feature Selection"
   ]
  },
  {
   "cell_type": "code",
   "execution_count": null,
   "metadata": {
    "ExecuteTime": {
     "end_time": "2023-07-01T11:29:37.265161Z",
     "start_time": "2023-07-01T11:29:37.264162Z"
    },
    "id": "YLhe8UmaBCEE"
   },
   "outputs": [],
   "source": [
    "# Select your features wisely to avoid overfitting"
   ]
  },
  {
   "cell_type": "markdown",
   "metadata": {
    "id": "pEMng2IbBLp7"
   },
   "source": [
    "##### What all feature selection methods have you used  and why?"
   ]
  },
  {
   "cell_type": "markdown",
   "metadata": {
    "id": "rb2Lh6Z8BgGs"
   },
   "source": [
    "Answer Here."
   ]
  },
  {
   "cell_type": "markdown",
   "metadata": {
    "id": "rAdphbQ9Bhjc"
   },
   "source": [
    "##### Which all features you found important and why?"
   ]
  },
  {
   "cell_type": "markdown",
   "metadata": {
    "id": "fGgaEstsBnaf"
   },
   "source": [
    "Answer Here."
   ]
  },
  {
   "cell_type": "markdown",
   "metadata": {
    "id": "TNVZ9zx19K6k"
   },
   "source": [
    "### 5. Data Transformation"
   ]
  },
  {
   "cell_type": "markdown",
   "metadata": {
    "id": "nqoHp30x9hH9"
   },
   "source": [
    "#### Do you think that your data needs to be transformed? If yes, which transformation have you used. Explain Why?"
   ]
  },
  {
   "cell_type": "code",
   "execution_count": null,
   "metadata": {
    "ExecuteTime": {
     "end_time": "2023-07-01T11:29:37.268151Z",
     "start_time": "2023-07-01T11:29:37.268151Z"
    },
    "id": "I6quWQ1T9rtH"
   },
   "outputs": [],
   "source": [
    "# Transform Your data"
   ]
  },
  {
   "cell_type": "markdown",
   "metadata": {
    "id": "rMDnDkt2B6du"
   },
   "source": [
    "### 6. Data Scaling"
   ]
  },
  {
   "cell_type": "code",
   "execution_count": null,
   "metadata": {
    "ExecuteTime": {
     "end_time": "2023-07-01T11:29:37.271143Z",
     "start_time": "2023-07-01T11:29:37.271143Z"
    },
    "id": "dL9LWpySC6x_"
   },
   "outputs": [],
   "source": [
    "# Scaling your data"
   ]
  },
  {
   "cell_type": "markdown",
   "metadata": {
    "id": "yiiVWRdJDDil"
   },
   "source": [
    "##### Which method have you used to scale you data and why?"
   ]
  },
  {
   "cell_type": "markdown",
   "metadata": {
    "id": "1UUpS68QDMuG"
   },
   "source": [
    "### 7. Dimesionality Reduction"
   ]
  },
  {
   "cell_type": "markdown",
   "metadata": {
    "id": "kexQrXU-DjzY"
   },
   "source": [
    "##### Do you think that dimensionality reduction is needed? Explain Why?"
   ]
  },
  {
   "cell_type": "markdown",
   "metadata": {
    "id": "GGRlBsSGDtTQ"
   },
   "source": [
    "Answer Here."
   ]
  },
  {
   "cell_type": "code",
   "execution_count": null,
   "metadata": {
    "ExecuteTime": {
     "end_time": "2023-07-01T11:29:37.274135Z",
     "start_time": "2023-07-01T11:29:37.274135Z"
    },
    "id": "kQfvxBBHDvCa"
   },
   "outputs": [],
   "source": [
    "# DImensionality Reduction (If needed)"
   ]
  },
  {
   "cell_type": "markdown",
   "metadata": {
    "id": "T5CmagL3EC8N"
   },
   "source": [
    "##### Which dimensionality reduction technique have you used and why? (If dimensionality reduction done on dataset.)"
   ]
  },
  {
   "cell_type": "markdown",
   "metadata": {
    "id": "ZKr75IDuEM7t"
   },
   "source": [
    "Answer Here."
   ]
  },
  {
   "cell_type": "markdown",
   "metadata": {
    "id": "BhH2vgX9EjGr"
   },
   "source": [
    "### 8. Data Splitting"
   ]
  },
  {
   "cell_type": "code",
   "execution_count": null,
   "metadata": {
    "ExecuteTime": {
     "end_time": "2023-07-01T11:29:37.277127Z",
     "start_time": "2023-07-01T11:29:37.277127Z"
    },
    "id": "0CTyd2UwEyNM"
   },
   "outputs": [],
   "source": [
    "# Split your data to train and test. Choose Splitting ratio wisely."
   ]
  },
  {
   "cell_type": "markdown",
   "metadata": {
    "id": "qjKvONjwE8ra"
   },
   "source": [
    "##### What data splitting ratio have you used and why?"
   ]
  },
  {
   "cell_type": "markdown",
   "metadata": {
    "id": "Y2lJ8cobFDb_"
   },
   "source": [
    "Answer Here."
   ]
  },
  {
   "cell_type": "markdown",
   "metadata": {
    "id": "P1XJ9OREExlT"
   },
   "source": [
    "### 9. Handling Imbalanced Dataset"
   ]
  },
  {
   "cell_type": "markdown",
   "metadata": {
    "id": "VFOzZv6IFROw"
   },
   "source": [
    "##### Do you think the dataset is imbalanced? Explain Why."
   ]
  },
  {
   "cell_type": "markdown",
   "metadata": {
    "id": "GeKDIv7pFgcC"
   },
   "source": [
    "Answer Here."
   ]
  },
  {
   "cell_type": "code",
   "execution_count": null,
   "metadata": {
    "ExecuteTime": {
     "end_time": "2023-07-01T11:29:37.280119Z",
     "start_time": "2023-07-01T11:29:37.280119Z"
    },
    "id": "nQsRhhZLFiDs"
   },
   "outputs": [],
   "source": [
    "# Handling Imbalanced Dataset (If needed)"
   ]
  },
  {
   "cell_type": "markdown",
   "metadata": {
    "id": "TIqpNgepFxVj"
   },
   "source": [
    "##### What technique did you use to handle the imbalance dataset and why? (If needed to be balanced)"
   ]
  },
  {
   "cell_type": "markdown",
   "metadata": {
    "id": "qbet1HwdGDTz"
   },
   "source": [
    "Answer Here."
   ]
  },
  {
   "cell_type": "markdown",
   "metadata": {
    "id": "VfCC591jGiD4"
   },
   "source": [
    "## ***7. ML Model Implementation***"
   ]
  },
  {
   "cell_type": "markdown",
   "metadata": {
    "id": "OB4l2ZhMeS1U"
   },
   "source": [
    "### ML Model - 1"
   ]
  },
  {
   "cell_type": "code",
   "execution_count": null,
   "metadata": {
    "ExecuteTime": {
     "end_time": "2023-07-01T11:29:37.283111Z",
     "start_time": "2023-07-01T11:29:37.283111Z"
    },
    "id": "7ebyywQieS1U"
   },
   "outputs": [],
   "source": [
    "# ML Model - 1 Implementation\n",
    "\n",
    "# Fit the Algorithm\n",
    "\n",
    "# Predict on the model"
   ]
  },
  {
   "cell_type": "markdown",
   "metadata": {
    "id": "ArJBuiUVfxKd"
   },
   "source": [
    "#### 1. Explain the ML Model used and it's performance using Evaluation metric Score Chart."
   ]
  },
  {
   "cell_type": "code",
   "execution_count": null,
   "metadata": {
    "ExecuteTime": {
     "end_time": "2023-07-01T11:29:37.286103Z",
     "start_time": "2023-07-01T11:29:37.286103Z"
    },
    "id": "rqD5ZohzfxKe"
   },
   "outputs": [],
   "source": [
    "# Visualizing evaluation Metric Score chart"
   ]
  },
  {
   "cell_type": "markdown",
   "metadata": {
    "id": "4qY1EAkEfxKe"
   },
   "source": [
    "#### 2. Cross- Validation & Hyperparameter Tuning"
   ]
  },
  {
   "cell_type": "code",
   "execution_count": null,
   "metadata": {
    "ExecuteTime": {
     "end_time": "2023-07-01T11:29:37.289095Z",
     "start_time": "2023-07-01T11:29:37.289095Z"
    },
    "id": "Dy61ujd6fxKe"
   },
   "outputs": [],
   "source": [
    "# ML Model - 1 Implementation with hyperparameter optimization techniques (i.e., GridSearch CV, RandomSearch CV, Bayesian Optimization etc.)\n",
    "\n",
    "# Fit the Algorithm\n",
    "\n",
    "# Predict on the model"
   ]
  },
  {
   "cell_type": "markdown",
   "metadata": {
    "id": "PiV4Ypx8fxKe"
   },
   "source": [
    "##### Which hyperparameter optimization technique have you used and why?"
   ]
  },
  {
   "cell_type": "markdown",
   "metadata": {
    "id": "negyGRa7fxKf"
   },
   "source": [
    "Answer Here."
   ]
  },
  {
   "cell_type": "markdown",
   "metadata": {
    "id": "TfvqoZmBfxKf"
   },
   "source": [
    "##### Have you seen any improvement? Note down the improvement with updates Evaluation metric Score Chart."
   ]
  },
  {
   "cell_type": "markdown",
   "metadata": {
    "id": "OaLui8CcfxKf"
   },
   "source": [
    "Answer Here."
   ]
  },
  {
   "cell_type": "markdown",
   "metadata": {
    "id": "dJ2tPlVmpsJ0"
   },
   "source": [
    "### ML Model - 2"
   ]
  },
  {
   "cell_type": "markdown",
   "metadata": {
    "id": "JWYfwnehpsJ1"
   },
   "source": [
    "#### 1. Explain the ML Model used and it's performance using Evaluation metric Score Chart."
   ]
  },
  {
   "cell_type": "code",
   "execution_count": null,
   "metadata": {
    "ExecuteTime": {
     "end_time": "2023-07-01T11:29:37.292086Z",
     "start_time": "2023-07-01T11:29:37.292086Z"
    },
    "id": "yEl-hgQWpsJ1"
   },
   "outputs": [],
   "source": [
    "# Visualizing evaluation Metric Score chart"
   ]
  },
  {
   "cell_type": "markdown",
   "metadata": {
    "id": "-jK_YjpMpsJ2"
   },
   "source": [
    "#### 2. Cross- Validation & Hyperparameter Tuning"
   ]
  },
  {
   "cell_type": "code",
   "execution_count": null,
   "metadata": {
    "ExecuteTime": {
     "end_time": "2023-07-01T11:29:37.294637Z",
     "start_time": "2023-07-01T11:29:37.294637Z"
    },
    "id": "Dn0EOfS6psJ2"
   },
   "outputs": [],
   "source": [
    "# ML Model - 1 Implementation with hyperparameter optimization techniques (i.e., GridSearch CV, RandomSearch CV, Bayesian Optimization etc.)\n",
    "\n",
    "# Fit the Algorithm\n",
    "\n",
    "# Predict on the model"
   ]
  },
  {
   "cell_type": "markdown",
   "metadata": {
    "id": "HAih1iBOpsJ2"
   },
   "source": [
    "##### Which hyperparameter optimization technique have you used and why?"
   ]
  },
  {
   "cell_type": "markdown",
   "metadata": {
    "id": "9kBgjYcdpsJ2"
   },
   "source": [
    "Answer Here."
   ]
  },
  {
   "cell_type": "markdown",
   "metadata": {
    "id": "zVGeBEFhpsJ2"
   },
   "source": [
    "##### Have you seen any improvement? Note down the improvement with updates Evaluation metric Score Chart."
   ]
  },
  {
   "cell_type": "markdown",
   "metadata": {
    "id": "74yRdG6UpsJ3"
   },
   "source": [
    "Answer Here."
   ]
  },
  {
   "cell_type": "markdown",
   "metadata": {
    "id": "bmKjuQ-FpsJ3"
   },
   "source": [
    "#### 3. Explain each evaluation metric's indication towards business and the business impact pf the ML model used."
   ]
  },
  {
   "cell_type": "markdown",
   "metadata": {
    "id": "BDKtOrBQpsJ3"
   },
   "source": [
    "Answer Here."
   ]
  },
  {
   "cell_type": "markdown",
   "metadata": {
    "id": "Fze-IPXLpx6K"
   },
   "source": [
    "### ML Model - 3"
   ]
  },
  {
   "cell_type": "code",
   "execution_count": null,
   "metadata": {
    "ExecuteTime": {
     "end_time": "2023-07-01T11:29:37.294637Z",
     "start_time": "2023-07-01T11:29:37.294637Z"
    },
    "id": "FFrSXAtrpx6M"
   },
   "outputs": [],
   "source": [
    "# ML Model - 3 Implementation\n",
    "\n",
    "# Fit the Algorithm\n",
    "\n",
    "# Predict on the model"
   ]
  },
  {
   "cell_type": "markdown",
   "metadata": {
    "id": "7AN1z2sKpx6M"
   },
   "source": [
    "#### 1. Explain the ML Model used and it's performance using Evaluation metric Score Chart."
   ]
  },
  {
   "cell_type": "code",
   "execution_count": null,
   "metadata": {
    "ExecuteTime": {
     "end_time": "2023-07-01T11:29:37.294637Z",
     "start_time": "2023-07-01T11:29:37.294637Z"
    },
    "id": "xIY4lxxGpx6M"
   },
   "outputs": [],
   "source": [
    "# Visualizing evaluation Metric Score chart"
   ]
  },
  {
   "cell_type": "markdown",
   "metadata": {
    "id": "9PIHJqyupx6M"
   },
   "source": [
    "#### 2. Cross- Validation & Hyperparameter Tuning"
   ]
  },
  {
   "cell_type": "code",
   "execution_count": null,
   "metadata": {
    "ExecuteTime": {
     "end_time": "2023-07-01T11:29:37.294637Z",
     "start_time": "2023-07-01T11:29:37.294637Z"
    },
    "id": "eSVXuaSKpx6M"
   },
   "outputs": [],
   "source": [
    "# ML Model - 3 Implementation with hyperparameter optimization techniques (i.e., GridSearch CV, RandomSearch CV, Bayesian Optimization etc.)\n",
    "\n",
    "# Fit the Algorithm\n",
    "\n",
    "# Predict on the model"
   ]
  },
  {
   "cell_type": "markdown",
   "metadata": {
    "id": "_-qAgymDpx6N"
   },
   "source": [
    "##### Which hyperparameter optimization technique have you used and why?"
   ]
  },
  {
   "cell_type": "markdown",
   "metadata": {
    "id": "lQMffxkwpx6N"
   },
   "source": [
    "Answer Here."
   ]
  },
  {
   "cell_type": "markdown",
   "metadata": {
    "id": "Z-hykwinpx6N"
   },
   "source": [
    "##### Have you seen any improvement? Note down the improvement with updates Evaluation metric Score Chart."
   ]
  },
  {
   "cell_type": "markdown",
   "metadata": {
    "id": "MzVzZC6opx6N"
   },
   "source": [
    "Answer Here."
   ]
  },
  {
   "cell_type": "markdown",
   "metadata": {
    "id": "h_CCil-SKHpo"
   },
   "source": [
    "### 1. Which Evaluation metrics did you consider for a positive business impact and why?"
   ]
  },
  {
   "cell_type": "markdown",
   "metadata": {
    "id": "jHVz9hHDKFms"
   },
   "source": [
    "Answer Here."
   ]
  },
  {
   "cell_type": "markdown",
   "metadata": {
    "id": "cBFFvTBNJzUa"
   },
   "source": [
    "### 2. Which ML model did you choose from the above created models as your final prediction model and why?"
   ]
  },
  {
   "cell_type": "markdown",
   "metadata": {
    "id": "6ksF5Q1LKTVm"
   },
   "source": [
    "Answer Here."
   ]
  },
  {
   "cell_type": "markdown",
   "metadata": {
    "id": "HvGl1hHyA_VK"
   },
   "source": [
    "### 3. Explain the model which you have used and the feature importance using any model explainability tool?"
   ]
  },
  {
   "cell_type": "markdown",
   "metadata": {
    "id": "YnvVTiIxBL-C"
   },
   "source": [
    "Answer Here."
   ]
  },
  {
   "cell_type": "markdown",
   "metadata": {
    "id": "EyNgTHvd2WFk"
   },
   "source": [
    "## ***8.*** ***Future Work (Optional)***"
   ]
  },
  {
   "cell_type": "markdown",
   "metadata": {
    "id": "KH5McJBi2d8v"
   },
   "source": [
    "### 1. Save the best performing ml model in a pickle file or joblib file format for deployment process.\n"
   ]
  },
  {
   "cell_type": "code",
   "execution_count": null,
   "metadata": {
    "ExecuteTime": {
     "end_time": "2023-07-01T11:29:37.308629Z",
     "start_time": "2023-07-01T11:29:37.308629Z"
    },
    "id": "bQIANRl32f4J"
   },
   "outputs": [],
   "source": [
    "# Save the File"
   ]
  },
  {
   "cell_type": "markdown",
   "metadata": {
    "id": "iW_Lq9qf2h6X"
   },
   "source": [
    "### 2. Again Load the saved model file and try to predict unseen data for a sanity check.\n"
   ]
  },
  {
   "cell_type": "code",
   "execution_count": null,
   "metadata": {
    "ExecuteTime": {
     "end_time": "2023-07-01T11:29:37.312619Z",
     "start_time": "2023-07-01T11:29:37.312619Z"
    },
    "id": "oEXk9ydD2nVC"
   },
   "outputs": [],
   "source": [
    "# Load the File and predict unseen data."
   ]
  },
  {
   "cell_type": "markdown",
   "metadata": {
    "id": "-Kee-DAl2viO"
   },
   "source": [
    "### ***Congrats! Your model is successfully created and ready for deployment on a live server for a real user interaction !!!***"
   ]
  },
  {
   "cell_type": "markdown",
   "metadata": {
    "id": "gCX9965dhzqZ"
   },
   "source": [
    "# **Conclusion**"
   ]
  },
  {
   "cell_type": "markdown",
   "metadata": {
    "id": "Fjb1IsQkh3yE"
   },
   "source": [
    "Write the conclusion here."
   ]
  },
  {
   "cell_type": "markdown",
   "metadata": {
    "id": "gIfDvo9L0UH2"
   },
   "source": [
    "### ***Hurrah! You have successfully completed your Machine Learning Capstone Project !!!***"
   ]
  }
 ],
 "metadata": {
  "colab": {
   "collapsed_sections": [
    "vncDsAP0Gaoa",
    "FJNUwmbgGyua",
    "w6K7xa23Elo4",
    "yQaldy8SH6Dl",
    "mDgbUHAGgjLW",
    "O_i_v8NEhb9l",
    "HhfV-JJviCcP",
    "Y3lxredqlCYt",
    "3RnN4peoiCZX",
    "x71ZqKXriCWQ",
    "7hBIi_osiCS2",
    "JlHwYmJAmNHm",
    "35m5QtbWiB9F",
    "PoPl-ycgm1ru",
    "H0kj-8xxnORC",
    "nA9Y7ga8ng1Z",
    "PBTbrJXOngz2",
    "u3PMJOP6ngxN",
    "dauF4eBmngu3",
    "bKJF3rekwFvQ",
    "MSa1f5Uengrz",
    "GF8Ens_Soomf",
    "0wOQAZs5pc--",
    "K5QZ13OEpz2H",
    "lQ7QKXXCp7Bj",
    "448CDAPjqfQr",
    "KSlN3yHqYklG",
    "t6dVpIINYklI",
    "ijmpgYnKYklI",
    "-JiQyfWJYklI",
    "EM7whBJCYoAo",
    "fge-S5ZAYoAp",
    "85gYPyotYoAp",
    "RoGjAbkUYoAp",
    "4Of9eVA-YrdM",
    "iky9q4vBYrdO",
    "F6T5p64dYrdO",
    "y-Ehk30pYrdP",
    "bamQiAODYuh1",
    "QHF8YVU7Yuh3",
    "GwzvFGzlYuh3",
    "qYpmQ266Yuh3",
    "OH-pJp9IphqM",
    "bbFf2-_FphqN",
    "_ouA3fa0phqN",
    "Seke61FWphqN",
    "PIIx-8_IphqN",
    "t27r6nlMphqO",
    "r2jJGEOYphqO",
    "b0JNsNcRphqO",
    "BZR9WyysphqO",
    "jj7wYXLtphqO",
    "eZrbJ2SmphqO",
    "rFu4xreNphqO",
    "YJ55k-q6phqO",
    "gCFgpxoyphqP",
    "OVtJsKN_phqQ",
    "lssrdh5qphqQ",
    "U2RJ9gkRphqQ",
    "1M8mcRywphqQ",
    "tgIPom80phqQ",
    "JMzcOPDDphqR",
    "x-EpHcCOp1ci",
    "X_VqEhTip1ck",
    "8zGJKyg5p1ck",
    "PVzmfK_Ep1ck",
    "n3dbpmDWp1ck",
    "ylSl6qgtp1ck",
    "ZWILFDl5p1ck",
    "M7G43BXep1ck",
    "Ag9LCva-p1cl",
    "E6MkPsBcp1cl",
    "2cELzS2fp1cl",
    "3MPXvC8up1cl",
    "NC_X3p0fY2L0",
    "UV0SzAkaZNRQ",
    "YPEH6qLeZNRQ",
    "q29F0dvdveiT",
    "EXh0U9oCveiU",
    "22aHeOlLveiV",
    "g-ATYxFrGrvw",
    "Yfr_Vlr8HBkt",
    "8yEUt7NnHlrM",
    "tEA2Xm5dHt1r",
    "I79__PHVH19G",
    "Ou-I18pAyIpj",
    "fF3858GYyt-u",
    "4_0_7-oCpUZd",
    "hwyV_J3ipUZe",
    "3yB-zSqbpUZe",
    "dEUvejAfpUZe",
    "Fd15vwWVpUZf",
    "bn_IUdTipZyH",
    "49K5P_iCpZyH",
    "Nff-vKELpZyI",
    "kLW572S8pZyI",
    "dWbDXHzopZyI",
    "yLjJCtPM0KBk",
    "xiyOF9F70UgQ",
    "7wuGOrhz0itI",
    "id1riN9m0vUs",
    "578E2V7j08f6",
    "89xtkJwZ18nB",
    "67NQN5KX2AMe",
    "Iwf50b-R2tYG",
    "GMQiZwjn3iu7",
    "WVIkgGqN3qsr",
    "XkPnILGE3zoT",
    "Hlsf0x5436Go",
    "mT9DMSJo4nBL",
    "c49ITxTc407N",
    "OeJFEK0N496M",
    "9ExmJH0g5HBk",
    "cJNqERVU536h",
    "k5UmGsbsOxih",
    "T0VqWOYE6DLQ",
    "qBMux9mC6MCf",
    "-oLEiFgy-5Pf",
    "C74aWNz2AliB",
    "2DejudWSA-a0",
    "pEMng2IbBLp7",
    "rAdphbQ9Bhjc",
    "TNVZ9zx19K6k",
    "nqoHp30x9hH9",
    "rMDnDkt2B6du",
    "yiiVWRdJDDil",
    "1UUpS68QDMuG",
    "kexQrXU-DjzY",
    "T5CmagL3EC8N",
    "BhH2vgX9EjGr",
    "qjKvONjwE8ra",
    "P1XJ9OREExlT",
    "VFOzZv6IFROw",
    "TIqpNgepFxVj",
    "VfCC591jGiD4",
    "OB4l2ZhMeS1U",
    "ArJBuiUVfxKd",
    "4qY1EAkEfxKe",
    "PiV4Ypx8fxKe",
    "TfvqoZmBfxKf",
    "dJ2tPlVmpsJ0",
    "JWYfwnehpsJ1",
    "-jK_YjpMpsJ2",
    "HAih1iBOpsJ2",
    "zVGeBEFhpsJ2",
    "bmKjuQ-FpsJ3",
    "Fze-IPXLpx6K",
    "7AN1z2sKpx6M",
    "9PIHJqyupx6M",
    "_-qAgymDpx6N",
    "Z-hykwinpx6N",
    "h_CCil-SKHpo",
    "cBFFvTBNJzUa",
    "HvGl1hHyA_VK",
    "EyNgTHvd2WFk",
    "KH5McJBi2d8v",
    "iW_Lq9qf2h6X",
    "-Kee-DAl2viO",
    "gCX9965dhzqZ",
    "gIfDvo9L0UH2"
   ],
   "private_outputs": true,
   "provenance": []
  },
  "kernelspec": {
   "display_name": "Python 3 (ipykernel)",
   "language": "python",
   "name": "python3"
  },
  "language_info": {
   "codemirror_mode": {
    "name": "ipython",
    "version": 3
   },
   "file_extension": ".py",
   "mimetype": "text/x-python",
   "name": "python",
   "nbconvert_exporter": "python",
   "pygments_lexer": "ipython3",
   "version": "3.9.13"
  },
  "varInspector": {
   "cols": {
    "lenName": 16,
    "lenType": 16,
    "lenVar": 40
   },
   "kernels_config": {
    "python": {
     "delete_cmd_postfix": "",
     "delete_cmd_prefix": "del ",
     "library": "var_list.py",
     "varRefreshCmd": "print(var_dic_list())"
    },
    "r": {
     "delete_cmd_postfix": ") ",
     "delete_cmd_prefix": "rm(",
     "library": "var_list.r",
     "varRefreshCmd": "cat(var_dic_list()) "
    }
   },
   "types_to_exclude": [
    "module",
    "function",
    "builtin_function_or_method",
    "instance",
    "_Feature"
   ],
   "window_display": false
  }
 },
 "nbformat": 4,
 "nbformat_minor": 1
}
